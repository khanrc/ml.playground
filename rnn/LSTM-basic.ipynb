{
 "cells": [
  {
   "cell_type": "markdown",
   "metadata": {
    "deletable": true,
    "editable": true
   },
   "source": [
    "# LSTM implements"
   ]
  },
  {
   "cell_type": "markdown",
   "metadata": {
    "deletable": true,
    "editable": true
   },
   "source": [
    "RNN/LSTM/GRU 에 대해 다양한 실험을 해 보는 것을 목표로 한다.\n",
    "\n",
    "* feed-forward LSTM\n",
    "    * https://notebooks.azure.com/hoyean-song/libraries/tensorflow-tutorial/html/LSTM%20breakdown.ipynb\n",
    "* implements LSTM & GRU without cell wrapper\n",
    "    * LSTMCell 같은거 사용하지 않고 tf 의 autogradient 기능만을 활용하여 구현\n",
    "* implements LSTM & GRU using cell wrapper\n",
    "\n",
    "여기까지를 일단 목표로!"
   ]
  },
  {
   "cell_type": "markdown",
   "metadata": {
    "deletable": true,
    "editable": true
   },
   "source": [
    "## feed-forward LSTM"
   ]
  },
  {
   "cell_type": "markdown",
   "metadata": {
    "deletable": true,
    "editable": true
   },
   "source": [
    "https://notebooks.azure.com/hoyean-song/libraries/tensorflow-tutorial/html/LSTM%20breakdown.ipynb"
   ]
  },
  {
   "cell_type": "code",
   "execution_count": 13,
   "metadata": {
    "collapsed": true,
    "deletable": true,
    "editable": true
   },
   "outputs": [],
   "source": [
    "import tensorflow as tf\n",
    "import numpy as np"
   ]
  },
  {
   "cell_type": "markdown",
   "metadata": {
    "deletable": true,
    "editable": true
   },
   "source": [
    "### LSTM with numpy"
   ]
  },
  {
   "cell_type": "markdown",
   "metadata": {
    "deletable": true,
    "editable": true
   },
   "source": [
    "아마 원래 식 대로면 h, x 에 대해서 W_hi, W_xi, W_hf, ... 등등 해서 수많은 weight 가 존재하는데 이걸 하나로 합칠 수 있는 듯 (물론 파라메터의 수는 그대로).  \n",
    "일단 h 랑 x 랑 concat 해서 사용하면 절반으로 줄일 수 있고, i, f, c, o 에 대해서도 한번에 연산. \n",
    "\n",
    "다만 이 경우 원 식에 있는걸 그대로 재현이 안되는거 같은데... 일단 짜고 생각해보자."
   ]
  },
  {
   "cell_type": "code",
   "execution_count": 14,
   "metadata": {
    "collapsed": true,
    "deletable": true,
    "editable": true
   },
   "outputs": [],
   "source": [
    "def sigmoid(x):\n",
    "    return 1 / (1 + np.exp(-x))"
   ]
  },
  {
   "cell_type": "code",
   "execution_count": 15,
   "metadata": {
    "collapsed": false,
    "deletable": true,
    "editable": true
   },
   "outputs": [],
   "source": [
    "# chk: what's this x, c, h ?\n",
    "# x: input x\n",
    "# h: hidden state of before cell (=> output of before cell)\n",
    "# c: cell weights...?\n",
    "\n",
    "x = np.array([[1., 1., 1.]])\n",
    "c = 0.1 * np.array([[0, 1]])\n",
    "h = 0.1 * np.array([[2, 3]])\n",
    "\n",
    "num_units = 2\n",
    "xh = np.concatenate([x, h], axis=1)"
   ]
  },
  {
   "cell_type": "code",
   "execution_count": 16,
   "metadata": {
    "collapsed": true,
    "deletable": true,
    "editable": true
   },
   "outputs": [],
   "source": [
    "# every weights are set 0.5\n",
    "\n",
    "W = np.ones([xh.shape[1], num_units*4]) * 0.5\n",
    "b = np.ones([num_units*4]) * 0.5"
   ]
  },
  {
   "cell_type": "code",
   "execution_count": 17,
   "metadata": {
    "collapsed": false,
    "deletable": true,
    "editable": true,
    "scrolled": true
   },
   "outputs": [],
   "source": [
    "f, i, o, g = np.split(np.matmul(xh, W) + b, 4, axis=1)"
   ]
  },
  {
   "cell_type": "code",
   "execution_count": 18,
   "metadata": {
    "collapsed": false,
    "deletable": true,
    "editable": true
   },
   "outputs": [
    {
     "name": "stdout",
     "output_type": "stream",
     "text": [
      "[[ 2.25  2.25]]\n",
      "[[ 2.25  2.25]]\n",
      "[[ 2.25  2.25]]\n",
      "[[ 2.25  2.25]]\n"
     ]
    }
   ],
   "source": [
    "print f\n",
    "print i\n",
    "print o\n",
    "print g"
   ]
  },
  {
   "cell_type": "code",
   "execution_count": 19,
   "metadata": {
    "collapsed": false,
    "deletable": true,
    "editable": true
   },
   "outputs": [],
   "source": [
    "# forget_bias: https://github.com/pytorch/pytorch/issues/750\n",
    "# forget gate 의 경우 이렇게 bias 를 높게 잡아주는것이 (0이 아니라 1로 잡아주는것이) 더 좋은 성능을 낸다나 봄.\n",
    "forget_bias = np.ones_like(f)\n",
    "\n",
    "new_c = sigmoid(f + forget_bias) * c + sigmoid(i) * np.tanh(g)\n",
    "new_h = sigmoid(o) * np.tanh(new_c)"
   ]
  },
  {
   "cell_type": "code",
   "execution_count": 20,
   "metadata": {
    "collapsed": false,
    "deletable": true,
    "editable": true,
    "scrolled": true
   },
   "outputs": [
    {
     "name": "stdout",
     "output_type": "stream",
     "text": [
      "[[ 0.88477185  0.98103916]]\n",
      "[[ 0.64121796  0.68166811]]\n"
     ]
    }
   ],
   "source": [
    "print new_c\n",
    "print new_h"
   ]
  },
  {
   "cell_type": "markdown",
   "metadata": {
    "deletable": true,
    "editable": true
   },
   "source": [
    "### LSTMCell in TF"
   ]
  },
  {
   "cell_type": "code",
   "execution_count": 21,
   "metadata": {
    "collapsed": true,
    "deletable": true,
    "editable": true
   },
   "outputs": [],
   "source": [
    "from tensorflow.python.ops import variable_scope\n",
    "from tensorflow.python.ops import init_ops\n",
    "from tensorflow.python.ops import math_ops\n",
    "from tensorflow.python.ops import array_ops\n",
    "from tensorflow.python.ops import variables\n",
    "from tensorflow.contrib.rnn.python.ops import core_rnn_cell_impl\n",
    "from tensorflow.contrib.rnn.python.ops import rnn_cell"
   ]
  },
  {
   "cell_type": "code",
   "execution_count": 22,
   "metadata": {
    "collapsed": false,
    "deletable": true,
    "editable": true
   },
   "outputs": [
    {
     "name": "stdout",
     "output_type": "stream",
     "text": [
      "[[ 0.64121789  0.68166804]]\n",
      "[[ 0.88477182  0.98103911]]\n",
      "[[ 0.64121789  0.68166804]]\n",
      "1.32727097646e-07\n",
      "7.66189002244e-08\n"
     ]
    }
   ],
   "source": [
    "tf.reset_default_graph()\n",
    "\n",
    "with variable_scope.variable_scope(\"other\", initializer=init_ops.constant_initializer(0.5)) as vs:\n",
    "    x = array_ops.zeros([1, 3])  # Test BasicLSTMCell with input_size != num_units.\n",
    "    c = array_ops.zeros([1, 2])\n",
    "    h = array_ops.zeros([1, 2])\n",
    "    state = core_rnn_cell_impl.LSTMStateTuple(c, h)\n",
    "    cell = rnn_cell.LayerNormBasicLSTMCell(num_units=2, forget_bias=1.0, layer_norm=False)\n",
    "    g, out_m = cell(x, state)\n",
    "\n",
    "with tf.Session() as sess:\n",
    "    sess.run(variables.global_variables_initializer())\n",
    "        \n",
    "    res = sess.run([g, out_m], {\n",
    "      x: np.array([[1., 1., 1.]]),\n",
    "      c: 0.1 * np.array([[0, 1]]),\n",
    "      h: 0.1 * np.array([[2, 3]]),\n",
    "    })\n",
    "\n",
    "    print res[0]\n",
    "    print res[1].c\n",
    "    print res[1].h\n",
    "\n",
    "#     expected_h = np.array([[ 0.64121795, 0.68166804]])\n",
    "#     expected_c = np.array([[ 0.88477188, 0.98103917]])\n",
    "    \n",
    "#     assert np.sum(np.abs(res[1].h - expected_h)) <= 1e-6\n",
    "#     assert np.sum(np.abs(res[1].c - expected_c)) <= 1e-6\n",
    "\n",
    "    print np.sum(np.abs(res[1].h - new_h))\n",
    "    print np.sum(np.abs(res[1].c - new_c))\n",
    "    \n",
    "    assert np.sum(np.abs(res[1].h - new_h)) <= 1e-6\n",
    "    assert np.sum(np.abs(res[1].c - new_c)) <= 1e-6"
   ]
  },
  {
   "cell_type": "code",
   "execution_count": 23,
   "metadata": {
    "collapsed": false,
    "deletable": true,
    "editable": true
   },
   "outputs": [
    {
     "data": {
      "text/plain": [
       "<tf.Tensor 'other/zeros:0' shape=(1, 3) dtype=float32>"
      ]
     },
     "execution_count": 23,
     "metadata": {},
     "output_type": "execute_result"
    }
   ],
   "source": [
    "x"
   ]
  },
  {
   "cell_type": "code",
   "execution_count": 24,
   "metadata": {
    "collapsed": false,
    "deletable": true,
    "editable": true
   },
   "outputs": [
    {
     "data": {
      "text/plain": [
       "u'other/zeros:0'"
      ]
     },
     "execution_count": 24,
     "metadata": {},
     "output_type": "execute_result"
    }
   ],
   "source": [
    "x.name"
   ]
  },
  {
   "cell_type": "code",
   "execution_count": null,
   "metadata": {
    "collapsed": true,
    "deletable": true,
    "editable": true
   },
   "outputs": [],
   "source": []
  }
 ],
 "metadata": {
  "kernelspec": {
   "display_name": "Python 2 - tf 1.1",
   "language": "python",
   "name": "python2-tf1.1"
  },
  "language_info": {
   "codemirror_mode": {
    "name": "ipython",
    "version": 2
   },
   "file_extension": ".py",
   "mimetype": "text/x-python",
   "name": "python",
   "nbconvert_exporter": "python",
   "pygments_lexer": "ipython2",
   "version": "2.7.6"
  }
 },
 "nbformat": 4,
 "nbformat_minor": 2
}
