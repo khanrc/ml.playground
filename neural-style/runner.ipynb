{
 "cells": [
  {
   "cell_type": "code",
   "execution_count": 11,
   "metadata": {
    "collapsed": true
   },
   "outputs": [],
   "source": [
    "import os\n",
    "import glob\n",
    "from main import output_path\n",
    "from IPython.display import HTML, display\n",
    "import subprocess"
   ]
  },
  {
   "cell_type": "code",
   "execution_count": 2,
   "metadata": {
    "collapsed": true
   },
   "outputs": [],
   "source": [
    "style_dir = 'images/style/'\n",
    "content_dir = 'images/content/'"
   ]
  },
  {
   "cell_type": "code",
   "execution_count": 3,
   "metadata": {
    "collapsed": true
   },
   "outputs": [],
   "source": [
    "image_format = \"<img style='height: 200px; margin: 5px; float: left; border: 0px solid black;' src='{}' />\""
   ]
  },
  {
   "cell_type": "code",
   "execution_count": 4,
   "metadata": {
    "collapsed": true
   },
   "outputs": [],
   "source": [
    "def make_html(paths):\n",
    "    formats = [image_format.format(path) for path in paths]\n",
    "    return \"\".join(formats)"
   ]
  },
  {
   "cell_type": "code",
   "execution_count": null,
   "metadata": {
    "collapsed": false
   },
   "outputs": [
    {
     "name": "stdout",
     "output_type": "stream",
     "text": [
      "flash.jpg starry-night.jpg\n"
     ]
    }
   ],
   "source": [
    "res_htmls = []\n",
    "for cn in os.listdir(content_dir):\n",
    "    for sn in os.listdir(style_dir):\n",
    "        print cn, sn\n",
    "        cp = os.path.join(content_dir, cn)\n",
    "        sp = os.path.join(style_dir, sn)\n",
    "        command = 'CUDA_VISIBLE_DEVICES=1 python main.py --content {} --style {}'.format(cp, sp)\n",
    "        process = subprocess.Popen(command, shell=True, stdout=subprocess.PIPE)\n",
    "        process.wait()\n",
    "        print process.returncode\n",
    "        \n",
    "        op = os.path.join('res', '{}_{}.jpg'.format(cn, sn))\n",
    "        \n",
    "        # content, output, style\n",
    "        html = make_html([cp, op, sp])\n",
    "        res_htmls.append(html)\n",
    "        \n",
    "        break\n",
    "    \n",
    "    break\n",
    "\n",
    "print 'hi'"
   ]
  },
  {
   "cell_type": "code",
   "execution_count": 6,
   "metadata": {
    "collapsed": true
   },
   "outputs": [],
   "source": [
    "html = \"<br/>\".join(res_htmls)"
   ]
  },
  {
   "cell_type": "code",
   "execution_count": 9,
   "metadata": {
    "collapsed": false
   },
   "outputs": [
    {
     "data": {
      "text/html": [
       "<img style='height: 200px; margin: 5px; float: left; border: 1px solid black;' src='images/content/flash.jpg' /><img style='height: 200px; margin: 5px; float: left; border: 1px solid black;' src='res/flash.jpg_starry-night.jpg.jpg' /><img style='height: 200px; margin: 5px; float: left; border: 1px solid black;' src='images/style/starry-night.jpg' />"
      ],
      "text/plain": [
       "<IPython.core.display.HTML object>"
      ]
     },
     "metadata": {},
     "output_type": "display_data"
    }
   ],
   "source": [
    "display(HTML(html))"
   ]
  },
  {
   "cell_type": "code",
   "execution_count": null,
   "metadata": {
    "collapsed": true
   },
   "outputs": [],
   "source": []
  }
 ],
 "metadata": {
  "kernelspec": {
   "display_name": "Python 2",
   "language": "python",
   "name": "python2"
  },
  "language_info": {
   "codemirror_mode": {
    "name": "ipython",
    "version": 2
   },
   "file_extension": ".py",
   "mimetype": "text/x-python",
   "name": "python",
   "nbconvert_exporter": "python",
   "pygments_lexer": "ipython2",
   "version": "2.7.6"
  }
 },
 "nbformat": 4,
 "nbformat_minor": 1
}
