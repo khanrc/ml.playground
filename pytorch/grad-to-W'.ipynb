{
 "cells": [
  {
   "cell_type": "markdown",
   "metadata": {},
   "source": [
    "# Goal\n",
    "\n",
    "Compute:\n",
    "\n",
    "$$\n",
    "\\nabla_w L(w + \\alpha)\n",
    "$$\n",
    "\n",
    "요런 걸 계산하고 싶다. 즉, forward 한 네트워크의 파라메터는 w' = w + @ 인데, 이걸 w 에 대해서 그라디언트를 계산하고 싶은 것.\n",
    "\n",
    "제일 쉬운 방법은 forward 를 할 때 이 alpha 를 정말 상수로 더해줘서 계산하고 w 에 대해 그라디언트를 구하면 되겠지만, 문제는 이러면 ready-made network 를 사용할 때 매우 피곤해지는 문제가 있음. 그렇게 안하고 간단히 할 수 있을까? 가 최종 목표."
   ]
  },
  {
   "cell_type": "code",
   "execution_count": 1,
   "metadata": {
    "ExecuteTime": {
     "end_time": "2020-11-23T11:26:42.299961Z",
     "start_time": "2020-11-23T11:26:42.294422Z"
    }
   },
   "outputs": [],
   "source": [
    "import torch\n",
    "import torch.nn as nn\n",
    "import torch.nn.functional as F\n",
    "import numpy as np"
   ]
  },
  {
   "cell_type": "markdown",
   "metadata": {},
   "source": [
    "## Setup\n",
    "\n",
    "Linear MLP."
   ]
  },
  {
   "cell_type": "code",
   "execution_count": 101,
   "metadata": {
    "ExecuteTime": {
     "end_time": "2020-11-23T11:59:54.682723Z",
     "start_time": "2020-11-23T11:59:54.674375Z"
    }
   },
   "outputs": [],
   "source": [
    "X = torch.randn(4, 6)\n",
    "W1 = torch.randn(4, 6)\n",
    "B1 = torch.randn(4)\n",
    "W2 = torch.randn(1, 4)\n",
    "B2 = torch.randn(1)\n",
    "Y = torch.randn(4)\n",
    "\n",
    "A1 = torch.randn_like(W1) * 0.1\n",
    "A2 = torch.randn_like(W2) * 0.1"
   ]
  },
  {
   "cell_type": "markdown",
   "metadata": {},
   "source": [
    "## Naive method"
   ]
  },
  {
   "cell_type": "code",
   "execution_count": 102,
   "metadata": {
    "ExecuteTime": {
     "end_time": "2020-11-23T11:59:57.560701Z",
     "start_time": "2020-11-23T11:59:57.553513Z"
    }
   },
   "outputs": [],
   "source": [
    "x = X.clone()\n",
    "w1 = W1.clone().requires_grad_()\n",
    "b1 = B1.clone().requires_grad_()\n",
    "w2 = W2.clone().requires_grad_()\n",
    "b2 = B2.clone().requires_grad_()\n",
    "y = Y.clone()"
   ]
  },
  {
   "cell_type": "code",
   "execution_count": 103,
   "metadata": {
    "ExecuteTime": {
     "end_time": "2020-11-23T12:00:10.507834Z",
     "start_time": "2020-11-23T12:00:10.502175Z"
    }
   },
   "outputs": [],
   "source": [
    "out1 = F.linear(x, w1 + A1, b1)\n",
    "out2 = F.linear(out1, w2 + A2, b2)"
   ]
  },
  {
   "cell_type": "code",
   "execution_count": 104,
   "metadata": {
    "ExecuteTime": {
     "end_time": "2020-11-23T12:00:11.237020Z",
     "start_time": "2020-11-23T12:00:11.232180Z"
    }
   },
   "outputs": [],
   "source": [
    "L = (out2 - y).abs().sum()"
   ]
  },
  {
   "cell_type": "code",
   "execution_count": 105,
   "metadata": {
    "ExecuteTime": {
     "end_time": "2020-11-23T12:00:11.653144Z",
     "start_time": "2020-11-23T12:00:11.642459Z"
    },
    "scrolled": true
   },
   "outputs": [
    {
     "data": {
      "text/plain": [
       "(tensor([[ 1.7616,  0.8231, -1.6028,  0.0847,  0.3678,  2.0537],\n",
       "         [ 6.9855,  3.2641, -6.3559,  0.3361,  1.4587,  8.1441],\n",
       "         [ 9.7947,  4.5768, -8.9118,  0.4712,  2.0453, 11.4193],\n",
       "         [-4.5118, -2.1082,  4.1051, -0.2171, -0.9421, -5.2601]]),\n",
       " tensor([ -2.8140, -11.1589, -15.6464,   7.2073]),\n",
       " tensor([[  8.7595,  19.6231,  -7.4477, -36.4192]]),\n",
       " tensor([-16.]))"
      ]
     },
     "execution_count": 105,
     "metadata": {},
     "output_type": "execute_result"
    }
   ],
   "source": [
    "torch.autograd.grad(L, [w1, b1, w2, b2], retain_graph=True)"
   ]
  },
  {
   "cell_type": "code",
   "execution_count": 106,
   "metadata": {
    "ExecuteTime": {
     "end_time": "2020-11-23T12:00:12.361606Z",
     "start_time": "2020-11-23T12:00:12.357258Z"
    }
   },
   "outputs": [],
   "source": [
    "L.backward(retain_graph=True)"
   ]
  },
  {
   "cell_type": "code",
   "execution_count": 107,
   "metadata": {
    "ExecuteTime": {
     "end_time": "2020-11-23T12:00:12.872868Z",
     "start_time": "2020-11-23T12:00:12.863371Z"
    }
   },
   "outputs": [
    {
     "data": {
      "text/plain": [
       "(tensor([[ 1.7616,  0.8231, -1.6028,  0.0847,  0.3678,  2.0537],\n",
       "         [ 6.9855,  3.2641, -6.3559,  0.3361,  1.4587,  8.1441],\n",
       "         [ 9.7947,  4.5768, -8.9118,  0.4712,  2.0453, 11.4193],\n",
       "         [-4.5118, -2.1082,  4.1051, -0.2171, -0.9421, -5.2601]]),\n",
       " tensor([ -2.8140, -11.1589, -15.6464,   7.2073]),\n",
       " tensor([[  8.7595,  19.6231,  -7.4477, -36.4192]]),\n",
       " tensor([-16.]))"
      ]
     },
     "execution_count": 107,
     "metadata": {},
     "output_type": "execute_result"
    }
   ],
   "source": [
    "w1.grad, b1.grad, w2.grad, b2.grad"
   ]
  },
  {
   "cell_type": "code",
   "execution_count": null,
   "metadata": {},
   "outputs": [],
   "source": []
  },
  {
   "cell_type": "markdown",
   "metadata": {},
   "source": [
    "## Second"
   ]
  },
  {
   "cell_type": "code",
   "execution_count": 108,
   "metadata": {
    "ExecuteTime": {
     "end_time": "2020-11-23T12:04:00.324638Z",
     "start_time": "2020-11-23T12:04:00.317924Z"
    }
   },
   "outputs": [],
   "source": [
    "x = X.clone()\n",
    "w1 = (W1 + A1).clone().requires_grad_()\n",
    "b1 = B1.clone().requires_grad_()\n",
    "w2 = (W2 + A2).clone().requires_grad_()\n",
    "b2 = B2.clone().requires_grad_()\n",
    "y = Y.clone()"
   ]
  },
  {
   "cell_type": "code",
   "execution_count": 109,
   "metadata": {
    "ExecuteTime": {
     "end_time": "2020-11-23T12:04:05.969665Z",
     "start_time": "2020-11-23T12:04:05.964750Z"
    }
   },
   "outputs": [],
   "source": [
    "out1 = F.linear(x, w1, b1)\n",
    "out2 = F.linear(out1, w2, b2)"
   ]
  },
  {
   "cell_type": "code",
   "execution_count": 110,
   "metadata": {
    "ExecuteTime": {
     "end_time": "2020-11-23T12:04:06.329953Z",
     "start_time": "2020-11-23T12:04:06.325725Z"
    }
   },
   "outputs": [],
   "source": [
    "L = (out2 - y).abs().sum()"
   ]
  },
  {
   "cell_type": "code",
   "execution_count": 112,
   "metadata": {
    "ExecuteTime": {
     "end_time": "2020-11-23T12:11:16.677594Z",
     "start_time": "2020-11-23T12:11:16.672331Z"
    },
    "scrolled": true
   },
   "outputs": [],
   "source": [
    "r = torch.autograd.grad(L, [w1, b1, w2, b2], retain_graph=True)"
   ]
  },
  {
   "cell_type": "markdown",
   "metadata": {},
   "source": [
    "# Test"
   ]
  },
  {
   "cell_type": "code",
   "execution_count": 17,
   "metadata": {
    "ExecuteTime": {
     "end_time": "2020-11-23T11:30:37.673152Z",
     "start_time": "2020-11-23T11:30:37.668112Z"
    }
   },
   "outputs": [],
   "source": [
    "w = torch.rand(10, 10)\n",
    "b = torch.rand(10)\n",
    "x = torch.rand(4, 10)"
   ]
  },
  {
   "cell_type": "code",
   "execution_count": null,
   "metadata": {},
   "outputs": [],
   "source": []
  },
  {
   "cell_type": "code",
   "execution_count": 9,
   "metadata": {
    "ExecuteTime": {
     "end_time": "2020-11-23T11:29:57.705064Z",
     "start_time": "2020-11-23T11:29:57.702099Z"
    }
   },
   "outputs": [],
   "source": [
    "out = F.linear(x, w, b)"
   ]
  },
  {
   "cell_type": "code",
   "execution_count": 10,
   "metadata": {
    "ExecuteTime": {
     "end_time": "2020-11-23T11:29:58.469243Z",
     "start_time": "2020-11-23T11:29:58.461818Z"
    }
   },
   "outputs": [
    {
     "data": {
      "text/plain": [
       "tensor([[3.4362, 3.6962, 2.4504, 2.5618, 3.2899, 1.9352, 3.0735, 2.5174, 2.8351,\n",
       "         3.2384],\n",
       "        [4.1157, 4.5152, 3.2124, 3.6898, 4.4032, 2.2202, 4.2657, 3.6527, 3.9886,\n",
       "         3.8373],\n",
       "        [2.0405, 2.6753, 2.0907, 1.9293, 2.2609, 1.4715, 2.1983, 1.6173, 1.8051,\n",
       "         2.0078],\n",
       "        [3.5920, 4.1670, 2.6857, 3.1477, 3.0942, 2.3879, 3.3677, 2.9636, 3.3715,\n",
       "         3.2556]], grad_fn=<AddmmBackward>)"
      ]
     },
     "execution_count": 10,
     "metadata": {},
     "output_type": "execute_result"
    }
   ],
   "source": [
    "out"
   ]
  },
  {
   "cell_type": "code",
   "execution_count": 12,
   "metadata": {
    "ExecuteTime": {
     "end_time": "2020-11-23T11:30:05.965539Z",
     "start_time": "2020-11-23T11:30:05.519732Z"
    }
   },
   "outputs": [],
   "source": [
    "out.sum().backward()"
   ]
  },
  {
   "cell_type": "code",
   "execution_count": 113,
   "metadata": {
    "ExecuteTime": {
     "end_time": "2020-11-23T12:11:19.927358Z",
     "start_time": "2020-11-23T12:11:19.919804Z"
    }
   },
   "outputs": [
    {
     "data": {
      "text/plain": [
       "(tensor([[ 1.7616,  0.8231, -1.6028,  0.0847,  0.3678,  2.0537],\n",
       "         [ 6.9855,  3.2641, -6.3559,  0.3361,  1.4587,  8.1441],\n",
       "         [ 9.7947,  4.5768, -8.9118,  0.4712,  2.0453, 11.4193],\n",
       "         [-4.5118, -2.1082,  4.1051, -0.2171, -0.9421, -5.2601]]),\n",
       " tensor([ -2.8140, -11.1589, -15.6464,   7.2073]),\n",
       " tensor([[  8.7595,  19.6231,  -7.4477, -36.4192]]),\n",
       " tensor([-16.]))"
      ]
     },
     "execution_count": 113,
     "metadata": {},
     "output_type": "execute_result"
    }
   ],
   "source": [
    "r"
   ]
  },
  {
   "cell_type": "code",
   "execution_count": 117,
   "metadata": {
    "ExecuteTime": {
     "end_time": "2020-11-23T12:11:54.188719Z",
     "start_time": "2020-11-23T12:11:54.180683Z"
    }
   },
   "outputs": [
    {
     "data": {
      "text/plain": [
       "tensor(55.7611)"
      ]
     },
     "execution_count": 117,
     "metadata": {},
     "output_type": "execute_result"
    }
   ],
   "source": [
    "torch.stack([t.norm(2) for t in r]).norm(2)"
   ]
  },
  {
   "cell_type": "code",
   "execution_count": 122,
   "metadata": {
    "ExecuteTime": {
     "end_time": "2020-11-23T12:12:26.466963Z",
     "start_time": "2020-11-23T12:12:26.459863Z"
    }
   },
   "outputs": [
    {
     "data": {
      "text/plain": [
       "tensor(55.7611)"
      ]
     },
     "execution_count": 122,
     "metadata": {},
     "output_type": "execute_result"
    }
   ],
   "source": [
    "torch.cat([t.flatten() for t in r]).norm(2)"
   ]
  },
  {
   "cell_type": "code",
   "execution_count": 124,
   "metadata": {
    "ExecuteTime": {
     "end_time": "2020-11-23T12:21:43.066121Z",
     "start_time": "2020-11-23T12:21:43.059463Z"
    }
   },
   "outputs": [
    {
     "data": {
      "text/plain": [
       "tensor([[ 1.7616,  0.8231, -1.6028,  0.0847,  0.3678,  2.0537],\n",
       "        [ 6.9855,  3.2641, -6.3559,  0.3361,  1.4587,  8.1441],\n",
       "        [ 9.7947,  4.5768, -8.9118,  0.4712,  2.0453, 11.4193],\n",
       "        [-4.5118, -2.1082,  4.1051, -0.2171, -0.9421, -5.2601]])"
      ]
     },
     "execution_count": 124,
     "metadata": {},
     "output_type": "execute_result"
    }
   ],
   "source": [
    "r[0]"
   ]
  },
  {
   "cell_type": "code",
   "execution_count": 125,
   "metadata": {
    "ExecuteTime": {
     "end_time": "2020-11-23T12:21:44.610725Z",
     "start_time": "2020-11-23T12:21:44.602644Z"
    }
   },
   "outputs": [
    {
     "data": {
      "text/plain": [
       "tensor([[ 1.7616,  0.8231, -1.6028,  0.0847,  0.3678,  2.0537],\n",
       "        [ 6.9855,  3.2641, -6.3559,  0.3361,  1.4587,  8.1441],\n",
       "        [ 9.7947,  4.5768, -8.9118,  0.4712,  2.0453, 11.4193],\n",
       "        [-4.5118, -2.1082,  4.1051, -0.2171, -0.9421, -5.2601]])"
      ]
     },
     "execution_count": 125,
     "metadata": {},
     "output_type": "execute_result"
    }
   ],
   "source": [
    "r[0].data"
   ]
  },
  {
   "cell_type": "code",
   "execution_count": 137,
   "metadata": {
    "ExecuteTime": {
     "end_time": "2020-11-23T12:28:13.732108Z",
     "start_time": "2020-11-23T12:28:13.726138Z"
    }
   },
   "outputs": [
    {
     "data": {
      "text/plain": [
       "0.02554466825101471"
      ]
     },
     "execution_count": 137,
     "metadata": {},
     "output_type": "execute_result"
    }
   ],
   "source": [
    "np.random.uniform(0.01, 0.1)"
   ]
  },
  {
   "cell_type": "code",
   "execution_count": null,
   "metadata": {},
   "outputs": [],
   "source": []
  }
 ],
 "metadata": {
  "kernelspec": {
   "display_name": "Python 3",
   "language": "python",
   "name": "python3"
  },
  "language_info": {
   "codemirror_mode": {
    "name": "ipython",
    "version": 3
   },
   "file_extension": ".py",
   "mimetype": "text/x-python",
   "name": "python",
   "nbconvert_exporter": "python",
   "pygments_lexer": "ipython3",
   "version": "3.6.5"
  },
  "toc": {
   "base_numbering": 1,
   "nav_menu": {},
   "number_sections": true,
   "sideBar": true,
   "skip_h1_title": false,
   "title_cell": "Table of Contents",
   "title_sidebar": "Contents",
   "toc_cell": false,
   "toc_position": {},
   "toc_section_display": true,
   "toc_window_display": false
  }
 },
 "nbformat": 4,
 "nbformat_minor": 2
}
