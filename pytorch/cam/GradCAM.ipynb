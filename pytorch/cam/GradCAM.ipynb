{
 "cells": [
  {
   "cell_type": "markdown",
   "metadata": {},
   "source": [
    "# Grad-CAM\n",
    "\n",
    "Selvaraju, Ramprasaath R., et al. \"Grad-cam: Why did you say that? visual explanations from deep networks via gradient-based localization.\" arXiv preprint arXiv:1610.02391 (2016).\n",
    "\n",
    "- CAM 은 마지막 레이어가 GAP 여야 한다는 단점을 가지고 있음\n",
    "- GradCAM 은 그 단점을 극복한 generalized CAM"
   ]
  },
  {
   "cell_type": "markdown",
   "metadata": {},
   "source": [
    "![overview](gradcam-overview.png)"
   ]
  },
  {
   "cell_type": "markdown",
   "metadata": {},
   "source": [
    "## Method\n",
    "\n",
    "위 그림은 CNN의 마지막에 GAP 가 붙고 linear layer 가 붙어야 하는 CAM 과 달리, Grad-CAM은 CNN 이후에 뭐가 붙든 상관없다는 것을 의미.\n",
    "\n",
    "![ex1](gradcam-ex1.png)\n",
    "![ex2](gradcam-ex2.png)"
   ]
  },
  {
   "cell_type": "markdown",
   "metadata": {},
   "source": [
    "- 위 식에서 $A$ 는 last featuremap 을 의미하고, $y^c$ 는 class c 에 대한 logit 을 의미\n",
    "- 즉 $\\alpha^c_k$ 는 logit 의 각 피처맵에 대한 gradient 의 average 를 의미함\n",
    "- 이를 직관적으로 설명하면 각 피처맵을 흔들었을 때 logit 이 얼마나 흔들리는가? 를 보는 것\n",
    "- 이렇게 구한 $a$ 가 각 피처맵에 대한 가중치 weight 가 되며 CAM 에서 linear layer 의 weight 로 구했던 것과 동일함\n",
    "    - 실제로 GAP 를 마지막에 붙이고 linear layer 를 붙이면 동일한 식이 된다고 함\n",
    "- ReLU 를 붙인 것은 negative effect feature 는 무시하겠다는 것\n",
    "    - Q. negative effect 만 visualize 하면 어떨까?\n",
    "    - 해 봤는데 좀 의미가 불분명함;"
   ]
  },
  {
   "cell_type": "markdown",
   "metadata": {},
   "source": [
    "## Implementation\n",
    "\n",
    "- 다른건 별 거 없는데, dy/dA 를 구하는 것이 관건일 듯\n",
    "- TF 에서는 `tf.gradients()` 가 있는데, PyTorch 에서는?\n",
    "\n",
    "ref code: https://github.com/kazuto1011/grad-cam-pytorch"
   ]
  },
  {
   "cell_type": "code",
   "execution_count": 1,
   "metadata": {},
   "outputs": [],
   "source": [
    "%matplotlib inline\n",
    "import matplotlib.pyplot as plt\n",
    "import torch\n",
    "import torch.nn as nn\n",
    "from torch.autograd import Variable\n",
    "import torch.nn.functional as F\n",
    "from torchvision import datasets, transforms\n",
    "import numpy as np\n",
    "import cv2\n",
    "import seaborn as sns\n",
    "from utils import *\n",
    "from glob import glob\n",
    "import os\n",
    "from cluttered_mnist import ClutteredMNISTDataset\n",
    "from models import ConvLinear, ConvGAP"
   ]
  },
  {
   "cell_type": "code",
   "execution_count": 2,
   "metadata": {},
   "outputs": [
    {
     "name": "stdout",
     "output_type": "stream",
     "text": [
      "processed dataset already exists; load it\n",
      "processed dataset already exists; load it\n"
     ]
    }
   ],
   "source": [
    "train_dataset = ClutteredMNISTDataset('../data/mnist_cluttered/', train=True, transform=transforms.ToTensor())\n",
    "valid_dataset = ClutteredMNISTDataset('../data/mnist_cluttered/', train=False, transform=transforms.ToTensor())"
   ]
  },
  {
   "cell_type": "code",
   "execution_count": 3,
   "metadata": {},
   "outputs": [],
   "source": [
    "batch_size = 128\n",
    "train_loader = torch.utils.data.DataLoader(train_dataset, batch_size=batch_size, shuffle=True)\n",
    "valid_loader = torch.utils.data.DataLoader(valid_dataset, batch_size=batch_size, shuffle=False)"
   ]
  },
  {
   "cell_type": "code",
   "execution_count": 4,
   "metadata": {},
   "outputs": [
    {
     "data": {
      "text/plain": [
       "ConvLinear (\n",
       "  (conv1): Conv2d(3, 32, kernel_size=(3, 3), stride=(1, 1), padding=(1, 1))\n",
       "  (conv2): Conv2d(32, 64, kernel_size=(3, 3), stride=(1, 1), padding=(1, 1))\n",
       "  (conv3): Conv2d(64, 128, kernel_size=(3, 3), stride=(1, 1), padding=(1, 1))\n",
       "  (conv4): Conv2d(128, 128, kernel_size=(3, 3), stride=(1, 1), padding=(1, 1))\n",
       "  (linear1): Linear (4608 -> 256)\n",
       "  (linear2): Linear (256 -> 10)\n",
       ")"
      ]
     },
     "execution_count": 4,
     "metadata": {},
     "output_type": "execute_result"
    }
   ],
   "source": [
    "model = ConvLinear()\n",
    "model.cuda()"
   ]
  },
  {
   "cell_type": "code",
   "execution_count": 5,
   "metadata": {},
   "outputs": [],
   "source": [
    "criterion = nn.CrossEntropyLoss()\n",
    "optimizer = torch.optim.Adam(model.parameters())"
   ]
  },
  {
   "cell_type": "code",
   "execution_count": 6,
   "metadata": {},
   "outputs": [
    {
     "name": "stdout",
     "output_type": "stream",
     "text": [
      "[TRAIN EPOCH  1]\tLOSS 1.0222\tACC 62.57%\n",
      "[VALID EPOCH  1]\tLOSS 0.2557\tACC 91.06%\n",
      "[TRAIN EPOCH  2]\tLOSS 0.1625\tACC 94.91%\n",
      "[VALID EPOCH  2]\tLOSS 0.1284\tACC 94.92%\n",
      "[TRAIN EPOCH  3]\tLOSS 0.0946\tACC 96.91%\n",
      "[VALID EPOCH  3]\tLOSS 0.0966\tACC 95.91%\n"
     ]
    }
   ],
   "source": [
    "n_epochs = 3\n",
    "\n",
    "total_loss = AverageMeter()\n",
    "total_acc = AverageMeter()\n",
    "\n",
    "for epoch in range(n_epochs):\n",
    "    total_loss.reset()\n",
    "    total_acc.reset()\n",
    "    for X, y in train_loader:\n",
    "        X = Variable(X).cuda()\n",
    "        y = Variable(y).cuda()\n",
    "        \n",
    "        optimizer.zero_grad()\n",
    "        y_ = model(X)\n",
    "        loss = criterion(y_, y)\n",
    "        loss.backward()\n",
    "        optimizer.step()\n",
    "        \n",
    "        pred = y_.data.max(1)[1]\n",
    "        \n",
    "        acc = float(pred.eq(y.data).sum()) / train_loader.batch_size\n",
    "        total_loss.update(loss.data[0])\n",
    "        total_acc.update(acc)\n",
    "    \n",
    "    print(\"[TRAIN EPOCH {:2d}]\\tLOSS {:.4f}\\tACC {:.2%}\".format(epoch+1, total_loss.avg, total_acc.avg))\n",
    "    \n",
    "    total_loss.reset()\n",
    "    total_acc.reset()\n",
    "    for X, y in valid_loader:\n",
    "        X = Variable(X).cuda()\n",
    "        y = Variable(y).cuda()\n",
    "        \n",
    "        y_ = model(X)\n",
    "        loss = criterion(y_, y)\n",
    "        pred = y_.data.max(1)[1]\n",
    "        acc = float(pred.eq(y.data).sum()) / valid_loader.batch_size\n",
    "        total_loss.update(loss.data[0])\n",
    "        total_acc.update(acc)\n",
    "    \n",
    "    print(\"[VALID EPOCH {:2d}]\\tLOSS {:.4f}\\tACC {:.2%}\".format(epoch+1, total_loss.avg, total_acc.avg))"
   ]
  },
  {
   "cell_type": "markdown",
   "metadata": {},
   "source": [
    "## Grad-CAM"
   ]
  },
  {
   "cell_type": "markdown",
   "metadata": {},
   "source": [
    "## Add gradient hook\n",
    "\n",
    "- dy/dA 를 y.backward() 로 계산할 수 있는데, 저 값에 접근하려면 hook 을 달아서 접근해야 함\n",
    "- 이렇게 계산하면 좀 낭비가 있는데 효율적으로 A 까지만 gradient 를 계산할 수 있나?"
   ]
  },
  {
   "cell_type": "code",
   "execution_count": 7,
   "metadata": {},
   "outputs": [
    {
     "name": "stdout",
     "output_type": "stream",
     "text": [
      "conv4 is last featuremap\n"
     ]
    }
   ],
   "source": [
    "forwards = []\n",
    "grads = []\n",
    "\n",
    "def fw_hook(module, inputs, outputs):\n",
    "    forwards.append({\n",
    "        'module': module,\n",
    "        'input': inputs,\n",
    "        'output': outputs\n",
    "    })\n",
    "\n",
    "def bw_hook(module, grad_in, grad_out):\n",
    "    '''\n",
    "    grad_in: module 의 input 의 gradient.\n",
    "    grad_out: module 의 output 의 gradient.\n",
    "    \n",
    "    --\n",
    "    따라서 conv3 의 결과의 gradient 를 얻고 싶다면 grad_out 으로 하는 게 맞음. \n",
    "    여기서 grad_in 은 (conv2-relu-)maxpool 의 gradient 에 해당하게 된다.\n",
    "    '''\n",
    "    \n",
    "    # add gradient to grads list\n",
    "    grads.append({\n",
    "        'module': module,\n",
    "        'grad_in': grad_in,\n",
    "        'grad_out': grad_out\n",
    "    })\n",
    "\n",
    "# clear hooks\n",
    "def clear_hooks(model):\n",
    "    for module in model.modules():\n",
    "        module._forward_hooks.clear()\n",
    "        module._backward_hooks.clear()\n",
    "        \n",
    "        \n",
    "clear_hooks(model)\n",
    "\n",
    "# add hook\n",
    "for name, module in list(model.named_modules())[::-1]: # reverse \n",
    "    if name.startswith('conv'): # last featuremap\n",
    "        print \"{} is last featuremap\".format(name)\n",
    "        module.register_forward_hook(fw_hook)\n",
    "        module.register_backward_hook(bw_hook)\n",
    "        break"
   ]
  },
  {
   "cell_type": "markdown",
   "metadata": {},
   "source": [
    "## Calc & Visualize GradCAM"
   ]
  },
  {
   "cell_type": "code",
   "execution_count": 8,
   "metadata": {},
   "outputs": [],
   "source": [
    "def get_alpha(grad_last_fmap):\n",
    "    \"\"\"\n",
    "    return GAP(grad_last_fmap)\n",
    "    which indicates weights of channels.\n",
    "    \n",
    "    CAM 에서의 weight.\n",
    "    gradient of last featuremap 의 GAP 값 (채널별 평균).\n",
    "    각 채널별 가중치가 됨.\n",
    "    \"\"\"\n",
    "    n_channels = grad_last_fmap.size(1)\n",
    "    alpha = grad_last_fmap.squeeze().view(n_channels, -1).mean(1) # GAP of gradients: flatten & mean\n",
    "    \n",
    "    return alpha"
   ]
  },
  {
   "cell_type": "code",
   "execution_count": 9,
   "metadata": {},
   "outputs": [],
   "source": [
    "def get_activ_map(alpha, last_fmap, reverse=False):\n",
    "    \"\"\"\n",
    "    각 채널의 가중치 alpha 와,\n",
    "    last featuremap 을 받아서 activation map 계산.\n",
    "    \"\"\"\n",
    "    weighted_fmap = alpha.view(-1, 1, 1)*last_fmap.squeeze()\n",
    "    activ_map = weighted_fmap.sum(0)\n",
    "    if reverse:\n",
    "        activ_map = -activ_map\n",
    "    activ_map_relu = F.relu(activ_map)\n",
    "    \n",
    "    return activ_map_relu"
   ]
  },
  {
   "cell_type": "code",
   "execution_count": 10,
   "metadata": {},
   "outputs": [],
   "source": [
    "def postproc(activ_map):\n",
    "    \"\"\" normalize \n",
    "    activ_map 자체가 relu 를 통과한 결과이므로 min 은 0이라고 보면 max 로만 나누어주면 됨\n",
    "    \"\"\"\n",
    "    amap = activ_map.data.cpu().numpy()\n",
    "    amap = amap / (amap.max() + 1e-8) # for numerical stability\n",
    "    return amap"
   ]
  },
  {
   "cell_type": "code",
   "execution_count": 11,
   "metadata": {},
   "outputs": [],
   "source": [
    "def GradCAM(model, idx, reverse=False):\n",
    "    del forwards[:], grads[:] # clear\n",
    "    X, y = valid_dataset[idx]\n",
    "    X_var = Variable(X.unsqueeze(0)).cuda() ## add batch dim\n",
    "    y_ = model(X_var)\n",
    "    pred = y_.data.max(1)[1] # [B]\n",
    "    pred = pred[0] # []\n",
    "    \n",
    "    print \"Pred {} (real {})\".format(pred, y)\n",
    "    \n",
    "    model.zero_grad()\n",
    "    y_[:, pred].backward()\n",
    "    last_fmap = forwards[-1]['output'][0]\n",
    "    grad_last_fmap = grads[-1]['grad_out'][0]\n",
    "    \n",
    "    alpha = get_alpha(grad_last_fmap)\n",
    "    activ_map = get_activ_map(alpha, last_fmap, reverse=reverse)\n",
    "    activ_map = postproc(activ_map)\n",
    "    \n",
    "    visualize(X.numpy(), activ_map)"
   ]
  },
  {
   "cell_type": "code",
   "execution_count": 12,
   "metadata": {},
   "outputs": [],
   "source": [
    "def visualize(X, activ_map):\n",
    "    X = X.squeeze().transpose([1, 2, 0]) # CHW => HWC\n",
    "    activ_map = cv2.resize(activ_map, tuple(X.shape[:2]), interpolation=cv2.INTER_LINEAR)\n",
    "    activ_map_int = (activ_map*255).astype(np.uint8)\n",
    "    heatmap = cv2.cvtColor(cv2.applyColorMap(activ_map_int, cv2.COLORMAP_JET), cv2.COLOR_BGR2RGB)\n",
    "    heatmap_float = heatmap.astype(np.float32)/255.\n",
    "    overlay = X*0.5 + heatmap_float*0.3\n",
    "    \n",
    "    fig = plt.figure(figsize=(12, 6))\n",
    "    plt.jet()\n",
    "    \n",
    "    # org\n",
    "    plt.subplot(1, 4, 1)\n",
    "    plt.imshow(X, vmin=0., vmax=1., cmap='Greys_r')\n",
    "    plt.axis('off')\n",
    "\n",
    "    # hot\n",
    "    plt.subplot(1, 4, 2)\n",
    "    plt.imshow(activ_map, vmin=0., vmax=1., cmap=plt.cm.hot)\n",
    "    plt.axis('off')\n",
    "    \n",
    "    # jet + colorbar\n",
    "    plt.subplot(1, 4, 3)\n",
    "    heatmap_im = plt.imshow(heatmap)\n",
    "    plt.colorbar(heatmap_im, fraction=0.046, pad=0.04)\n",
    "    plt.axis('off')\n",
    "    \n",
    "    # overlay\n",
    "    plt.subplot(1, 4, 4)\n",
    "    plt.imshow(overlay)\n",
    "    plt.axis('off')\n",
    "    \n",
    "    plt.show()"
   ]
  },
  {
   "cell_type": "code",
   "execution_count": 13,
   "metadata": {
    "scrolled": true
   },
   "outputs": [
    {
     "name": "stdout",
     "output_type": "stream",
     "text": [
      "Pred 1 (real 1)\n"
     ]
    },
    {
     "data": {
      "image/png": "[encoded data removed]",
      "text/plain": [
       "<matplotlib.figure.Figure at 0x7f16f85e8b90>"
      ]
     },
     "metadata": {},
     "output_type": "display_data"
    },
    {
     "name": "stdout",
     "output_type": "stream",
     "text": [
      "---\n"
     ]
    }
   ],
   "source": [
    "for i in range(1):\n",
    "    GradCAM(model, i)\n",
    "#     GradCAM(model, i, reverse=True) # check about negative effect objects\n",
    "    print \"---\""
   ]
  },
  {
   "cell_type": "markdown",
   "metadata": {},
   "source": [
    "# Ref - same results ..."
   ]
  },
  {
   "cell_type": "code",
   "execution_count": null,
   "metadata": {},
   "outputs": [],
   "source": [
    "# import copy\n",
    "# from gradcam import GradCAM\n",
    "\n",
    "# # modify model in the GradCAM module\n",
    "# copy_model = ConvLinear()\n",
    "# copy_model.load_state_dict(copy.deepcopy(model.state_dict()))\n",
    "# gcam = GradCAM(model=copy_model, cuda=True)"
   ]
  },
  {
   "cell_type": "code",
   "execution_count": null,
   "metadata": {},
   "outputs": [],
   "source": [
    "# X, y = valid_dataset[1]\n",
    "# X_var = Variable(X.unsqueeze(0)).cuda()\n",
    "\n",
    "# probs, idx = gcam.forward(X_var)\n",
    "# gcam.backward(idx=idx[0])\n",
    "# output = gcam.generate(target_layer='conv3')\n",
    "\n",
    "# fig = plt.figure(figsize=(8, 4))\n",
    "# plt.subplot(1, 2, 1)\n",
    "# plt.imshow(X.numpy().transpose([1, 2, 0]))\n",
    "# plt.subplot(1, 2, 2)\n",
    "# plt.imshow(output)\n",
    "# plt.show()"
   ]
  }
 ],
 "metadata": {
  "kernelspec": {
   "display_name": "Python 2",
   "language": "python",
   "name": "python2"
  },
  "language_info": {
   "codemirror_mode": {
    "name": "ipython",
    "version": 2
   },
   "file_extension": ".py",
   "mimetype": "text/x-python",
   "name": "python",
   "nbconvert_exporter": "python",
   "pygments_lexer": "ipython2",
   "version": "2.7.6"
  }
 },
 "nbformat": 4,
 "nbformat_minor": 2
}
