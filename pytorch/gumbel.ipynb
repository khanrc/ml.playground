{
 "cells": [
  {
   "cell_type": "markdown",
   "id": "837ba5f4-4e7c-4b38-ac6f-96cafd7385dd",
   "metadata": {},
   "source": [
    "# Gumbel softmax/sigmoid\n",
    "\n",
    "Goal: Understanding details of gumbel-softmax and implement gumbel-sigmoid\n",
    "\n",
    "- Standard gumbel distribution 으로부터 샘플링하는 코드 자체가 다 제각기 다른데, 그중에서도 pytorch official code 가 제일 이상함. 잘 되는지 확인해보자.\n",
    "\n",
    "- Cumulative distribution function of gumbel distribution\n",
    "\n",
    "$$F(x; \\mu, \\beta) = e^{-e^{-(x-\\mu)/\\beta}}$$"
   ]
  },
  {
   "cell_type": "markdown",
   "id": "f3b93f9d-f13f-421e-a758-07ad763e30ec",
   "metadata": {},
   "source": [
    "## Standard gumbel distribution\n",
    "\n",
    "- Cumulative distribution function\n",
    "\n",
    "$$F(x)=e^{-e^{-x}}$$\n",
    "\n",
    "- Probability density function\n",
    "\n",
    "$$f(x)=e^{-(x+e^{-x})}$$"
   ]
  },
  {
   "cell_type": "code",
   "execution_count": 422,
   "id": "6e9aec34-d68c-41bd-86e9-042b285cad24",
   "metadata": {
    "execution": {
     "iopub.execute_input": "2022-04-18T07:41:11.310562Z",
     "iopub.status.busy": "2022-04-18T07:41:11.310291Z",
     "iopub.status.idle": "2022-04-18T07:41:11.317436Z",
     "shell.execute_reply": "2022-04-18T07:41:11.316827Z",
     "shell.execute_reply.started": "2022-04-18T07:41:11.310533Z"
    },
    "tags": []
   },
   "outputs": [],
   "source": [
    "%matplotlib inline\n",
    "import matplotlib.pyplot as plt\n",
    "import numpy as np\n",
    "\n",
    "import torch\n",
    "import torch.nn.functional as F"
   ]
  },
  {
   "cell_type": "code",
   "execution_count": 423,
   "id": "6f448af9-0f8e-441a-9427-94b398eed0fb",
   "metadata": {
    "execution": {
     "iopub.execute_input": "2022-04-18T07:41:12.578753Z",
     "iopub.status.busy": "2022-04-18T07:41:12.578473Z",
     "iopub.status.idle": "2022-04-18T07:41:12.582549Z",
     "shell.execute_reply": "2022-04-18T07:41:12.581953Z",
     "shell.execute_reply.started": "2022-04-18T07:41:12.578722Z"
    }
   },
   "outputs": [],
   "source": [
    "# https://gist.github.com/yzh119/fd2146d2aeb329d067568a493b20172f\n",
    "def sample_gumbel(shape, eps=1e-20):\n",
    "    # Cumultaive distribution 으로부터 역으로 계산해서 샘플링\n",
    "    U = torch.rand(shape)\n",
    "    return -(-(U + eps).log() + eps).log()"
   ]
  },
  {
   "cell_type": "code",
   "execution_count": 424,
   "id": "790a5b4a-4f14-4cd9-a25d-6305b5820e78",
   "metadata": {
    "execution": {
     "iopub.execute_input": "2022-04-18T07:41:13.231442Z",
     "iopub.status.busy": "2022-04-18T07:41:13.231184Z",
     "iopub.status.idle": "2022-04-18T07:41:13.235157Z",
     "shell.execute_reply": "2022-04-18T07:41:13.234561Z",
     "shell.execute_reply.started": "2022-04-18T07:41:13.231412Z"
    }
   },
   "outputs": [],
   "source": [
    "# https://pytorch.org/docs/stable/_modules/torch/nn/functional.html#gumbel_softmax\n",
    "def sample_gumbel2(shape):\n",
    "    # 대체 무슨 코드인가 했는데, exponential_() 이 exp() 가 아님; e^{-x} 라는 exponential distribution 으로부터 샘플링해주는 함수.\n",
    "    gumbels = (\n",
    "        -torch.empty(shape, memory_format=torch.legacy_contiguous_format).exponential_().log()\n",
    "    )  # ~Gumbel(0,1)\n",
    "    return gumbels"
   ]
  },
  {
   "cell_type": "code",
   "execution_count": 425,
   "id": "b60d2987-ce52-4672-b955-545fea9dad98",
   "metadata": {
    "execution": {
     "iopub.execute_input": "2022-04-18T07:41:13.793021Z",
     "iopub.status.busy": "2022-04-18T07:41:13.792563Z",
     "iopub.status.idle": "2022-04-18T07:41:13.797837Z",
     "shell.execute_reply": "2022-04-18T07:41:13.796912Z",
     "shell.execute_reply.started": "2022-04-18T07:41:13.792967Z"
    }
   },
   "outputs": [],
   "source": [
    "def sample_gumbel3(shape):\n",
    "    gumbel = torch.distributions.gumbel.Gumbel(0, 1)\n",
    "    return gumbel.sample(shape)"
   ]
  },
  {
   "cell_type": "code",
   "execution_count": 426,
   "id": "eaba09da-6b0a-4a89-85de-4b19861e7e8c",
   "metadata": {
    "execution": {
     "iopub.execute_input": "2022-04-18T07:41:14.310961Z",
     "iopub.status.busy": "2022-04-18T07:41:14.310691Z",
     "iopub.status.idle": "2022-04-18T07:41:14.313980Z",
     "shell.execute_reply": "2022-04-18T07:41:14.313367Z",
     "shell.execute_reply.started": "2022-04-18T07:41:14.310932Z"
    }
   },
   "outputs": [],
   "source": [
    "N = 1000000"
   ]
  },
  {
   "cell_type": "code",
   "execution_count": 427,
   "id": "cf843daf-66dd-4172-afab-314750d1f483",
   "metadata": {
    "execution": {
     "iopub.execute_input": "2022-04-18T07:41:19.380728Z",
     "iopub.status.busy": "2022-04-18T07:41:19.380339Z",
     "iopub.status.idle": "2022-04-18T07:41:20.093365Z",
     "shell.execute_reply": "2022-04-18T07:41:20.092745Z",
     "shell.execute_reply.started": "2022-04-18T07:41:19.380684Z"
    }
   },
   "outputs": [
    {
     "data": {
      "text/plain": [
       "(tensor(0.5788), tensor(1.2838))"
      ]
     },
     "execution_count": 427,
     "metadata": {},
     "output_type": "execute_result"
    },
    {
     "data": {
      "image/png": "[encoded data removed]",
      "text/plain": [
       "<Figure size 432x288 with 1 Axes>"
      ]
     },
     "metadata": {
      "needs_background": "light"
     },
     "output_type": "display_data"
    }
   ],
   "source": [
    "bins = np.arange(-5, 21, 0.1)\n",
    "\n",
    "r = sample_gumbel([N])\n",
    "plt.hist(r.numpy(), bins=bins);\n",
    "r.mean(), r.std()"
   ]
  },
  {
   "cell_type": "code",
   "execution_count": 428,
   "id": "4bb70d58-5e2b-4e71-8613-08a3fa8f122e",
   "metadata": {
    "execution": {
     "iopub.execute_input": "2022-04-18T07:41:20.789893Z",
     "iopub.status.busy": "2022-04-18T07:41:20.789622Z",
     "iopub.status.idle": "2022-04-18T07:41:21.553265Z",
     "shell.execute_reply": "2022-04-18T07:41:21.552646Z",
     "shell.execute_reply.started": "2022-04-18T07:41:20.789864Z"
    }
   },
   "outputs": [
    {
     "data": {
      "text/plain": [
       "(tensor(0.5773), tensor(1.2832))"
      ]
     },
     "execution_count": 428,
     "metadata": {},
     "output_type": "execute_result"
    },
    {
     "data": {
      "image/png": "[encoded data removed]",
      "text/plain": [
       "<Figure size 432x288 with 1 Axes>"
      ]
     },
     "metadata": {
      "needs_background": "light"
     },
     "output_type": "display_data"
    }
   ],
   "source": [
    "r = sample_gumbel2([N])\n",
    "plt.hist(r.numpy(), bins=bins);\n",
    "r.mean(), r.std()"
   ]
  },
  {
   "cell_type": "code",
   "execution_count": 429,
   "id": "58c5e563-53e6-4fa8-98c5-9945a85ee4f4",
   "metadata": {
    "execution": {
     "iopub.execute_input": "2022-04-18T07:41:21.875569Z",
     "iopub.status.busy": "2022-04-18T07:41:21.875301Z",
     "iopub.status.idle": "2022-04-18T07:41:22.745172Z",
     "shell.execute_reply": "2022-04-18T07:41:22.744564Z",
     "shell.execute_reply.started": "2022-04-18T07:41:21.875540Z"
    }
   },
   "outputs": [
    {
     "data": {
      "text/plain": [
       "(tensor(0.5781), tensor(1.2828))"
      ]
     },
     "execution_count": 429,
     "metadata": {},
     "output_type": "execute_result"
    },
    {
     "data": {
      "image/png": "[encoded data removed]",
      "text/plain": [
       "<Figure size 432x288 with 1 Axes>"
      ]
     },
     "metadata": {
      "needs_background": "light"
     },
     "output_type": "display_data"
    }
   ],
   "source": [
    "r = sample_gumbel3([N])\n",
    "plt.hist(r.numpy(), bins=bins);\n",
    "r.mean(), r.std()"
   ]
  },
  {
   "cell_type": "markdown",
   "id": "126dd2eb-9a5b-45b8-af50-6a74a98743ad",
   "metadata": {},
   "source": [
    "# Sigmoid and Softmax\n",
    "\n",
    "- gumbel sigmoid 를 eps 없이 짜고 싶담."
   ]
  },
  {
   "cell_type": "code",
   "execution_count": 430,
   "id": "c381e2d0-9dca-436e-b532-97e6df515cda",
   "metadata": {
    "execution": {
     "iopub.execute_input": "2022-04-18T07:41:23.023746Z",
     "iopub.status.busy": "2022-04-18T07:41:23.023468Z",
     "iopub.status.idle": "2022-04-18T07:41:23.027075Z",
     "shell.execute_reply": "2022-04-18T07:41:23.026457Z",
     "shell.execute_reply.started": "2022-04-18T07:41:23.023715Z"
    }
   },
   "outputs": [],
   "source": [
    "t = torch.rand(1, 10)"
   ]
  },
  {
   "cell_type": "code",
   "execution_count": 431,
   "id": "21c9db10-c4ce-4394-ac28-f25c94bde2d5",
   "metadata": {
    "execution": {
     "iopub.execute_input": "2022-04-18T07:41:23.490457Z",
     "iopub.status.busy": "2022-04-18T07:41:23.490207Z",
     "iopub.status.idle": "2022-04-18T07:41:23.495383Z",
     "shell.execute_reply": "2022-04-18T07:41:23.494813Z",
     "shell.execute_reply.started": "2022-04-18T07:41:23.490427Z"
    }
   },
   "outputs": [
    {
     "data": {
      "text/plain": [
       "tensor([[0.7293, 0.5496, 0.6760, 0.6058, 0.6531, 0.6090, 0.5496, 0.6816, 0.6475,\n",
       "         0.7145]])"
      ]
     },
     "execution_count": 431,
     "metadata": {},
     "output_type": "execute_result"
    }
   ],
   "source": [
    "t.sigmoid()"
   ]
  },
  {
   "cell_type": "code",
   "execution_count": 432,
   "id": "f6c718d0-9142-4fb3-9eac-18f074e23a55",
   "metadata": {
    "execution": {
     "iopub.execute_input": "2022-04-18T07:41:24.120914Z",
     "iopub.status.busy": "2022-04-18T07:41:24.120654Z",
     "iopub.status.idle": "2022-04-18T07:41:24.126706Z",
     "shell.execute_reply": "2022-04-18T07:41:24.126135Z",
     "shell.execute_reply.started": "2022-04-18T07:41:24.120885Z"
    }
   },
   "outputs": [
    {
     "data": {
      "text/plain": [
       "tensor([[0.7293, 0.5496, 0.6760, 0.6058, 0.6531, 0.6090, 0.5496, 0.6816, 0.6475,\n",
       "         0.7145]])"
      ]
     },
     "execution_count": 432,
     "metadata": {},
     "output_type": "execute_result"
    }
   ],
   "source": [
    "# mimic sigmoid using softmax\n",
    "zt = torch.stack([torch.zeros_like(t), t], dim=-1)\n",
    "zt.softmax(-1)[:, :, 1]"
   ]
  },
  {
   "cell_type": "code",
   "execution_count": 433,
   "id": "da589dc1-bf76-43f3-9da8-81f0bfb5574e",
   "metadata": {
    "execution": {
     "iopub.execute_input": "2022-04-18T07:41:25.416222Z",
     "iopub.status.busy": "2022-04-18T07:41:25.415963Z",
     "iopub.status.idle": "2022-04-18T07:41:25.420560Z",
     "shell.execute_reply": "2022-04-18T07:41:25.419961Z",
     "shell.execute_reply.started": "2022-04-18T07:41:25.416192Z"
    }
   },
   "outputs": [],
   "source": [
    "def gumbel_sigmoid(logits: torch.Tensor, tau:float = 1, hard: bool = False):\n",
    "    \"\"\"Samples from the Gumbel-Sigmoid distribution and optionally discretizes.\n",
    "    \"\"\"\n",
    "    logits = torch.stack([torch.zeros_like(logits), logits], dim=-1)\n",
    "    return F.gumbel_softmax(logits, tau, hard, dim=-1)[..., -1]"
   ]
  },
  {
   "cell_type": "code",
   "execution_count": 434,
   "id": "9c13d6bb-f825-4c28-be6c-3b2c71484405",
   "metadata": {
    "execution": {
     "iopub.execute_input": "2022-04-18T07:41:25.565456Z",
     "iopub.status.busy": "2022-04-18T07:41:25.565207Z",
     "iopub.status.idle": "2022-04-18T07:41:25.570849Z",
     "shell.execute_reply": "2022-04-18T07:41:25.570233Z",
     "shell.execute_reply.started": "2022-04-18T07:41:25.565427Z"
    }
   },
   "outputs": [],
   "source": [
    "# 이렇게 직접 짤 수도.\n",
    "def gumbel_sigmoid2(logits: torch.Tensor, tau:float = 1, hard: bool = False):\n",
    "    \"\"\"Samples from the Gumbel-Sigmoid distribution and optionally discretizes.\n",
    "    \n",
    "    References:\n",
    "        - https://github.com/yandexdataschool/gumbel_dpg/blob/master/gumbel.py\n",
    "        - https://pytorch.org/docs/stable/_modules/torch/nn/functional.html#gumbel_softmax\n",
    "    \"\"\"\n",
    "    gumbels1 = -torch.empty_like(logits).exponential_().log() # ~Gumbel(0,1)\n",
    "    gumbels2 = -torch.empty_like(logits).exponential_().log() # ~Gumbel(0,1)\n",
    "    \n",
    "    gumbels = (logits + gumbels1 - gumbels2) / tau  # ~Gumbel(logits,tau) - ?\n",
    "    y_soft = gumbels.sigmoid()\n",
    "\n",
    "    if hard:\n",
    "        # Straight through.\n",
    "        y_hard = y_soft.gt(0.5).float()\n",
    "        ret = y_hard - y_soft.detach() + y_soft\n",
    "    else:\n",
    "        # Reparametrization trick.\n",
    "        ret = y_soft\n",
    "\n",
    "    return ret"
   ]
  },
  {
   "cell_type": "code",
   "execution_count": 435,
   "id": "a1f68e39-cdbc-4158-90b1-6be8ad6dbcaf",
   "metadata": {
    "execution": {
     "iopub.execute_input": "2022-04-18T07:41:26.037986Z",
     "iopub.status.busy": "2022-04-18T07:41:26.037729Z",
     "iopub.status.idle": "2022-04-18T07:41:26.042905Z",
     "shell.execute_reply": "2022-04-18T07:41:26.042299Z",
     "shell.execute_reply.started": "2022-04-18T07:41:26.037956Z"
    }
   },
   "outputs": [],
   "source": [
    "# 검벨 노이즈를 두번 샘플링 해서 빼주는 것과 그냥 하나만 더해주는 게 어떻게 다른가?\n",
    "# 두번 샘플링 해서 빼면 Logsitic distribution 이 됨. 아래 One-step-more 섹션 참고.\n",
    "def gumbel_sigmoid3(logits: torch.Tensor, tau:float = 1, hard: bool = False):\n",
    "    logistic = sample_standard_logistic(logits.shape)\n",
    "\n",
    "    gumbels = (logits + logistic) / tau  # ~Gumbel(logits,tau)\n",
    "    y_soft = gumbels.sigmoid()\n",
    "\n",
    "    if hard:\n",
    "        # Straight through.\n",
    "        y_hard = y_soft.gt(0.5).float()\n",
    "        ret = y_hard - y_soft.detach() + y_soft\n",
    "    else:\n",
    "        # Reparametrization trick.\n",
    "        ret = y_soft\n",
    "\n",
    "    return ret"
   ]
  },
  {
   "cell_type": "code",
   "execution_count": 436,
   "id": "03c12859-250a-4ce2-b544-87d51c05487d",
   "metadata": {
    "execution": {
     "iopub.execute_input": "2022-04-18T07:41:26.535919Z",
     "iopub.status.busy": "2022-04-18T07:41:26.535634Z",
     "iopub.status.idle": "2022-04-18T07:41:26.541573Z",
     "shell.execute_reply": "2022-04-18T07:41:26.540919Z",
     "shell.execute_reply.started": "2022-04-18T07:41:26.535889Z"
    }
   },
   "outputs": [],
   "source": [
    "def tostr(tensor):\n",
    "    return \", \".join(map(lambda x: f\"{x:.4f}\", tensor.numpy()))\n",
    "\n",
    "def test(fn, N, ndim, t=None, hard=False):\n",
    "    if t is None:\n",
    "        t = torch.rand(ndim) * 5\n",
    "    s = torch.zeros(ndim)\n",
    "\n",
    "    print(\"sig:\", tostr(t.sigmoid()))\n",
    "\n",
    "    for i in range(N):\n",
    "        r = fn(t, hard=hard)\n",
    "        s += r\n",
    "\n",
    "    s /= N\n",
    "    print(\"avg:\", tostr(s))"
   ]
  },
  {
   "cell_type": "code",
   "execution_count": 439,
   "id": "564f6e4d-e05c-435e-98a4-fe4407a34557",
   "metadata": {
    "execution": {
     "iopub.execute_input": "2022-04-18T07:41:33.884010Z",
     "iopub.status.busy": "2022-04-18T07:41:33.883737Z",
     "iopub.status.idle": "2022-04-18T07:41:33.887573Z",
     "shell.execute_reply": "2022-04-18T07:41:33.886962Z",
     "shell.execute_reply.started": "2022-04-18T07:41:33.883980Z"
    },
    "tags": []
   },
   "outputs": [],
   "source": [
    "N = 50000\n",
    "ndim = 12\n",
    "t = torch.randn(ndim) * 3\n",
    "hard = False"
   ]
  },
  {
   "cell_type": "code",
   "execution_count": 443,
   "id": "764356ff-d2fb-4fdf-b0db-8d34d1328a46",
   "metadata": {
    "execution": {
     "iopub.execute_input": "2022-04-18T07:41:44.412434Z",
     "iopub.status.busy": "2022-04-18T07:41:44.412154Z",
     "iopub.status.idle": "2022-04-18T07:41:46.776509Z",
     "shell.execute_reply": "2022-04-18T07:41:46.775863Z",
     "shell.execute_reply.started": "2022-04-18T07:41:44.412404Z"
    },
    "tags": []
   },
   "outputs": [
    {
     "name": "stdout",
     "output_type": "stream",
     "text": [
      "sig: 0.9956, 0.9281, 0.0090, 0.0573, 0.2178, 0.7549, 0.1251, 0.8979, 0.7281, 0.3631, 0.9896, 0.0966\n",
      "avg: 0.9808, 0.8499, 0.0339, 0.1284, 0.2968, 0.6792, 0.2111, 0.8138, 0.6614, 0.4080, 0.9618, 0.1809\n"
     ]
    }
   ],
   "source": [
    "test(gumbel_sigmoid, N, ndim, t=t, hard=hard)"
   ]
  },
  {
   "cell_type": "code",
   "execution_count": 444,
   "id": "1b2a0854-1115-41f4-a8a9-ab74bfc5c87f",
   "metadata": {
    "execution": {
     "iopub.execute_input": "2022-04-18T07:41:46.777873Z",
     "iopub.status.busy": "2022-04-18T07:41:46.777635Z",
     "iopub.status.idle": "2022-04-18T07:41:48.649429Z",
     "shell.execute_reply": "2022-04-18T07:41:48.648806Z",
     "shell.execute_reply.started": "2022-04-18T07:41:46.777844Z"
    },
    "tags": []
   },
   "outputs": [
    {
     "name": "stdout",
     "output_type": "stream",
     "text": [
      "sig: 0.9956, 0.9281, 0.0090, 0.0573, 0.2178, 0.7549, 0.1251, 0.8979, 0.7281, 0.3631, 0.9896, 0.0966\n",
      "avg: 0.9800, 0.8513, 0.0346, 0.1275, 0.2974, 0.6802, 0.2114, 0.8138, 0.6586, 0.4071, 0.9618, 0.1787\n"
     ]
    }
   ],
   "source": [
    "test(gumbel_sigmoid2, N, ndim, t=t, hard=hard)"
   ]
  },
  {
   "cell_type": "code",
   "execution_count": 445,
   "id": "625578dd-4a46-43a1-981a-cb6d4d8004aa",
   "metadata": {
    "execution": {
     "iopub.execute_input": "2022-04-18T07:41:48.652439Z",
     "iopub.status.busy": "2022-04-18T07:41:48.652175Z",
     "iopub.status.idle": "2022-04-18T07:41:50.787594Z",
     "shell.execute_reply": "2022-04-18T07:41:50.786976Z",
     "shell.execute_reply.started": "2022-04-18T07:41:48.652410Z"
    },
    "tags": []
   },
   "outputs": [
    {
     "name": "stdout",
     "output_type": "stream",
     "text": [
      "sig: 0.9956, 0.9281, 0.0090, 0.0573, 0.2178, 0.7549, 0.1251, 0.8979, 0.7281, 0.3631, 0.9896, 0.0966\n",
      "avg: 0.9807, 0.8512, 0.0342, 0.1276, 0.2958, 0.6799, 0.2123, 0.8141, 0.6583, 0.4068, 0.9616, 0.1806\n"
     ]
    }
   ],
   "source": [
    "test(gumbel_sigmoid3, N, ndim, t=t, hard=hard)"
   ]
  },
  {
   "cell_type": "markdown",
   "id": "7ea68dc2-14de-4c8f-8099-f226dbdf63e1",
   "metadata": {},
   "source": [
    "## One step more\n",
    "\n",
    "두 standard gumbel distribution 의 차는 standard logistic distribution 을 따른다고 함 (https://math.stackexchange.com/questions/637929/how-to-show-that-the-difference-of-two-gumbel-distributed-random-variables-follo)\n",
    "\n",
    "$$X,Y\\sim\\text{Gumbel}[0,1]$$\n",
    "\n",
    "then,\n",
    "\n",
    "$$X-Y\\sim\\text{Logistic}[0,1]$$"
   ]
  },
  {
   "cell_type": "markdown",
   "id": "bf6c37e5-05d7-499a-b830-2db8857af27b",
   "metadata": {},
   "source": [
    "- Cumulative distribution function of Logistic distribution\n",
    "\n",
    "$$F(x ; \\mu, s)=\\frac{1}{1+e^{-(x-\\mu) / s}}=\\frac{1}{2}+\\frac{1}{2} \\tanh \\left(\\frac{x-\\mu}{2 s}\\right)$$"
   ]
  },
  {
   "cell_type": "markdown",
   "id": "9ccc1cf0-c14a-4f91-8274-efd70599248d",
   "metadata": {},
   "source": [
    "- Standard cumulative distribution function\n",
    "\n",
    "$$\n",
    "F(x)=\\frac{1}{1+e^{-x}}\n",
    "$$"
   ]
  },
  {
   "cell_type": "code",
   "execution_count": 389,
   "id": "512ec32d-6fbc-43b1-bd8b-304c420bd6f7",
   "metadata": {},
   "outputs": [],
   "source": [
    "from torch.distributions import SigmoidTransform"
   ]
  },
  {
   "cell_type": "code",
   "execution_count": 395,
   "id": "0fe95fba-ecd7-4d3f-8631-fe442193c984",
   "metadata": {},
   "outputs": [
    {
     "name": "stdout",
     "output_type": "stream",
     "text": [
      "tensor([0.9692, 0.7315, 0.6263, 0.3394, 0.6865, 0.0322, 0.2155, 0.8013, 0.6271,\n",
      "        0.5695])\n"
     ]
    },
    {
     "data": {
      "text/plain": [
       "tensor([0.9692, 0.7315, 0.6263, 0.3394, 0.6865, 0.0322, 0.2155, 0.8013, 0.6271,\n",
       "        0.5695])"
      ]
     },
     "execution_count": 395,
     "metadata": {},
     "output_type": "execute_result"
    }
   ],
   "source": [
    "t = torch.rand(10)\n",
    "print(t)\n",
    "SigmoidTransform().inv(t).sigmoid()"
   ]
  },
  {
   "cell_type": "code",
   "execution_count": 396,
   "id": "b5e20c88-52cd-468b-8d5c-9991e90b69e5",
   "metadata": {
    "tags": []
   },
   "outputs": [],
   "source": [
    "# e^{-x} = 1/F(x) - 1\n",
    "# x = -log(1/F(x) - 1)\n",
    "\n",
    "\n",
    "def sample_standard_logistic(shape):\n",
    "    return SigmoidTransform().inv(torch.rand(shape))"
   ]
  },
  {
   "cell_type": "code",
   "execution_count": 401,
   "id": "8b2c5f55-4efa-44f2-9e24-f9ec244380b4",
   "metadata": {},
   "outputs": [
    {
     "data": {
      "text/plain": [
       "tensor([[ 6.8093, -2.2592, -0.6496, -1.9989,  2.1684,  2.8180, -0.2385,  0.5564,\n",
       "          1.5891, -3.1812,  0.3445, -2.3692]])"
      ]
     },
     "execution_count": 401,
     "metadata": {},
     "output_type": "execute_result"
    }
   ],
   "source": [
    "sample_standard_logistic([1, 12])"
   ]
  },
  {
   "cell_type": "code",
   "execution_count": null,
   "id": "b161c15f-a1a8-4a4e-9184-69447c57e826",
   "metadata": {},
   "outputs": [],
   "source": []
  }
 ],
 "metadata": {
  "kernelspec": {
   "display_name": "Python 3",
   "language": "python",
   "name": "python3"
  },
  "language_info": {
   "codemirror_mode": {
    "name": "ipython",
    "version": 3
   },
   "file_extension": ".py",
   "mimetype": "text/x-python",
   "name": "python",
   "nbconvert_exporter": "python",
   "pygments_lexer": "ipython3",
   "version": "3.7.10"
  }
 },
 "nbformat": 4,
 "nbformat_minor": 5
}
