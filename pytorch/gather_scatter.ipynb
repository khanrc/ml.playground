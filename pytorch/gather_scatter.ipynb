{
 "cells": [
  {
   "cell_type": "markdown",
   "id": "0b47d80f-201d-4fc9-885b-5760e186e5db",
   "metadata": {},
   "source": [
    "# PyTorch index methods\n",
    "\n",
    "파이토치에서 인덱스를 가지고 놀다 보면 헷갈릴 때가 많다. 하나씩 정리해보자.\n",
    "한번에 다 정리하긴 힘들 거 같고 그때그때 하나씩 한다.\n",
    "\n",
    "Candidates:\n",
    "\n",
    "- `gather`\n",
    "- `scatter`\n",
    "\n",
    "또 있나?"
   ]
  },
  {
   "cell_type": "markdown",
   "id": "7e617317-7d82-4856-99c5-7094bd5ddcf1",
   "metadata": {},
   "source": [
    "### Additional library\n",
    "\n",
    "- https://github.com/rusty1s/pytorch_scatter\n",
    "\n",
    "<p align=\"center\">\n",
    "  <img width=\"30%\" src=\"https://raw.githubusercontent.com/rusty1s/pytorch_scatter/master/docs/source/_figures/add.svg?sanitize=true\" />\n",
    "</p>\n",
    "\n",
    "뭐 요런걸 해준다고 함!"
   ]
  },
  {
   "cell_type": "code",
   "execution_count": 4,
   "id": "1802be54-c22c-4db1-a26a-d6338e2b86fd",
   "metadata": {
    "execution": {
     "iopub.execute_input": "2022-05-18T07:51:27.912318Z",
     "iopub.status.busy": "2022-05-18T07:51:27.912058Z",
     "iopub.status.idle": "2022-05-18T07:51:27.915964Z",
     "shell.execute_reply": "2022-05-18T07:51:27.915312Z",
     "shell.execute_reply.started": "2022-05-18T07:51:27.912290Z"
    },
    "tags": []
   },
   "outputs": [],
   "source": [
    "import torch\n",
    "import torch.nn as nn\n",
    "import torch.nn.functional as F\n",
    "import numpy as np"
   ]
  },
  {
   "cell_type": "markdown",
   "id": "095b7c78-0c6e-4968-b806-2a68a3a2c3e8",
   "metadata": {
    "execution": {
     "iopub.execute_input": "2022-05-18T07:50:57.375100Z",
     "iopub.status.busy": "2022-05-18T07:50:57.374838Z",
     "iopub.status.idle": "2022-05-18T07:50:57.378013Z",
     "shell.execute_reply": "2022-05-18T07:50:57.377357Z",
     "shell.execute_reply.started": "2022-05-18T07:50:57.375068Z"
    },
    "tags": []
   },
   "source": [
    "## Basic"
   ]
  },
  {
   "cell_type": "code",
   "execution_count": 9,
   "id": "38bccd84-5034-4bf5-a967-0bd816a7d86c",
   "metadata": {
    "execution": {
     "iopub.execute_input": "2022-05-18T07:52:43.143942Z",
     "iopub.status.busy": "2022-05-18T07:52:43.143673Z",
     "iopub.status.idle": "2022-05-18T07:52:43.147431Z",
     "shell.execute_reply": "2022-05-18T07:52:43.146778Z",
     "shell.execute_reply.started": "2022-05-18T07:52:43.143913Z"
    },
    "tags": []
   },
   "outputs": [],
   "source": [
    "idx = torch.as_tensor([0, 2])"
   ]
  },
  {
   "cell_type": "markdown",
   "id": "ebb393c3-a8d9-44d6-bfbd-530a89a82a68",
   "metadata": {},
   "source": [
    "- 특정 차원을 전부 지정하고 싶다면 `:`"
   ]
  },
  {
   "cell_type": "code",
   "execution_count": 10,
   "id": "211d910d-0f14-4efe-bd0d-08a8ff84a048",
   "metadata": {
    "execution": {
     "iopub.execute_input": "2022-05-18T07:52:45.742385Z",
     "iopub.status.busy": "2022-05-18T07:52:45.742126Z",
     "iopub.status.idle": "2022-05-18T07:52:45.748446Z",
     "shell.execute_reply": "2022-05-18T07:52:45.747844Z",
     "shell.execute_reply.started": "2022-05-18T07:52:45.742356Z"
    },
    "tags": []
   },
   "outputs": [
    {
     "data": {
      "text/plain": [
       "tensor([[[1., 1., 1.],\n",
       "         [0., 0., 0.],\n",
       "         [1., 1., 1.]],\n",
       "\n",
       "        [[1., 1., 1.],\n",
       "         [0., 0., 0.],\n",
       "         [1., 1., 1.]],\n",
       "\n",
       "        [[1., 1., 1.],\n",
       "         [0., 0., 0.],\n",
       "         [1., 1., 1.]]])"
      ]
     },
     "execution_count": 10,
     "metadata": {},
     "output_type": "execute_result"
    }
   ],
   "source": [
    "t = torch.zeros(3, 3, 3)\n",
    "t[:, idx] = 1.\n",
    "t"
   ]
  },
  {
   "cell_type": "markdown",
   "id": "95ee6e10-8449-4034-b13a-cc8a03644ee5",
   "metadata": {},
   "source": [
    "- 각 차원마다 인덱스를 지정해주고 싶다면\n",
    "  - `t[i, j] = 1.` where `i` in `idx0` and `j` in `idx` 를 하고 싶다면"
   ]
  },
  {
   "cell_type": "code",
   "execution_count": 12,
   "id": "7dc1501b-8e72-4550-9a9e-277561415131",
   "metadata": {
    "execution": {
     "iopub.execute_input": "2022-05-18T07:53:17.733814Z",
     "iopub.status.busy": "2022-05-18T07:53:17.733526Z",
     "iopub.status.idle": "2022-05-18T07:53:17.740146Z",
     "shell.execute_reply": "2022-05-18T07:53:17.739530Z",
     "shell.execute_reply.started": "2022-05-18T07:53:17.733784Z"
    },
    "tags": []
   },
   "outputs": [
    {
     "data": {
      "text/plain": [
       "tensor([[[0., 0., 0.],\n",
       "         [0., 0., 0.],\n",
       "         [0., 0., 0.]],\n",
       "\n",
       "        [[1., 1., 1.],\n",
       "         [0., 0., 0.],\n",
       "         [0., 0., 0.]],\n",
       "\n",
       "        [[0., 0., 0.],\n",
       "         [0., 0., 0.],\n",
       "         [1., 1., 1.]]])"
      ]
     },
     "execution_count": 12,
     "metadata": {},
     "output_type": "execute_result"
    }
   ],
   "source": [
    "t = torch.zeros(3, 3, 3)\n",
    "idx0 = torch.as_tensor([1, 2])\n",
    "t[idx0, idx] = 1.\n",
    "t"
   ]
  },
  {
   "cell_type": "markdown",
   "id": "b674a63a-d0cb-4c55-8657-1cafefea2bf5",
   "metadata": {
    "execution": {
     "iopub.execute_input": "2022-05-18T07:56:44.455137Z",
     "iopub.status.busy": "2022-05-18T07:56:44.454861Z",
     "iopub.status.idle": "2022-05-18T07:56:44.459719Z",
     "shell.execute_reply": "2022-05-18T07:56:44.458871Z",
     "shell.execute_reply.started": "2022-05-18T07:56:44.455108Z"
    }
   },
   "source": [
    "- one-hot vector 같은건 요렇게 만들 수:"
   ]
  },
  {
   "cell_type": "code",
   "execution_count": 15,
   "id": "92a4414d-b49f-4624-ad62-88b0c5c3540b",
   "metadata": {
    "execution": {
     "iopub.execute_input": "2022-05-18T07:57:13.243720Z",
     "iopub.status.busy": "2022-05-18T07:57:13.243440Z",
     "iopub.status.idle": "2022-05-18T07:57:13.250067Z",
     "shell.execute_reply": "2022-05-18T07:57:13.249449Z",
     "shell.execute_reply.started": "2022-05-18T07:57:13.243691Z"
    },
    "tags": []
   },
   "outputs": [
    {
     "data": {
      "text/plain": [
       "tensor([[1., 0., 0., 0.],\n",
       "        [0., 0., 0., 1.],\n",
       "        [0., 1., 0., 0.],\n",
       "        [0., 1., 0., 0.]])"
      ]
     },
     "execution_count": 15,
     "metadata": {},
     "output_type": "execute_result"
    }
   ],
   "source": [
    "t = torch.zeros(4, 4)\n",
    "labels = torch.as_tensor([0, 3, 1, 1])\n",
    "\n",
    "t[torch.arange(4), labels] = 1.\n",
    "t"
   ]
  },
  {
   "cell_type": "markdown",
   "id": "1067ded9-4537-4699-8409-9d569c72c8ba",
   "metadata": {},
   "source": [
    "## Scatter\n",
    "\n",
    "scatter 는 일단 공식 도큐먼트에는 다음과 같이 나온다:\n",
    "\n",
    "Tensor.scatter_(dim, index, src, reduce=None) → Tensor\n",
    "\n",
    "```python\n",
    "# 3d 일때 예제.\n",
    "self[index[i][j][k]][j][k] = src[i][j][k]  # if dim == 0\n",
    "self[i][index[i][j][k]][k] = src[i][j][k]  # if dim == 1\n",
    "self[i][j][index[i][j][k]] = src[i][j][k]  # if dim == 2\n",
    "```\n",
    "\n",
    "- 대충 이런거다. 즉, src -> self 로 카피를 해 오고 싶은데, 이때 그대로 카피해오고 싶은게 아니라 index 에 따라 위치를 바꾸고 싶은 것.\n",
    "- 다만 위 예제로 다 설명되는 건 아님. 일단 `src` 대신 `value` 로 특정 스칼라값 지정도 가능함. 혹은 keyword 를 안쓰면 알아서 작동한다.\n",
    "- 그리고 위처럼 보면 무조건 `self` 와 `src` 의 shape 이 같아야 할 것 같지만 그렇지도 않다.\n",
    "  - 일단 차원 수는 다 같아야 함\n",
    "  - `index.size(d) <= src.size(d)` for all `d`\n",
    "  - `index.size(d) <= self.size(d)` for all `d != dim`\n",
    "    - `d == dim` 일때는, 아마도, 더 커도 상관이 없는 듯. 그만큼 더 assign 을 할 뿐이지 값이 range 안에만 있으면 문제될 거 없음. 근데 더 클 일이 있나...?\n",
    "  - `index` 와 `src` 는 broadcast 되지 않는다.\n",
    "\n",
    "- <span style=\"color:red\"> **!! Caution !!** </span> : The backward pass is implemented only for `src.shape` == `index.shape`.\n"
   ]
  },
  {
   "cell_type": "markdown",
   "id": "aa60e1aa-5501-4982-b9fb-5426e17f5e9c",
   "metadata": {},
   "source": [
    "- 기본 예제"
   ]
  },
  {
   "cell_type": "code",
   "execution_count": 39,
   "id": "a6a8def5-16b9-4549-80a8-e885f2f32185",
   "metadata": {
    "execution": {
     "iopub.execute_input": "2022-05-18T08:22:50.019572Z",
     "iopub.status.busy": "2022-05-18T08:22:50.019207Z",
     "iopub.status.idle": "2022-05-18T08:22:50.031511Z",
     "shell.execute_reply": "2022-05-18T08:22:50.030727Z",
     "shell.execute_reply.started": "2022-05-18T08:22:50.019531Z"
    },
    "tags": []
   },
   "outputs": [
    {
     "name": "stdout",
     "output_type": "stream",
     "text": [
      "self/index/src: torch.Size([3, 5]) torch.Size([1, 4]) torch.Size([2, 5])\n",
      "tensor([[ 1,  2,  3,  4,  5],\n",
      "        [ 6,  7,  8,  9, 10]])\n"
     ]
    },
    {
     "data": {
      "text/plain": [
       "tensor([[1, 0, 0, 4, 0],\n",
       "        [0, 2, 0, 0, 0],\n",
       "        [0, 0, 3, 0, 0]])"
      ]
     },
     "execution_count": 39,
     "metadata": {},
     "output_type": "execute_result"
    }
   ],
   "source": [
    "\"\"\"\n",
    "dim = 0 이므로, 기본적으로\n",
    "self[index[i, j], j] = src[i, j] 다.\n",
    "\n",
    "즉, j 를 따라 self 의 i 축에 src 를 박아넣자는 게 기본 골자이고,\n",
    "이 때 i 를 그냥 i 가 결정하는 게 아니라 index 가 결정하게 하겠다는 것.\n",
    "\n",
    "그래서 output shape 은 당연히 self 지만,\n",
    "이 output 에 \"얼마나 박아넣냐\" 는 index 만큼임.\n",
    "\"\"\"\n",
    "\n",
    "src = torch.arange(1, 11).reshape(2, 5)\n",
    "index = torch.as_tensor([[0, 1, 2, 0]])\n",
    "slf = torch.zeros(3, 5, dtype=src.dtype)\n",
    "print(\"self/index/src:\", slf.shape, index.shape, src.shape)\n",
    "print(src)\n",
    "slf.scatter_(0, index, src)"
   ]
  },
  {
   "cell_type": "code",
   "execution_count": 40,
   "id": "151e14f8-9b7d-4f22-9bb7-eecb04d2941f",
   "metadata": {
    "execution": {
     "iopub.execute_input": "2022-05-18T08:22:50.442724Z",
     "iopub.status.busy": "2022-05-18T08:22:50.442444Z",
     "iopub.status.idle": "2022-05-18T08:22:50.449412Z",
     "shell.execute_reply": "2022-05-18T08:22:50.448675Z",
     "shell.execute_reply.started": "2022-05-18T08:22:50.442695Z"
    },
    "tags": []
   },
   "outputs": [
    {
     "data": {
      "text/plain": [
       "tensor([[1, 2, 3, 0, 0],\n",
       "        [6, 7, 0, 0, 8],\n",
       "        [0, 0, 0, 0, 0]])"
      ]
     },
     "execution_count": 40,
     "metadata": {},
     "output_type": "execute_result"
    }
   ],
   "source": [
    "\"\"\"\n",
    "여기서는 dim=1 을 줬다.\n",
    "따라서 self[i, index[i, j]] = src[i, j] 가 되는 것.\n",
    "\"\"\"\n",
    "\n",
    "index = torch.as_tensor([[0, 1, 2], [0, 1, 4]])\n",
    "slf = torch.zeros(3, 5, dtype=src.dtype)\n",
    "slf.scatter_(1, index, src)"
   ]
  },
  {
   "cell_type": "markdown",
   "id": "c5bbb27a-0697-44b5-ae2d-63d200fb503e",
   "metadata": {},
   "source": [
    "src 까지 생각하면 좀 더 헷갈리는 것 같고... src 를 빼고 생각하면 좀 더 단순하다."
   ]
  },
  {
   "cell_type": "markdown",
   "id": "35d70a0e-0f0e-42bf-9416-7dde74391c0e",
   "metadata": {},
   "source": [
    "- 이번엔 응용 예제를 해 보자. 2d index 를 3d one-hot 으로 확장하는 것.\n",
    "  - 위에서 2d one-hot 은 torch.arange 로 간단하게 만들 수 있었지만 3d 로 가면 그게 어려움."
   ]
  },
  {
   "cell_type": "code",
   "execution_count": 50,
   "id": "0a0c4ced-3294-42dc-95fe-3f9de80d12db",
   "metadata": {
    "execution": {
     "iopub.execute_input": "2022-05-18T08:48:16.381217Z",
     "iopub.status.busy": "2022-05-18T08:48:16.380905Z",
     "iopub.status.idle": "2022-05-18T08:48:16.391046Z",
     "shell.execute_reply": "2022-05-18T08:48:16.390161Z",
     "shell.execute_reply.started": "2022-05-18T08:48:16.381164Z"
    },
    "tags": []
   },
   "outputs": [
    {
     "name": "stdout",
     "output_type": "stream",
     "text": [
      "tensor([[[2, 2, 2],\n",
      "         [1, 0, 2],\n",
      "         [2, 1, 2]]])\n"
     ]
    },
    {
     "data": {
      "text/plain": [
       "tensor([[[0, 0, 0],\n",
       "         [0, 1, 0],\n",
       "         [0, 0, 0]],\n",
       "\n",
       "        [[0, 0, 0],\n",
       "         [1, 0, 0],\n",
       "         [0, 1, 0]],\n",
       "\n",
       "        [[1, 1, 1],\n",
       "         [0, 0, 1],\n",
       "         [1, 0, 1]]])"
      ]
     },
     "execution_count": 50,
     "metadata": {},
     "output_type": "execute_result"
    }
   ],
   "source": [
    "index = torch.randint(0, 3, [1, 3, 3])  # 2d index\n",
    "print(index.squeeze(-1))\n",
    "slf = torch.zeros(3, 3, 3, dtype=src.dtype)\n",
    "slf.scatter_(0, index, 1)  # 3d one-hot"
   ]
  },
  {
   "cell_type": "markdown",
   "id": "e915aeb6-5bf9-476a-b898-5c268d9019fa",
   "metadata": {},
   "source": [
    "### Scatter w/ reduce\n",
    "\n",
    "단순히 assign 하는것 외에도 `add` 와 `multiply` 의 reduce 연산이 가능하다. 특히 `add` 는 `scatter_add_` 라고 따로 함수까지 있음.\n",
    "\n",
    "예제 상황: example-wise loss 들이 있을 때, 이걸 class-wise mean 을 하고 싶다면?"
   ]
  },
  {
   "cell_type": "code",
   "execution_count": 105,
   "id": "2c998301-ea32-47ca-9d2f-94254e5bfff9",
   "metadata": {
    "execution": {
     "iopub.execute_input": "2022-05-25T02:53:18.447627Z",
     "iopub.status.busy": "2022-05-25T02:53:18.447358Z",
     "iopub.status.idle": "2022-05-25T02:53:18.453684Z",
     "shell.execute_reply": "2022-05-25T02:53:18.453130Z",
     "shell.execute_reply.started": "2022-05-25T02:53:18.447598Z"
    },
    "tags": []
   },
   "outputs": [
    {
     "data": {
      "text/plain": [
       "tensor([0.5146, 0.5474, 0.6356, 0.6951])"
      ]
     },
     "execution_count": 105,
     "metadata": {},
     "output_type": "execute_result"
    }
   ],
   "source": [
    "n_classes = 3\n",
    "B = 4\n",
    "\n",
    "t = torch.rand(B, 7)\n",
    "# idx = torch.as_tensor([2, 0, 0, 0])\n",
    "idx = torch.randint(n_classes, [B])\n",
    "s = torch.zeros([n_classes])\n",
    "t.mean(1)"
   ]
  },
  {
   "cell_type": "code",
   "execution_count": 106,
   "id": "944d0bc1-b7c9-4666-a05e-2032eec31ded",
   "metadata": {
    "execution": {
     "iopub.execute_input": "2022-05-25T02:53:18.606569Z",
     "iopub.status.busy": "2022-05-25T02:53:18.606322Z",
     "iopub.status.idle": "2022-05-25T02:53:18.611406Z",
     "shell.execute_reply": "2022-05-25T02:53:18.610835Z",
     "shell.execute_reply.started": "2022-05-25T02:53:18.606542Z"
    },
    "tags": []
   },
   "outputs": [
    {
     "name": "stdout",
     "output_type": "stream",
     "text": [
      "tensor([0., 0., 0.])\n",
      "tensor([2, 2, 2, 1])\n",
      "tensor([0.5146, 0.5474, 0.6356, 0.6951])\n"
     ]
    }
   ],
   "source": [
    "# want to do: s[idx] += t.mean(1)\n",
    "print(s)\n",
    "print(idx)\n",
    "print(t.mean(1))"
   ]
  },
  {
   "cell_type": "code",
   "execution_count": 107,
   "id": "04d26a97-b85c-4ed1-95d5-a99d1cea45f1",
   "metadata": {
    "execution": {
     "iopub.execute_input": "2022-05-25T02:53:19.557945Z",
     "iopub.status.busy": "2022-05-25T02:53:19.557505Z",
     "iopub.status.idle": "2022-05-25T02:53:19.564526Z",
     "shell.execute_reply": "2022-05-25T02:53:19.563774Z",
     "shell.execute_reply.started": "2022-05-25T02:53:19.557892Z"
    },
    "tags": []
   },
   "outputs": [
    {
     "name": "stdout",
     "output_type": "stream",
     "text": [
      "tensor([0.0000, 0.6951, 1.6976])\n"
     ]
    }
   ],
   "source": [
    "# for문으로 하면 이렇게\n",
    "s = torch.zeros([n_classes])\n",
    "for i, v in zip(idx, t.mean(1)):\n",
    "    s[i.item()] += v\n",
    "print(s)"
   ]
  },
  {
   "cell_type": "code",
   "execution_count": 108,
   "id": "d0e7fd26-ee37-4ed0-a608-de70fcdfc659",
   "metadata": {
    "execution": {
     "iopub.execute_input": "2022-05-25T02:53:19.764914Z",
     "iopub.status.busy": "2022-05-25T02:53:19.764317Z",
     "iopub.status.idle": "2022-05-25T02:53:19.772116Z",
     "shell.execute_reply": "2022-05-25T02:53:19.771411Z",
     "shell.execute_reply.started": "2022-05-25T02:53:19.764824Z"
    },
    "tags": []
   },
   "outputs": [
    {
     "data": {
      "text/plain": [
       "tensor([0.0000, 0.6951, 1.6976])"
      ]
     },
     "execution_count": 108,
     "metadata": {},
     "output_type": "execute_result"
    }
   ],
   "source": [
    "s = torch.zeros([n_classes])\n",
    "s.scatter_(0, idx, t.mean(1), reduce='add')"
   ]
  },
  {
   "cell_type": "code",
   "execution_count": 109,
   "id": "85f5751d-5df5-4c86-91ff-9d960903531b",
   "metadata": {
    "execution": {
     "iopub.execute_input": "2022-05-25T02:53:20.176370Z",
     "iopub.status.busy": "2022-05-25T02:53:20.176102Z",
     "iopub.status.idle": "2022-05-25T02:53:20.181454Z",
     "shell.execute_reply": "2022-05-25T02:53:20.180932Z",
     "shell.execute_reply.started": "2022-05-25T02:53:20.176341Z"
    },
    "tags": []
   },
   "outputs": [
    {
     "data": {
      "text/plain": [
       "tensor([0.0000, 0.6951, 1.6976])"
      ]
     },
     "execution_count": 109,
     "metadata": {},
     "output_type": "execute_result"
    }
   ],
   "source": [
    "s = torch.zeros([n_classes])\n",
    "s.scatter_add_(0, idx, t.mean(1))"
   ]
  },
  {
   "cell_type": "code",
   "execution_count": 110,
   "id": "90efd25a-00bd-439a-b144-562a1958235f",
   "metadata": {
    "execution": {
     "iopub.execute_input": "2022-05-25T02:53:20.508868Z",
     "iopub.status.busy": "2022-05-25T02:53:20.508607Z",
     "iopub.status.idle": "2022-05-25T02:53:20.513603Z",
     "shell.execute_reply": "2022-05-25T02:53:20.513074Z",
     "shell.execute_reply.started": "2022-05-25T02:53:20.508840Z"
    },
    "tags": []
   },
   "outputs": [
    {
     "data": {
      "text/plain": [
       "tensor([   nan, 0.6951, 0.5659])"
      ]
     },
     "execution_count": 110,
     "metadata": {},
     "output_type": "execute_result"
    }
   ],
   "source": [
    "# 여기까지는 class-wise sum 을 한 거고 mean 을 하려면 count 만큼 나눠줘야 한다.\n",
    "s.div(idx.bincount(minlength=n_classes))"
   ]
  },
  {
   "cell_type": "code",
   "execution_count": 111,
   "id": "4e172e00-d125-4d2b-ae2c-9daab881f50c",
   "metadata": {
    "execution": {
     "iopub.execute_input": "2022-05-25T02:53:21.174174Z",
     "iopub.status.busy": "2022-05-25T02:53:21.173928Z",
     "iopub.status.idle": "2022-05-25T02:53:21.179355Z",
     "shell.execute_reply": "2022-05-25T02:53:21.178829Z",
     "shell.execute_reply.started": "2022-05-25T02:53:21.174147Z"
    },
    "tags": []
   },
   "outputs": [
    {
     "data": {
      "text/plain": [
       "tensor(0.6305)"
      ]
     },
     "execution_count": 111,
     "metadata": {},
     "output_type": "execute_result"
    }
   ],
   "source": [
    "r = s.div(idx.bincount(minlength=n_classes))\n",
    "r[r.isfinite()].mean()"
   ]
  }
 ],
 "metadata": {
  "kernelspec": {
   "display_name": "Python 3",
   "language": "python",
   "name": "python3"
  },
  "language_info": {
   "codemirror_mode": {
    "name": "ipython",
    "version": 3
   },
   "file_extension": ".py",
   "mimetype": "text/x-python",
   "name": "python",
   "nbconvert_exporter": "python",
   "pygments_lexer": "ipython3",
   "version": "3.7.10"
  }
 },
 "nbformat": 4,
 "nbformat_minor": 5
}
