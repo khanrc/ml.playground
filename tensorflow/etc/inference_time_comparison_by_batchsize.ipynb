{
 "cells": [
  {
   "cell_type": "markdown",
   "metadata": {},
   "source": [
    "# batch size 에 따른 inference 속도 비교"
   ]
  },
  {
   "cell_type": "code",
   "execution_count": 4,
   "metadata": {
    "collapsed": true
   },
   "outputs": [],
   "source": [
    "import tensorflow as tf\n",
    "import numpy as np\n",
    "from tensorflow.examples.tutorials.mnist import input_data\n",
    "import collections\n",
    "slim = tf.contrib.slim"
   ]
  },
  {
   "cell_type": "code",
   "execution_count": 5,
   "metadata": {},
   "outputs": [
    {
     "name": "stdout",
     "output_type": "stream",
     "text": [
      "Extracting MNIST_data/train-images-idx3-ubyte.gz\n",
      "Extracting MNIST_data/train-labels-idx1-ubyte.gz\n",
      "Extracting MNIST_data/t10k-images-idx3-ubyte.gz\n",
      "Extracting MNIST_data/t10k-labels-idx1-ubyte.gz\n"
     ]
    }
   ],
   "source": [
    "mnist = input_data.read_data_sets('MNIST_data/', one_hot=True)"
   ]
  },
  {
   "cell_type": "code",
   "execution_count": 17,
   "metadata": {},
   "outputs": [],
   "source": [
    "tf.reset_default_graph()\n",
    "\n",
    "X = tf.placeholder(tf.float32, [None, 784])\n",
    "y = tf.placeholder(tf.float32, [None, 10])\n",
    "\n",
    "x_img = tf.reshape(X, [-1, 28, 28, 1])\n",
    "\n",
    "# slim.conv2d uses relu and xavier init as default\n",
    "h1 = slim.conv2d(x_img, 64, kernel_size=[3,3]) \n",
    "h1 = slim.conv2d(x_img, 64, kernel_size=[3,3]) \n",
    "h1 = slim.conv2d(x_img, 64, kernel_size=[3,3]) \n",
    "p1 = slim.max_pool2d(h1, kernel_size=[2,2])\n",
    "# checking dimensions for each layer is very helpful\n",
    "assert p1.shape[1:] == [14, 14, 64]\n",
    "\n",
    "h2 = slim.conv2d(p1, 128, kernel_size=[3,3])\n",
    "h2 = slim.conv2d(p1, 128, kernel_size=[3,3])\n",
    "h2 = slim.conv2d(p1, 128, kernel_size=[3,3])\n",
    "p2 = slim.max_pool2d(h2, kernel_size=[2,2])\n",
    "assert p2.shape[1:] == [7, 7, 128]\n",
    "\n",
    "flat = slim.flatten(p2)\n",
    "logits = slim.fully_connected(flat, 10, activation_fn=None)\n",
    "prob = tf.nn.softmax(logits)\n",
    "\n",
    "correct = tf.equal(tf.argmax(logits, axis=1), tf.argmax(y, axis=1))\n",
    "accuracy = tf.reduce_mean(tf.cast(correct, tf.float32))\n",
    "loss = tf.nn.softmax_cross_entropy_with_logits(logits=logits, labels=y)\n",
    "loss = tf.reduce_mean(loss)\n",
    "train_op = tf.train.AdamOptimizer(learning_rate=0.001).minimize(loss)"
   ]
  },
  {
   "cell_type": "code",
   "execution_count": 18,
   "metadata": {
    "collapsed": true
   },
   "outputs": [],
   "source": [
    "epoch_n=10\n",
    "batch_size=100\n",
    "n_iter=None"
   ]
  },
  {
   "cell_type": "code",
   "execution_count": 19,
   "metadata": {},
   "outputs": [
    {
     "name": "stdout",
     "output_type": "stream",
     "text": [
      "[ 1/10] (train) acc: 94.20%, loss: 0.194 | (test) acc: 98.24%, loss: 0.055\n",
      "[ 2/10] (train) acc: 98.36%, loss: 0.055 | (test) acc: 98.85%, loss: 0.037\n",
      "[ 3/10] (train) acc: 98.73%, loss: 0.039 | (test) acc: 98.86%, loss: 0.034\n",
      "[ 4/10] (train) acc: 99.03%, loss: 0.031 | (test) acc: 99.03%, loss: 0.030\n",
      "[ 5/10] (train) acc: 99.23%, loss: 0.023 | (test) acc: 98.88%, loss: 0.037\n",
      "[ 6/10] (train) acc: 99.40%, loss: 0.019 | (test) acc: 98.83%, loss: 0.035\n",
      "[ 7/10] (train) acc: 99.51%, loss: 0.016 | (test) acc: 99.11%, loss: 0.029\n",
      "[ 8/10] (train) acc: 99.57%, loss: 0.012 | (test) acc: 99.11%, loss: 0.029\n",
      "[ 9/10] (train) acc: 99.60%, loss: 0.012 | (test) acc: 98.77%, loss: 0.043\n",
      "[10/10] (train) acc: 99.72%, loss: 0.009 | (test) acc: 99.05%, loss: 0.031\n",
      "average of last 5 test acc: 98.97%\n"
     ]
    }
   ],
   "source": [
    "sess = tf.Session()\n",
    "sess.run(tf.global_variables_initializer())\n",
    "\n",
    "N = mnist.train.num_examples\n",
    "if n_iter is None:\n",
    "    n_iter = N // batch_size\n",
    "# the last 5 accuracies will be used for the evaluation of a model\n",
    "dq = collections.deque(maxlen=5)\n",
    "\n",
    "for epoch in range(epoch_n):\n",
    "    avg_loss = 0.\n",
    "    avg_acc = 0.\n",
    "    for _ in range(n_iter):\n",
    "        batch_x, batch_y = mnist.train.next_batch(batch_size)\n",
    "        _, cur_acc, cur_loss = sess.run([train_op, accuracy, loss], {X: batch_x, y: batch_y})\n",
    "        avg_acc += cur_acc\n",
    "        avg_loss += cur_loss\n",
    "\n",
    "    avg_acc /= n_iter\n",
    "    avg_loss /= n_iter\n",
    "\n",
    "    test_acc = 0.\n",
    "    test_loss = 0.\n",
    "    for _ in range(mnist.test.num_examples // 1000):\n",
    "        batch_x, batch_y = mnist.test.next_batch(1000)\n",
    "        cur_acc, cur_loss = sess.run([accuracy, loss], {X: batch_x, y: batch_y})\n",
    "        test_acc += cur_acc\n",
    "        test_loss += cur_loss\n",
    "    test_acc /= (mnist.test.num_examples // 1000)\n",
    "    test_loss /= (mnist.test.num_examples // 1000)\n",
    "\n",
    "    print(\"[{:2}/{}] (train) acc: {:.2%}, loss: {:.3f} | (test) acc: {:.2%}, loss: {:.3f}\".\n",
    "          format(epoch+1, epoch_n, avg_acc, avg_loss, test_acc, test_loss))\n",
    "    dq.append(test_acc)\n",
    "\n",
    "score = np.average(dq)\n",
    "print(\"average of last 5 test acc: {:.2%}\".format(score))"
   ]
  },
  {
   "cell_type": "code",
   "execution_count": 22,
   "metadata": {},
   "outputs": [
    {
     "name": "stdout",
     "output_type": "stream",
     "text": [
      "1000 loops, best of 3: 845 µs per loop\n"
     ]
    }
   ],
   "source": [
    "%%timeit\n",
    "pr = sess.run(prob, {X: mnist.test.images[:8]})"
   ]
  },
  {
   "cell_type": "code",
   "execution_count": 23,
   "metadata": {},
   "outputs": [
    {
     "name": "stdout",
     "output_type": "stream",
     "text": [
      "1000 loops, best of 3: 563 µs per loop\n"
     ]
    }
   ],
   "source": [
    "%%timeit\n",
    "pr = sess.run(prob, {X: mnist.test.images[:1]})"
   ]
  },
  {
   "cell_type": "code",
   "execution_count": 24,
   "metadata": {
    "collapsed": true
   },
   "outputs": [],
   "source": [
    "import time"
   ]
  },
  {
   "cell_type": "code",
   "execution_count": 37,
   "metadata": {},
   "outputs": [
    {
     "name": "stdout",
     "output_type": "stream",
     "text": [
      "batch_size: 1 / time: 0.779050111771\n",
      "batch_size: 2 / time: 0.716285943985\n",
      "batch_size: 4 / time: 0.821782827377\n",
      "batch_size: 8 / time: 0.76958990097\n",
      "batch_size: 16 / time: 0.850898981094\n",
      "batch_size: 32 / time: 1.59397101402\n",
      "batch_size: 64 / time: 2.02984499931\n",
      "batch_size: 128 / time: 2.69542598724\n",
      "batch_size: 256 / time: 3.91907596588\n",
      "batch_size: 512 / time: 6.30875396729\n"
     ]
    }
   ],
   "source": [
    "n_loops = 1000\n",
    "\n",
    "for k in range(10):\n",
    "    size = 2**k\n",
    "#     print size\n",
    "    \n",
    "    st_time = time.time()\n",
    "    \n",
    "    for i in range(n_loops):\n",
    "        st = np.random.randint(low=0, high=10000-size)\n",
    "        pr = sess.run(prob, {X: mnist.test.images[st:st+size]})\n",
    "        \n",
    "    print(\"batch_size: {} / time: {}\".format(size, time.time() - st_time))"
   ]
  },
  {
   "cell_type": "code",
   "execution_count": 34,
   "metadata": {},
   "outputs": [
    {
     "data": {
      "text/plain": [
       "6040"
      ]
     },
     "execution_count": 34,
     "metadata": {},
     "output_type": "execute_result"
    }
   ],
   "source": []
  },
  {
   "cell_type": "code",
   "execution_count": null,
   "metadata": {
    "collapsed": true
   },
   "outputs": [],
   "source": []
  }
 ],
 "metadata": {
  "kernelspec": {
   "display_name": "Python 2 - tf.latest",
   "language": "python",
   "name": "python2-tf-latest"
  },
  "language_info": {
   "codemirror_mode": {
    "name": "ipython",
    "version": 2
   },
   "file_extension": ".py",
   "mimetype": "text/x-python",
   "name": "python",
   "nbconvert_exporter": "python",
   "pygments_lexer": "ipython2",
   "version": "2.7.6"
  }
 },
 "nbformat": 4,
 "nbformat_minor": 2
}
