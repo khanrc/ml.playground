{
 "cells": [
  {
   "cell_type": "markdown",
   "metadata": {},
   "source": [
    "# Handling get attribute\n",
    "\n",
    "- 나한테 어떤 어트리뷰트 (함수 혹은 변수) 가 없을 때, 특정 자식에게 콜을 넘기고 싶다.\n",
    "- 이걸 어떻게 할까?\n",
    "- `__getattr__` 을 잘 오버라이드 하면 될 것 같지만 쉽지 않음 -> 쉽네;;?"
   ]
  },
  {
   "cell_type": "code",
   "execution_count": 1,
   "metadata": {
    "ExecuteTime": {
     "end_time": "2021-02-10T03:38:41.972574Z",
     "start_time": "2021-02-10T03:38:41.967566Z"
    }
   },
   "outputs": [],
   "source": [
    "class Child:\n",
    "    def forward(self, x):\n",
    "        print(f\"Child-Forward {x}\")\n",
    "    \n",
    "    def backward(self, x):\n",
    "        print(f\"Child-Backward {x}\")"
   ]
  },
  {
   "cell_type": "code",
   "execution_count": 2,
   "metadata": {
    "ExecuteTime": {
     "end_time": "2021-02-10T03:38:41.982225Z",
     "start_time": "2021-02-10T03:38:41.975064Z"
    }
   },
   "outputs": [],
   "source": [
    "class Parent:\n",
    "    def __init__(self):\n",
    "        self.child = Child()\n",
    "        \n",
    "    def run(self, x):\n",
    "        print(\"Parent-Run\")\n",
    "        return self.child.forward(x)\n",
    "\n",
    "    def __getattr__(self, x):\n",
    "        \"\"\"__getattr__ 은 기본적으로 self class 안에서 attribute 를 못찾았을 때 불리는 함수.\n",
    "        따라서 run() 이나 child 를 호출하면 이 함수가 불리지 않고, 그 외 찾을 수 없는 attribute 를 호출했을 때\n",
    "        이 함수가 불린다.\n",
    "        참고로, __getattribute__ 는 이와 달리 attribute call 이 오면 제일 먼저 불리는 함수라는 차이가 있다.\n",
    "        \"\"\"\n",
    "        if x in dir(self.child.__class__):\n",
    "            print(f\"Parent-Child have '{x}'\")\n",
    "            return getattr(self.child, x)\n",
    "\n",
    "        raise AttributeError(\n",
    "            f\"'{self.__class__.__name__}' and '{self.child.__class__.__name__}' objects has no attribute '{x}'\"\n",
    "        )"
   ]
  },
  {
   "cell_type": "code",
   "execution_count": 3,
   "metadata": {
    "ExecuteTime": {
     "end_time": "2021-02-10T03:38:41.986831Z",
     "start_time": "2021-02-10T03:38:41.984222Z"
    }
   },
   "outputs": [],
   "source": [
    "p = Parent()"
   ]
  },
  {
   "cell_type": "code",
   "execution_count": 4,
   "metadata": {
    "ExecuteTime": {
     "end_time": "2021-02-10T03:38:41.992709Z",
     "start_time": "2021-02-10T03:38:41.988972Z"
    }
   },
   "outputs": [
    {
     "name": "stdout",
     "output_type": "stream",
     "text": [
      "Parent-Run\n",
      "Child-Forward 1\n"
     ]
    }
   ],
   "source": [
    "p.run(1)"
   ]
  },
  {
   "cell_type": "code",
   "execution_count": 5,
   "metadata": {
    "ExecuteTime": {
     "end_time": "2021-02-10T03:38:41.998365Z",
     "start_time": "2021-02-10T03:38:41.994564Z"
    }
   },
   "outputs": [
    {
     "name": "stdout",
     "output_type": "stream",
     "text": [
      "Parent-Child have 'forward'\n",
      "Child-Forward 2\n"
     ]
    }
   ],
   "source": [
    "p.forward(2)"
   ]
  }
 ],
 "metadata": {
  "kernelspec": {
   "display_name": "Python 3",
   "language": "python",
   "name": "python3"
  },
  "language_info": {
   "codemirror_mode": {
    "name": "ipython",
    "version": 3
   },
   "file_extension": ".py",
   "mimetype": "text/x-python",
   "name": "python",
   "nbconvert_exporter": "python",
   "pygments_lexer": "ipython3",
   "version": "3.6.5"
  },
  "toc": {
   "base_numbering": 1,
   "nav_menu": {},
   "number_sections": true,
   "sideBar": true,
   "skip_h1_title": false,
   "title_cell": "Table of Contents",
   "title_sidebar": "Contents",
   "toc_cell": false,
   "toc_position": {},
   "toc_section_display": true,
   "toc_window_display": false
  }
 },
 "nbformat": 4,
 "nbformat_minor": 2
}
