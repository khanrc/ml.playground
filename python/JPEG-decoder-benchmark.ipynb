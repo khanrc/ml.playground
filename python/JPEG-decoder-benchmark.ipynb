{
 "cells": [
  {
   "cell_type": "markdown",
   "metadata": {},
   "source": [
    "# JPEG decoder benchmark\n",
    "\n",
    "- 보통 vision task 에서 data loader 가 bottleneck 일 때, jpeg decoder 가 보틀넥이 되는 경우가 많음.\n",
    "  - 아니면 resize.\n",
    "- NVIDIA DALI 를 쓸것이 아니라면, jpeg decoder 를 최대한 빠른 애로 쓰는 게 좋겠다."
   ]
  },
  {
   "cell_type": "code",
   "execution_count": 1,
   "metadata": {
    "ExecuteTime": {
     "end_time": "2021-02-19T16:16:53.910336Z",
     "start_time": "2021-02-19T16:16:53.691658Z"
    }
   },
   "outputs": [],
   "source": [
    "import os\n",
    "import time\n",
    "from pathlib import Path\n",
    "from PIL import Image\n",
    "import cv2\n",
    "import numpy as np\n",
    "from turbojpeg import TurboJPEG"
   ]
  },
  {
   "cell_type": "code",
   "execution_count": 2,
   "metadata": {
    "ExecuteTime": {
     "end_time": "2021-02-19T16:16:54.643550Z",
     "start_time": "2021-02-19T16:16:53.912048Z"
    }
   },
   "outputs": [],
   "source": [
    "root = Path(\"/nfs/public/jbcha/kag/ranzcr/data/train/\")\n",
    "paths = list(root.glob(\"*.jpg\"))"
   ]
  },
  {
   "cell_type": "code",
   "execution_count": 3,
   "metadata": {
    "ExecuteTime": {
     "end_time": "2021-02-19T16:16:54.649277Z",
     "start_time": "2021-02-19T16:16:54.645486Z"
    }
   },
   "outputs": [],
   "source": [
    "def benchmark(loader, paths, N=100):\n",
    "    st = time.time()\n",
    "    for path in paths[:N]:\n",
    "        p = str(path)\n",
    "        image = loader(p)\n",
    "    ed = time.time()\n",
    "    elapsed = ed - st\n",
    "    \n",
    "    print(f\"Elapsed: {elapsed:.1f}s\")"
   ]
  },
  {
   "cell_type": "code",
   "execution_count": 4,
   "metadata": {
    "ExecuteTime": {
     "end_time": "2021-02-19T16:16:54.656890Z",
     "start_time": "2021-02-19T16:16:54.650907Z"
    }
   },
   "outputs": [],
   "source": [
    "def sanity_check(loader_dic, path):\n",
    "    images = []\n",
    "    for name, loader in loader_dic.items():\n",
    "        img = loader(str(path))\n",
    "        images.append(img)\n",
    "        print(name, img.shape, img.dtype)\n",
    "    \n",
    "    sanity = True\n",
    "    loader_names = list(loader_dic.keys())\n",
    "    for i, img1 in enumerate(images):\n",
    "        for j, img2 in enumerate(images[i+1:]):\n",
    "            if not (img1 == img2).all():\n",
    "                n1 = loader_names[i]\n",
    "                n2 = loader_names[j]\n",
    "                print(f\"{n1} != {n2}\")\n",
    "                sanity = False\n",
    "    \n",
    "    if sanity:\n",
    "        print(\"Sanity check passed !!!\")"
   ]
  },
  {
   "cell_type": "code",
   "execution_count": 5,
   "metadata": {
    "ExecuteTime": {
     "end_time": "2021-02-19T16:16:54.673723Z",
     "start_time": "2021-02-19T16:16:54.658553Z"
    }
   },
   "outputs": [],
   "source": [
    "def opencv_loader(path):\n",
    "    image = cv2.imread(path)\n",
    "    image = cv2.cvtColor(image, cv2.COLOR_BGR2RGB)\n",
    "    return image\n",
    "\n",
    "def pil_loader(path):\n",
    "    image = Image.open(path).convert(\"RGB\")\n",
    "    return np.asarray(image)\n",
    "\n",
    "turbojpeg = TurboJPEG()\n",
    "def turbojpeg_loader(path):\n",
    "    with open(path, \"rb\") as f:\n",
    "        image = turbojpeg.decode(f.read())\n",
    "        image = cv2.cvtColor(image, cv2.COLOR_BGR2RGB)\n",
    "    \n",
    "    return image"
   ]
  },
  {
   "cell_type": "code",
   "execution_count": 6,
   "metadata": {
    "ExecuteTime": {
     "end_time": "2021-02-19T16:16:54.982695Z",
     "start_time": "2021-02-19T16:16:54.675851Z"
    }
   },
   "outputs": [
    {
     "name": "stdout",
     "output_type": "stream",
     "text": [
      "opencv (2532, 3056, 3) uint8\n",
      "pil (2532, 3056, 3) uint8\n",
      "turbo (2532, 3056, 3) uint8\n",
      "Sanity check passed !!!\n"
     ]
    }
   ],
   "source": [
    "sanity_check({\n",
    "    \"opencv\": opencv_loader,\n",
    "    \"pil\": pil_loader,\n",
    "    \"turbo\": turbojpeg_loader\n",
    "}, paths[0])"
   ]
  },
  {
   "cell_type": "code",
   "execution_count": 7,
   "metadata": {
    "ExecuteTime": {
     "end_time": "2021-02-19T16:16:55.240210Z",
     "start_time": "2021-02-19T16:16:54.984934Z"
    }
   },
   "outputs": [
    {
     "name": "stdout",
     "output_type": "stream",
     "text": [
      "opencv (2650, 2790, 3) uint8\n",
      "pil (2650, 2790, 3) uint8\n",
      "turbo (2650, 2790, 3) uint8\n",
      "Sanity check passed !!!\n"
     ]
    }
   ],
   "source": [
    "sanity_check({\n",
    "    \"opencv\": opencv_loader,\n",
    "    \"pil\": pil_loader,\n",
    "    \"turbo\": turbojpeg_loader\n",
    "}, paths[1])"
   ]
  },
  {
   "cell_type": "code",
   "execution_count": 8,
   "metadata": {
    "ExecuteTime": {
     "end_time": "2021-02-19T16:17:22.114843Z",
     "start_time": "2021-02-19T16:16:55.242611Z"
    }
   },
   "outputs": [
    {
     "name": "stdout",
     "output_type": "stream",
     "text": [
      "Elapsed: 26.9s\n"
     ]
    }
   ],
   "source": [
    "benchmark(opencv_loader, paths, N=500)"
   ]
  },
  {
   "cell_type": "code",
   "execution_count": 9,
   "metadata": {
    "ExecuteTime": {
     "end_time": "2021-02-19T16:17:47.318645Z",
     "start_time": "2021-02-19T16:17:22.117342Z"
    }
   },
   "outputs": [
    {
     "name": "stdout",
     "output_type": "stream",
     "text": [
      "Elapsed: 25.2s\n"
     ]
    }
   ],
   "source": [
    "benchmark(pil_loader, paths, N=500)"
   ]
  },
  {
   "cell_type": "code",
   "execution_count": 10,
   "metadata": {
    "ExecuteTime": {
     "end_time": "2021-02-19T16:18:03.178106Z",
     "start_time": "2021-02-19T16:17:47.320344Z"
    }
   },
   "outputs": [
    {
     "name": "stdout",
     "output_type": "stream",
     "text": [
      "Elapsed: 15.8s\n"
     ]
    }
   ],
   "source": [
    "benchmark(turbojpeg_loader, paths, N=500)"
   ]
  }
 ],
 "metadata": {
  "kernelspec": {
   "display_name": "Python 3",
   "language": "python",
   "name": "python3"
  },
  "language_info": {
   "codemirror_mode": {
    "name": "ipython",
    "version": 3
   },
   "file_extension": ".py",
   "mimetype": "text/x-python",
   "name": "python",
   "nbconvert_exporter": "python",
   "pygments_lexer": "ipython3",
   "version": "3.6.5"
  },
  "toc": {
   "base_numbering": 1,
   "nav_menu": {},
   "number_sections": true,
   "sideBar": true,
   "skip_h1_title": false,
   "title_cell": "Table of Contents",
   "title_sidebar": "Contents",
   "toc_cell": false,
   "toc_position": {},
   "toc_section_display": true,
   "toc_window_display": false
  }
 },
 "nbformat": 4,
 "nbformat_minor": 2
}
