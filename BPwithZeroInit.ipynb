{
 "cells": [
  {
   "cell_type": "markdown",
   "metadata": {
    "deletable": true,
    "editable": true
   },
   "source": [
    "# Backpropagation with zero initialization"
   ]
  },
  {
   "cell_type": "markdown",
   "metadata": {
    "deletable": true,
    "editable": true
   },
   "source": [
    "* W/b 가 전부 0이면 학습이 안 된다.\n",
    "* 근데 아예 안 되는건 아닌 것 같다.\n",
    "* 뭔소리여?\n",
    "* 한 레이어만 0이라면 학습이 될까?\n",
    "* 이론적으로는 안 되어야 하지 않나?\n",
    "* 테스트 해 보자."
   ]
  },
  {
   "cell_type": "code",
   "execution_count": 1,
   "metadata": {
    "collapsed": true,
    "deletable": true,
    "editable": true
   },
   "outputs": [],
   "source": [
    "import tensorflow as tf\n",
    "import numpy as np\n",
    "from tensorflow.examples.tutorials.mnist import input_data"
   ]
  },
  {
   "cell_type": "code",
   "execution_count": 9,
   "metadata": {
    "collapsed": false,
    "deletable": true,
    "editable": true
   },
   "outputs": [
    {
     "name": "stdout",
     "output_type": "stream",
     "text": [
      "Extracting ./MNIST_data/train-images-idx3-ubyte.gz\n",
      "Extracting ./MNIST_data/train-labels-idx1-ubyte.gz\n",
      "Extracting ./MNIST_data/t10k-images-idx3-ubyte.gz\n",
      "Extracting ./MNIST_data/t10k-labels-idx1-ubyte.gz\n"
     ]
    }
   ],
   "source": [
    "mnist = input_data.read_data_sets(\"./MNIST_data/\", one_hot=True)"
   ]
  },
  {
   "cell_type": "markdown",
   "metadata": {
    "deletable": true,
    "editable": true
   },
   "source": [
    "## Build nets"
   ]
  },
  {
   "cell_type": "code",
   "execution_count": 34,
   "metadata": {
    "collapsed": true,
    "deletable": true,
    "editable": true
   },
   "outputs": [],
   "source": [
    "epoch_n = 3\n",
    "batch_size = 100\n",
    "N = mnist.train.num_examples\n",
    "n_iter = N // batch_size"
   ]
  },
  {
   "cell_type": "code",
   "execution_count": 54,
   "metadata": {
    "collapsed": false,
    "deletable": true,
    "editable": true
   },
   "outputs": [],
   "source": [
    "tf.reset_default_graph()\n",
    "\n",
    "X = tf.placeholder(tf.float32, [None, 784])\n",
    "y = tf.placeholder(tf.float32, [None, 10])\n",
    "\n",
    "# 이거 W/b 직접 구현하는게 더 나을 것 같은데\n",
    "h1 = tf.layers.dense(X, 256, activation=tf.nn.relu, kernel_initializer=None)\n",
    "h2 = tf.layers.dense(h1, 256, activation=tf.nn.relu, kernel_initializer=None)\n",
    "logits = tf.layers.dense(h2, 10, kernel_initializer=tf.zeros_initializer, bias_initializer=tf.zeros_initializer)\n",
    "\n",
    "# conv\n",
    "# net = tf.reshape(X, [-1, 28, 28, 1])\n",
    "# net = tf.layers.conv2d(net, 32, kernel_size=[3,3], strides=1, kernel_initializer=None, activation=tf.nn.relu)\n",
    "# net = tf.layers.max_pooling2d(net, pool_size=[2,2], strides=2)\n",
    "# net = tf.layers.conv2d(net, 64, kernel_size=[3,3], strides=1, kernel_initializer=tf.zeros_initializer, activation=tf.nn.relu)\n",
    "# net = tf.layers.max_pooling2d(net, pool_size=[2,2], strides=2)\n",
    "# net = tf.contrib.layers.flatten(net)\n",
    "# logits = tf.layers.dense(net, 10, kernel_initializer=None)\n",
    "\n",
    "prob = tf.nn.softmax(logits)\n",
    "\n",
    "# mean for mini-batch\n",
    "accuracy = tf.reduce_mean(tf.cast(tf.equal(tf.argmax(logits, axis=1), tf.argmax(y, axis=1)), tf.float32))\n",
    "loss = tf.reduce_mean(tf.nn.softmax_cross_entropy_with_logits(labels=y, logits=logits))\n",
    "\n",
    "train_op = tf.train.AdamOptimizer().minimize(loss)"
   ]
  },
  {
   "cell_type": "code",
   "execution_count": 55,
   "metadata": {
    "collapsed": false,
    "deletable": true,
    "editable": true
   },
   "outputs": [
    {
     "name": "stdout",
     "output_type": "stream",
     "text": [
      "[1/3] (train) acc: 90.09%, loss: 0.346 | (test) acc: 95.89%, loss: 0.137\n",
      "[2/3] (train) acc: 96.36%, loss: 0.122 | (test) acc: 96.46%, loss: 0.112\n",
      "[3/3] (train) acc: 97.55%, loss: 0.081 | (test) acc: 97.53%, loss: 0.079\n"
     ]
    }
   ],
   "source": [
    "sess = tf.Session()\n",
    "sess.run(tf.global_variables_initializer())\n",
    "\n",
    "for epoch in range(epoch_n):\n",
    "    avg_acc = 0\n",
    "    avg_loss = 0\n",
    "    for _ in range(n_iter):\n",
    "        batch_x, batch_y = mnist.train.next_batch(batch_size)\n",
    "        _, cur_train_acc, cur_train_loss = sess.run([train_op, accuracy, loss], {X: batch_x, y: batch_y})\n",
    "        \n",
    "        avg_acc += cur_train_acc\n",
    "        avg_loss += cur_train_loss\n",
    "    \n",
    "    avg_acc /= n_iter\n",
    "    avg_loss /= n_iter\n",
    "    \n",
    "#     test_avg_acc = 0\n",
    "#     test_avg_loss = 0\n",
    "#     for _ in range(mnist.test.num_examples // 1000):\n",
    "#         batch_x, batch_y = mnist.test.next_batch(1000)\n",
    "#         cur_acc, cur_loss = sess.run([accuracy, loss], {X: batch_x, y: batch_y})\n",
    "        \n",
    "#         avg_acc += cur_train_acc\n",
    "#         avg_loss += cur_train_loss\n",
    "    \n",
    "    test_acc, test_loss = sess.run([accuracy, loss], {X: mnist.test.images, y: mnist.test.labels})\n",
    "    \n",
    "    print(\"[{}/{}] (train) acc: {:.2%}, loss: {:.3f} | (test) acc: {:.2%}, loss: {:.3f}\".\n",
    "          format(epoch+1, epoch_n, avg_acc, avg_loss, test_acc, test_loss))\n",
    "    "
   ]
  },
  {
   "cell_type": "markdown",
   "metadata": {
    "collapsed": true,
    "deletable": true,
    "editable": true
   },
   "source": [
    "## Test results"
   ]
  },
  {
   "cell_type": "markdown",
   "metadata": {
    "deletable": true,
    "editable": true
   },
   "source": [
    "* conv/fc 상관없이 다 안 된다.\n",
    "* 다만, 마지막 레이어는 상관없다.\n",
    "* 마지막 레이어가 되는 이유는 그냥 백프로파게이션 식을 계산해보면 알 수 있음.\n",
    "* 마지막 레이어의 gradient 에는 W 가 안 들어가서, W 가 0 이라도 학습이 된다. 다른 레이어는 W 가 곱해지기 때문에 그라디언트가 0이 됨."
   ]
  }
 ],
 "metadata": {
  "kernelspec": {
   "display_name": "Python 2 - tf 1.1",
   "language": "python",
   "name": "python2-tf1.1"
  },
  "language_info": {
   "codemirror_mode": {
    "name": "ipython",
    "version": 2
   },
   "file_extension": ".py",
   "mimetype": "text/x-python",
   "name": "python",
   "nbconvert_exporter": "python",
   "pygments_lexer": "ipython2",
   "version": "2.7.6"
  }
 },
 "nbformat": 4,
 "nbformat_minor": 2
}
