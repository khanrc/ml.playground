{
 "cells": [
  {
   "cell_type": "markdown",
   "metadata": {},
   "source": [
    "# Keras"
   ]
  },
  {
   "cell_type": "markdown",
   "metadata": {},
   "source": [
    "* `tf.contrib.keras` 를 쓰니 좀 이런저런 문제가 있어서 따로 인스톨해서 사용함"
   ]
  },
  {
   "cell_type": "markdown",
   "metadata": {},
   "source": [
    "* keras 를 이용해서 tutorial 을 구현해보자.\n",
    "* keras 를 이용해서 transfer learning 을 구현해보자.\n",
    "* 추가 - slim 을 이용해서 transfer learning 을 구현해보자."
   ]
  },
  {
   "cell_type": "markdown",
   "metadata": {},
   "source": [
    "## 참고\n",
    "\n",
    "텐서보드 등으로 케라스를 모니터링 하고 싶다면, https://tykimos.github.io/Keras/2017/07/09/Training_Monitoring/ 를 참고하자 (한글자료)."
   ]
  },
  {
   "cell_type": "markdown",
   "metadata": {},
   "source": [
    "## TF Tutorial using Keras\n",
    "\n",
    "* BN model"
   ]
  },
  {
   "cell_type": "code",
   "execution_count": 1,
   "metadata": {},
   "outputs": [
    {
     "name": "stderr",
     "output_type": "stream",
     "text": [
      "Using TensorFlow backend.\n"
     ]
    }
   ],
   "source": [
    "# from keras.datasets import mnist\n",
    "from tensorflow.examples.tutorials.mnist import input_data\n",
    "import keras\n",
    "from keras import backend as K\n",
    "from keras.layers import Conv2D, BatchNormalization, Activation, MaxPooling2D, Dense, Flatten, Dropout\n",
    "import numpy as np"
   ]
  },
  {
   "cell_type": "code",
   "execution_count": 2,
   "metadata": {},
   "outputs": [
    {
     "data": {
      "text/plain": [
       "'2.0.6'"
      ]
     },
     "execution_count": 2,
     "metadata": {},
     "output_type": "execute_result"
    }
   ],
   "source": [
    "keras.__version__"
   ]
  },
  {
   "cell_type": "code",
   "execution_count": 3,
   "metadata": {
    "collapsed": true
   },
   "outputs": [],
   "source": [
    "# GPU memory control in keras\n",
    "# import tensorflow as tf\n",
    "# config = tf.ConfigProto()\n",
    "# config.gpu_options.per_process_gpu_memory_fraction = 0.4\n",
    "# K.tensorflow_backend.set_session(tf.Session(config=config))"
   ]
  },
  {
   "cell_type": "code",
   "execution_count": 4,
   "metadata": {
    "collapsed": true
   },
   "outputs": [],
   "source": [
    "np.random.seed(0)"
   ]
  },
  {
   "cell_type": "code",
   "execution_count": 5,
   "metadata": {
    "collapsed": true
   },
   "outputs": [],
   "source": [
    "# (x_tv, y_tv), (x_test, y_test) = mnist.load_data()\n",
    "# x_train, x_valid = x_tv[:55000], x_tv[55000:]\n",
    "# y_train, y_valid = y_tv[:55000], y_tv[55000:]"
   ]
  },
  {
   "cell_type": "code",
   "execution_count": 6,
   "metadata": {},
   "outputs": [
    {
     "name": "stdout",
     "output_type": "stream",
     "text": [
      "Extracting ./MNIST_data/train-images-idx3-ubyte.gz\n",
      "Extracting ./MNIST_data/train-labels-idx1-ubyte.gz\n",
      "Extracting ./MNIST_data/t10k-images-idx3-ubyte.gz\n",
      "Extracting ./MNIST_data/t10k-labels-idx1-ubyte.gz\n"
     ]
    }
   ],
   "source": [
    "mnist = input_data.read_data_sets('./MNIST_data', one_hot=True)"
   ]
  },
  {
   "cell_type": "code",
   "execution_count": 7,
   "metadata": {
    "collapsed": true
   },
   "outputs": [],
   "source": [
    "# Keras 에서도 mnist 를 제공하지만 데이터셋을 동일하게 맞추기 위해 tf 의 mnist 를 사용하자.\n",
    "X_train, y_train = mnist.train.images, mnist.train.labels\n",
    "X_valid, y_valid = mnist.validation.images, mnist.validation.labels\n",
    "X_test, y_test = mnist.test.images, mnist.test.labels"
   ]
  },
  {
   "cell_type": "code",
   "execution_count": 8,
   "metadata": {
    "collapsed": true
   },
   "outputs": [],
   "source": [
    "X_train = X_train.reshape(-1, 28, 28, 1)\n",
    "X_valid = X_valid.reshape(-1, 28, 28, 1)\n",
    "X_test = X_test.reshape(-1, 28, 28, 1)"
   ]
  },
  {
   "cell_type": "markdown",
   "metadata": {},
   "source": [
    "## Sequential API"
   ]
  },
  {
   "cell_type": "code",
   "execution_count": 9,
   "metadata": {
    "collapsed": true
   },
   "outputs": [],
   "source": [
    "# Sequential model\n",
    "from keras.models import Sequential"
   ]
  },
  {
   "cell_type": "code",
   "execution_count": 10,
   "metadata": {
    "collapsed": true
   },
   "outputs": [],
   "source": [
    "def build_model_sequential(input_shape, output_units):\n",
    "    model = Sequential()\n",
    "\n",
    "    n_filters = 32\n",
    "    for i in range(3):\n",
    "        if i == 0:\n",
    "            model.add(Conv2D(n_filters, [3,3], use_bias=False, padding='same', input_shape=input_shape))\n",
    "        else:\n",
    "            model.add(Conv2D(n_filters, [3,3], use_bias=False, padding='same'))\n",
    "        model.add(BatchNormalization())\n",
    "        model.add(Activation('relu'))\n",
    "        model.add(Conv2D(n_filters, [3,3], use_bias=False, padding='same'))\n",
    "        model.add(BatchNormalization())\n",
    "        model.add(Activation('relu'))\n",
    "        model.add(MaxPooling2D())\n",
    "        model.add(Dropout(0.3))\n",
    "        \n",
    "        n_filters *= 2\n",
    "\n",
    "    model.add(Flatten())\n",
    "    model.add(Dense(output_units, activation='softmax'))\n",
    "\n",
    "    model.compile(optimizer='adam', loss='categorical_crossentropy', metrics=['accuracy'])\n",
    "    \n",
    "    return model"
   ]
  },
  {
   "cell_type": "code",
   "execution_count": 11,
   "metadata": {
    "collapsed": true
   },
   "outputs": [],
   "source": [
    "model = build_model_sequential([28, 28, 1], 10)"
   ]
  },
  {
   "cell_type": "code",
   "execution_count": 12,
   "metadata": {
    "scrolled": true
   },
   "outputs": [
    {
     "name": "stdout",
     "output_type": "stream",
     "text": [
      "Train on 55000 samples, validate on 10000 samples\n",
      "Epoch 1/100\n",
      "55000/55000 [==============================] - 9s - loss: 0.2252 - acc: 0.9306 - val_loss: 0.1280 - val_acc: 0.9589\n",
      "Epoch 2/100\n",
      "55000/55000 [==============================] - 8s - loss: 0.0610 - acc: 0.9807 - val_loss: 0.0442 - val_acc: 0.9864\n",
      "Epoch 3/100\n",
      "55000/55000 [==============================] - 8s - loss: 0.0456 - acc: 0.9858 - val_loss: 0.0245 - val_acc: 0.9924\n",
      "Epoch 4/100\n",
      "55000/55000 [==============================] - 8s - loss: 0.0381 - acc: 0.9879 - val_loss: 0.0237 - val_acc: 0.9919\n",
      "Epoch 5/100\n",
      "55000/55000 [==============================] - 8s - loss: 0.0353 - acc: 0.9884 - val_loss: 0.0204 - val_acc: 0.9930\n",
      "Epoch 6/100\n",
      "55000/55000 [==============================] - 8s - loss: 0.0290 - acc: 0.9909 - val_loss: 0.0167 - val_acc: 0.9940\n",
      "Epoch 7/100\n",
      "55000/55000 [==============================] - 8s - loss: 0.0255 - acc: 0.9919 - val_loss: 0.0326 - val_acc: 0.9896\n",
      "Epoch 8/100\n",
      "55000/55000 [==============================] - 8s - loss: 0.0245 - acc: 0.9922 - val_loss: 0.0201 - val_acc: 0.9936\n",
      "Epoch 9/100\n",
      "55000/55000 [==============================] - 8s - loss: 0.0224 - acc: 0.9929 - val_loss: 0.0258 - val_acc: 0.9913\n",
      "Epoch 10/100\n",
      "55000/55000 [==============================] - 8s - loss: 0.0216 - acc: 0.9931 - val_loss: 0.0252 - val_acc: 0.9921\n",
      "Epoch 11/100\n",
      "55000/55000 [==============================] - 8s - loss: 0.0197 - acc: 0.9939 - val_loss: 0.0152 - val_acc: 0.9953\n",
      "Epoch 12/100\n",
      "55000/55000 [==============================] - 8s - loss: 0.0195 - acc: 0.9935 - val_loss: 0.0213 - val_acc: 0.9930\n",
      "Epoch 13/100\n",
      "55000/55000 [==============================] - 8s - loss: 0.0173 - acc: 0.9942 - val_loss: 0.0292 - val_acc: 0.9918\n",
      "Epoch 14/100\n",
      "55000/55000 [==============================] - 8s - loss: 0.0184 - acc: 0.9940 - val_loss: 0.0226 - val_acc: 0.9934\n",
      "Epoch 15/100\n",
      "55000/55000 [==============================] - 8s - loss: 0.0157 - acc: 0.9952 - val_loss: 0.0173 - val_acc: 0.9952\n",
      "Epoch 16/100\n",
      "55000/55000 [==============================] - 8s - loss: 0.0157 - acc: 0.9949 - val_loss: 0.0222 - val_acc: 0.9940\n",
      "Epoch 17/100\n",
      "55000/55000 [==============================] - 8s - loss: 0.0153 - acc: 0.9949 - val_loss: 0.0157 - val_acc: 0.9946\n",
      "Epoch 18/100\n",
      "55000/55000 [==============================] - 8s - loss: 0.0140 - acc: 0.9955 - val_loss: 0.0164 - val_acc: 0.9948\n",
      "Epoch 19/100\n",
      "55000/55000 [==============================] - 8s - loss: 0.0117 - acc: 0.9962 - val_loss: 0.0153 - val_acc: 0.9953\n",
      "Epoch 20/100\n",
      "55000/55000 [==============================] - 8s - loss: 0.0131 - acc: 0.9958 - val_loss: 0.0189 - val_acc: 0.9933\n",
      "Epoch 21/100\n",
      "55000/55000 [==============================] - 8s - loss: 0.0116 - acc: 0.9964 - val_loss: 0.0313 - val_acc: 0.9915\n",
      "Epoch 22/100\n",
      "55000/55000 [==============================] - 8s - loss: 0.0108 - acc: 0.9962 - val_loss: 0.0219 - val_acc: 0.9938\n",
      "Epoch 23/100\n",
      "55000/55000 [==============================] - 8s - loss: 0.0108 - acc: 0.9966 - val_loss: 0.0192 - val_acc: 0.9946\n",
      "Epoch 24/100\n",
      "55000/55000 [==============================] - 8s - loss: 0.0102 - acc: 0.9965 - val_loss: 0.0159 - val_acc: 0.9959\n",
      "Epoch 25/100\n",
      "55000/55000 [==============================] - 8s - loss: 0.0105 - acc: 0.9965 - val_loss: 0.0255 - val_acc: 0.9934\n",
      "Epoch 26/100\n",
      "55000/55000 [==============================] - 8s - loss: 0.0096 - acc: 0.9967 - val_loss: 0.0161 - val_acc: 0.9952\n",
      "Epoch 27/100\n",
      "55000/55000 [==============================] - 8s - loss: 0.0083 - acc: 0.9974 - val_loss: 0.0173 - val_acc: 0.9949\n",
      "Epoch 28/100\n",
      "55000/55000 [==============================] - 8s - loss: 0.0083 - acc: 0.9970 - val_loss: 0.0185 - val_acc: 0.9948\n",
      "Epoch 29/100\n",
      "55000/55000 [==============================] - 8s - loss: 0.0085 - acc: 0.9969 - val_loss: 0.0164 - val_acc: 0.9954\n",
      "Epoch 30/100\n",
      "55000/55000 [==============================] - 8s - loss: 0.0089 - acc: 0.9971 - val_loss: 0.0149 - val_acc: 0.9956\n",
      "Epoch 31/100\n",
      "55000/55000 [==============================] - 8s - loss: 0.0085 - acc: 0.9973 - val_loss: 0.0178 - val_acc: 0.9953\n",
      "Epoch 32/100\n",
      "55000/55000 [==============================] - 8s - loss: 0.0073 - acc: 0.9976 - val_loss: 0.0168 - val_acc: 0.9954\n",
      "Epoch 33/100\n",
      "55000/55000 [==============================] - 8s - loss: 0.0063 - acc: 0.9979 - val_loss: 0.0196 - val_acc: 0.9951\n",
      "Epoch 34/100\n",
      "55000/55000 [==============================] - 8s - loss: 0.0068 - acc: 0.9978 - val_loss: 0.0224 - val_acc: 0.9942\n",
      "Epoch 35/100\n",
      "55000/55000 [==============================] - 8s - loss: 0.0073 - acc: 0.9975 - val_loss: 0.0163 - val_acc: 0.9962\n",
      "Epoch 36/100\n",
      "55000/55000 [==============================] - 8s - loss: 0.0062 - acc: 0.9981 - val_loss: 0.0173 - val_acc: 0.9958\n",
      "Epoch 37/100\n",
      "55000/55000 [==============================] - 8s - loss: 0.0061 - acc: 0.9980 - val_loss: 0.0200 - val_acc: 0.9953\n",
      "Epoch 38/100\n",
      "55000/55000 [==============================] - 8s - loss: 0.0060 - acc: 0.9979 - val_loss: 0.0177 - val_acc: 0.9956\n",
      "Epoch 39/100\n",
      "55000/55000 [==============================] - 8s - loss: 0.0056 - acc: 0.9982 - val_loss: 0.0195 - val_acc: 0.9948\n",
      "Epoch 40/100\n",
      "55000/55000 [==============================] - 8s - loss: 0.0059 - acc: 0.9981 - val_loss: 0.0140 - val_acc: 0.9964\n",
      "Epoch 41/100\n",
      "55000/55000 [==============================] - 8s - loss: 0.0055 - acc: 0.9983 - val_loss: 0.0178 - val_acc: 0.9963\n",
      "Epoch 42/100\n",
      "55000/55000 [==============================] - 8s - loss: 0.0056 - acc: 0.9981 - val_loss: 0.0196 - val_acc: 0.9960\n",
      "Epoch 43/100\n",
      "55000/55000 [==============================] - 8s - loss: 0.0057 - acc: 0.9982 - val_loss: 0.0179 - val_acc: 0.9951\n",
      "Epoch 44/100\n",
      "55000/55000 [==============================] - 8s - loss: 0.0060 - acc: 0.9981 - val_loss: 0.0196 - val_acc: 0.9959\n",
      "Epoch 45/100\n",
      "55000/55000 [==============================] - 8s - loss: 0.0050 - acc: 0.9983 - val_loss: 0.0169 - val_acc: 0.9966\n",
      "Epoch 46/100\n",
      "55000/55000 [==============================] - 8s - loss: 0.0054 - acc: 0.9983 - val_loss: 0.0237 - val_acc: 0.9943\n",
      "Epoch 47/100\n",
      "55000/55000 [==============================] - 8s - loss: 0.0054 - acc: 0.9983 - val_loss: 0.0189 - val_acc: 0.9960\n",
      "Epoch 48/100\n",
      "55000/55000 [==============================] - 8s - loss: 0.0050 - acc: 0.9984 - val_loss: 0.0164 - val_acc: 0.9954\n",
      "Epoch 49/100\n",
      "55000/55000 [==============================] - 8s - loss: 0.0051 - acc: 0.9984 - val_loss: 0.0212 - val_acc: 0.9948\n",
      "Epoch 50/100\n",
      "55000/55000 [==============================] - 8s - loss: 0.0047 - acc: 0.9985 - val_loss: 0.0171 - val_acc: 0.9956\n",
      "Epoch 51/100\n",
      "55000/55000 [==============================] - 8s - loss: 0.0042 - acc: 0.9987 - val_loss: 0.0209 - val_acc: 0.9950\n",
      "Epoch 52/100\n",
      "55000/55000 [==============================] - 8s - loss: 0.0050 - acc: 0.9985 - val_loss: 0.0201 - val_acc: 0.9952\n",
      "Epoch 53/100\n",
      "55000/55000 [==============================] - 8s - loss: 0.0046 - acc: 0.9984 - val_loss: 0.0160 - val_acc: 0.9964\n",
      "Epoch 54/100\n",
      "55000/55000 [==============================] - 8s - loss: 0.0041 - acc: 0.9986 - val_loss: 0.0179 - val_acc: 0.9956\n",
      "Epoch 55/100\n",
      "55000/55000 [==============================] - 8s - loss: 0.0046 - acc: 0.9986 - val_loss: 0.0158 - val_acc: 0.9961\n",
      "Epoch 56/100\n",
      "55000/55000 [==============================] - 8s - loss: 0.0033 - acc: 0.9990 - val_loss: 0.0219 - val_acc: 0.9956\n",
      "Epoch 57/100\n",
      "55000/55000 [==============================] - 8s - loss: 0.0037 - acc: 0.9989 - val_loss: 0.0153 - val_acc: 0.9963\n",
      "Epoch 58/100\n",
      "55000/55000 [==============================] - 8s - loss: 0.0037 - acc: 0.9988 - val_loss: 0.0178 - val_acc: 0.9960\n",
      "Epoch 59/100\n",
      "55000/55000 [==============================] - 8s - loss: 0.0037 - acc: 0.9987 - val_loss: 0.0257 - val_acc: 0.9955\n",
      "Epoch 60/100\n",
      "55000/55000 [==============================] - 8s - loss: 0.0034 - acc: 0.9989 - val_loss: 0.0239 - val_acc: 0.9955\n",
      "Epoch 61/100\n",
      "55000/55000 [==============================] - 8s - loss: 0.0045 - acc: 0.9985 - val_loss: 0.0214 - val_acc: 0.9952\n",
      "Epoch 62/100\n",
      "55000/55000 [==============================] - 8s - loss: 0.0032 - acc: 0.9989 - val_loss: 0.0197 - val_acc: 0.9954\n",
      "Epoch 63/100\n",
      "55000/55000 [==============================] - 8s - loss: 0.0032 - acc: 0.9990 - val_loss: 0.0239 - val_acc: 0.9953\n",
      "Epoch 64/100\n",
      "55000/55000 [==============================] - 8s - loss: 0.0037 - acc: 0.9990 - val_loss: 0.0247 - val_acc: 0.9947\n",
      "Epoch 65/100\n",
      "55000/55000 [==============================] - 8s - loss: 0.0034 - acc: 0.9989 - val_loss: 0.0194 - val_acc: 0.9967\n",
      "Epoch 66/100\n",
      "55000/55000 [==============================] - 8s - loss: 0.0038 - acc: 0.9987 - val_loss: 0.0216 - val_acc: 0.9957\n",
      "Epoch 67/100\n",
      "55000/55000 [==============================] - 8s - loss: 0.0035 - acc: 0.9990 - val_loss: 0.0197 - val_acc: 0.9958\n",
      "Epoch 68/100\n",
      "55000/55000 [==============================] - 8s - loss: 0.0029 - acc: 0.9992 - val_loss: 0.0164 - val_acc: 0.9968\n",
      "Epoch 69/100\n",
      "55000/55000 [==============================] - 8s - loss: 0.0027 - acc: 0.9990 - val_loss: 0.0219 - val_acc: 0.9950\n",
      "Epoch 70/100\n",
      "55000/55000 [==============================] - 8s - loss: 0.0035 - acc: 0.9989 - val_loss: 0.0216 - val_acc: 0.9948\n",
      "Epoch 71/100\n",
      "55000/55000 [==============================] - 8s - loss: 0.0029 - acc: 0.9992 - val_loss: 0.0205 - val_acc: 0.9957\n",
      "Epoch 72/100\n",
      "55000/55000 [==============================] - 8s - loss: 0.0041 - acc: 0.9988 - val_loss: 0.0215 - val_acc: 0.9956\n",
      "Epoch 73/100\n",
      "55000/55000 [==============================] - 8s - loss: 0.0028 - acc: 0.9992 - val_loss: 0.0166 - val_acc: 0.9963\n",
      "Epoch 74/100\n",
      "55000/55000 [==============================] - 8s - loss: 0.0037 - acc: 0.9988 - val_loss: 0.0208 - val_acc: 0.9961\n",
      "Epoch 75/100\n",
      "55000/55000 [==============================] - 8s - loss: 0.0029 - acc: 0.9992 - val_loss: 0.0204 - val_acc: 0.9959\n",
      "Epoch 76/100\n",
      "55000/55000 [==============================] - 8s - loss: 0.0030 - acc: 0.9989 - val_loss: 0.0200 - val_acc: 0.9964\n",
      "Epoch 77/100\n",
      "55000/55000 [==============================] - 8s - loss: 0.0029 - acc: 0.9990 - val_loss: 0.0228 - val_acc: 0.9958\n",
      "Epoch 78/100\n",
      "55000/55000 [==============================] - 8s - loss: 0.0036 - acc: 0.9989 - val_loss: 0.0184 - val_acc: 0.9962\n",
      "Epoch 79/100\n",
      "55000/55000 [==============================] - 8s - loss: 0.0022 - acc: 0.9994 - val_loss: 0.0207 - val_acc: 0.9952\n",
      "Epoch 80/100\n",
      "55000/55000 [==============================] - 8s - loss: 0.0034 - acc: 0.9989 - val_loss: 0.0248 - val_acc: 0.9951\n",
      "Epoch 81/100\n",
      "55000/55000 [==============================] - 8s - loss: 0.0035 - acc: 0.9989 - val_loss: 0.0231 - val_acc: 0.9953\n",
      "Epoch 82/100\n",
      "55000/55000 [==============================] - 8s - loss: 0.0025 - acc: 0.9993 - val_loss: 0.0190 - val_acc: 0.9959\n",
      "Epoch 83/100\n",
      "55000/55000 [==============================] - 8s - loss: 0.0025 - acc: 0.9993 - val_loss: 0.0171 - val_acc: 0.9965\n",
      "Epoch 84/100\n",
      "55000/55000 [==============================] - 8s - loss: 0.0022 - acc: 0.9993 - val_loss: 0.0222 - val_acc: 0.9961\n",
      "Epoch 85/100\n",
      "55000/55000 [==============================] - 8s - loss: 0.0024 - acc: 0.9993 - val_loss: 0.0202 - val_acc: 0.9962\n",
      "Epoch 86/100\n",
      "55000/55000 [==============================] - 8s - loss: 0.0032 - acc: 0.9990 - val_loss: 0.0233 - val_acc: 0.9960\n",
      "Epoch 87/100\n",
      "55000/55000 [==============================] - 8s - loss: 0.0037 - acc: 0.9990 - val_loss: 0.0192 - val_acc: 0.9958\n",
      "Epoch 88/100\n",
      "55000/55000 [==============================] - 8s - loss: 0.0031 - acc: 0.9991 - val_loss: 0.0217 - val_acc: 0.9964\n",
      "Epoch 89/100\n",
      "55000/55000 [==============================] - 8s - loss: 0.0024 - acc: 0.9993 - val_loss: 0.0201 - val_acc: 0.9964\n",
      "Epoch 90/100\n",
      "55000/55000 [==============================] - 8s - loss: 0.0031 - acc: 0.9991 - val_loss: 0.0172 - val_acc: 0.9964\n",
      "Epoch 91/100\n",
      "55000/55000 [==============================] - 8s - loss: 0.0021 - acc: 0.9993 - val_loss: 0.0221 - val_acc: 0.9960\n",
      "Epoch 92/100\n",
      "55000/55000 [==============================] - 8s - loss: 0.0028 - acc: 0.9991 - val_loss: 0.0208 - val_acc: 0.9953\n",
      "Epoch 93/100\n",
      "55000/55000 [==============================] - 8s - loss: 0.0019 - acc: 0.9994 - val_loss: 0.0276 - val_acc: 0.9956\n",
      "Epoch 94/100\n",
      "55000/55000 [==============================] - 8s - loss: 0.0022 - acc: 0.9994 - val_loss: 0.0216 - val_acc: 0.9961\n",
      "Epoch 95/100\n",
      "55000/55000 [==============================] - 8s - loss: 0.0029 - acc: 0.9991 - val_loss: 0.0315 - val_acc: 0.9943\n",
      "Epoch 96/100\n",
      "55000/55000 [==============================] - 8s - loss: 0.0026 - acc: 0.9992 - val_loss: 0.0183 - val_acc: 0.9960\n",
      "Epoch 97/100\n",
      "55000/55000 [==============================] - 8s - loss: 0.0022 - acc: 0.9993 - val_loss: 0.0219 - val_acc: 0.9963\n",
      "Epoch 98/100\n",
      "55000/55000 [==============================] - 8s - loss: 0.0031 - acc: 0.9989 - val_loss: 0.0225 - val_acc: 0.9959\n",
      "Epoch 99/100\n",
      "55000/55000 [==============================] - 8s - loss: 0.0027 - acc: 0.9990 - val_loss: 0.0175 - val_acc: 0.9964\n",
      "Epoch 100/100\n",
      "55000/55000 [==============================] - 8s - loss: 0.0021 - acc: 0.9994 - val_loss: 0.0210 - val_acc: 0.9955\n"
     ]
    }
   ],
   "source": [
    "result = model.fit(X_train, y_train, batch_size=128, epochs=100, verbose=1, validation_data=(X_test, y_test))"
   ]
  },
  {
   "cell_type": "code",
   "execution_count": 13,
   "metadata": {},
   "outputs": [
    {
     "name": "stdout",
     "output_type": "stream",
     "text": [
      "99.60%\n"
     ]
    }
   ],
   "source": [
    "print \"{:.2%}\".format(np.average(result.history['val_acc'][-5:]))"
   ]
  },
  {
   "cell_type": "markdown",
   "metadata": {},
   "source": [
    "## Functional API\n",
    "\n",
    "시퀀셜 모델과 동일하나 펑셔널 API 가 더 flexible 한 듯 함."
   ]
  },
  {
   "cell_type": "code",
   "execution_count": 14,
   "metadata": {
    "collapsed": true
   },
   "outputs": [],
   "source": [
    "from keras.layers import Input\n",
    "from keras.models import Model"
   ]
  },
  {
   "cell_type": "code",
   "execution_count": 15,
   "metadata": {
    "collapsed": true
   },
   "outputs": [],
   "source": [
    "def build_model_functional(input_shape, output_units):\n",
    "    input_tensor = Input(input_shape)\n",
    "    net = input_tensor\n",
    "    n_filters = 32\n",
    "\n",
    "    for _ in range(3):\n",
    "        net = Conv2D(n_filters, [3,3], padding='same')(net)\n",
    "        net = BatchNormalization()(net)\n",
    "        net = Activation('relu')(net)\n",
    "        net = Conv2D(n_filters, [3,3], padding='same')(net)\n",
    "        net = BatchNormalization()(net)\n",
    "        net = Activation('relu')(net)\n",
    "        net = MaxPooling2D()(net)\n",
    "        net = Dropout(0.3)(net)\n",
    "        \n",
    "        n_filters *= 2\n",
    "\n",
    "    net = Flatten()(net)\n",
    "    net = Dense(output_units, activation='softmax')(net)\n",
    "\n",
    "    model = Model(input_tensor, net)\n",
    "    model.compile(optimizer='adam', loss='categorical_crossentropy', metrics=['accuracy'])\n",
    "    \n",
    "    return model"
   ]
  },
  {
   "cell_type": "code",
   "execution_count": 16,
   "metadata": {
    "collapsed": true,
    "scrolled": true
   },
   "outputs": [],
   "source": [
    "K.clear_session()\n",
    "\n",
    "model = build_model_functional([28, 28, 1], 10)"
   ]
  },
  {
   "cell_type": "code",
   "execution_count": 17,
   "metadata": {
    "scrolled": true
   },
   "outputs": [
    {
     "name": "stdout",
     "output_type": "stream",
     "text": [
      "Train on 55000 samples, validate on 10000 samples\n",
      "Epoch 1/100\n",
      "55000/55000 [==============================] - 9s - loss: 0.2471 - acc: 0.9247 - val_loss: 0.1693 - val_acc: 0.9467\n",
      "Epoch 2/100\n",
      "55000/55000 [==============================] - 9s - loss: 0.0641 - acc: 0.9794 - val_loss: 0.0350 - val_acc: 0.9880\n",
      "Epoch 3/100\n",
      "55000/55000 [==============================] - 9s - loss: 0.0451 - acc: 0.9853 - val_loss: 0.0248 - val_acc: 0.9914\n",
      "Epoch 4/100\n",
      "55000/55000 [==============================] - 9s - loss: 0.0392 - acc: 0.9877 - val_loss: 0.0228 - val_acc: 0.9928\n",
      "Epoch 5/100\n",
      "55000/55000 [==============================] - 9s - loss: 0.0326 - acc: 0.9897 - val_loss: 0.0203 - val_acc: 0.9931\n",
      "Epoch 6/100\n",
      "55000/55000 [==============================] - 9s - loss: 0.0294 - acc: 0.9904 - val_loss: 0.0277 - val_acc: 0.9907\n",
      "Epoch 7/100\n",
      "55000/55000 [==============================] - 9s - loss: 0.0265 - acc: 0.9915 - val_loss: 0.0259 - val_acc: 0.9909\n",
      "Epoch 8/100\n",
      "55000/55000 [==============================] - 9s - loss: 0.0250 - acc: 0.9919 - val_loss: 0.0252 - val_acc: 0.9910\n",
      "Epoch 9/100\n",
      "55000/55000 [==============================] - 9s - loss: 0.0228 - acc: 0.9925 - val_loss: 0.0212 - val_acc: 0.9934\n",
      "Epoch 10/100\n",
      "55000/55000 [==============================] - 9s - loss: 0.0220 - acc: 0.9930 - val_loss: 0.0201 - val_acc: 0.9928\n",
      "Epoch 11/100\n",
      "55000/55000 [==============================] - 9s - loss: 0.0201 - acc: 0.9935 - val_loss: 0.0304 - val_acc: 0.9915\n",
      "Epoch 12/100\n",
      "55000/55000 [==============================] - 9s - loss: 0.0189 - acc: 0.9937 - val_loss: 0.0238 - val_acc: 0.9929\n",
      "Epoch 13/100\n",
      "55000/55000 [==============================] - 9s - loss: 0.0184 - acc: 0.9937 - val_loss: 0.0196 - val_acc: 0.9946\n",
      "Epoch 14/100\n",
      "55000/55000 [==============================] - 9s - loss: 0.0156 - acc: 0.9948 - val_loss: 0.0188 - val_acc: 0.9944\n",
      "Epoch 15/100\n",
      "55000/55000 [==============================] - 9s - loss: 0.0170 - acc: 0.9943 - val_loss: 0.0268 - val_acc: 0.9927\n",
      "Epoch 16/100\n",
      "55000/55000 [==============================] - 9s - loss: 0.0156 - acc: 0.9947 - val_loss: 0.0167 - val_acc: 0.9947\n",
      "Epoch 17/100\n",
      "55000/55000 [==============================] - 9s - loss: 0.0146 - acc: 0.9951 - val_loss: 0.0214 - val_acc: 0.9939\n",
      "Epoch 18/100\n",
      "55000/55000 [==============================] - 9s - loss: 0.0148 - acc: 0.9950 - val_loss: 0.0210 - val_acc: 0.9937\n",
      "Epoch 19/100\n",
      "55000/55000 [==============================] - 8s - loss: 0.0115 - acc: 0.9962 - val_loss: 0.0208 - val_acc: 0.9945\n",
      "Epoch 20/100\n",
      "55000/55000 [==============================] - 9s - loss: 0.0111 - acc: 0.9964 - val_loss: 0.0169 - val_acc: 0.9958\n",
      "Epoch 21/100\n",
      "55000/55000 [==============================] - 8s - loss: 0.0119 - acc: 0.9963 - val_loss: 0.0190 - val_acc: 0.9937\n",
      "Epoch 22/100\n",
      "55000/55000 [==============================] - 9s - loss: 0.0106 - acc: 0.9965 - val_loss: 0.0225 - val_acc: 0.9935\n",
      "Epoch 23/100\n",
      "55000/55000 [==============================] - 9s - loss: 0.0097 - acc: 0.9968 - val_loss: 0.0216 - val_acc: 0.9944\n",
      "Epoch 24/100\n",
      "55000/55000 [==============================] - 9s - loss: 0.0088 - acc: 0.9969 - val_loss: 0.0164 - val_acc: 0.9956\n",
      "Epoch 25/100\n",
      "55000/55000 [==============================] - 9s - loss: 0.0106 - acc: 0.9963 - val_loss: 0.0235 - val_acc: 0.9946\n",
      "Epoch 26/100\n",
      "55000/55000 [==============================] - 9s - loss: 0.0097 - acc: 0.9966 - val_loss: 0.0220 - val_acc: 0.9938\n",
      "Epoch 27/100\n",
      "55000/55000 [==============================] - 9s - loss: 0.0088 - acc: 0.9971 - val_loss: 0.0210 - val_acc: 0.9950\n",
      "Epoch 28/100\n",
      "55000/55000 [==============================] - 9s - loss: 0.0082 - acc: 0.9973 - val_loss: 0.0211 - val_acc: 0.9950\n",
      "Epoch 29/100\n",
      "55000/55000 [==============================] - 9s - loss: 0.0081 - acc: 0.9973 - val_loss: 0.0224 - val_acc: 0.9946\n",
      "Epoch 30/100\n",
      "55000/55000 [==============================] - 9s - loss: 0.0081 - acc: 0.9973 - val_loss: 0.0220 - val_acc: 0.9949\n",
      "Epoch 31/100\n",
      "55000/55000 [==============================] - 9s - loss: 0.0073 - acc: 0.9975 - val_loss: 0.0192 - val_acc: 0.9947\n",
      "Epoch 32/100\n",
      "55000/55000 [==============================] - 9s - loss: 0.0086 - acc: 0.9971 - val_loss: 0.0186 - val_acc: 0.9950\n",
      "Epoch 33/100\n",
      "55000/55000 [==============================] - 9s - loss: 0.0058 - acc: 0.9981 - val_loss: 0.0191 - val_acc: 0.9952\n",
      "Epoch 34/100\n",
      "55000/55000 [==============================] - 9s - loss: 0.0073 - acc: 0.9975 - val_loss: 0.0205 - val_acc: 0.9949\n",
      "Epoch 35/100\n",
      "55000/55000 [==============================] - 9s - loss: 0.0069 - acc: 0.9976 - val_loss: 0.0273 - val_acc: 0.9948\n",
      "Epoch 36/100\n",
      "55000/55000 [==============================] - 9s - loss: 0.0073 - acc: 0.9975 - val_loss: 0.0232 - val_acc: 0.9945\n",
      "Epoch 37/100\n",
      "55000/55000 [==============================] - 9s - loss: 0.0055 - acc: 0.9982 - val_loss: 0.0251 - val_acc: 0.9940\n",
      "Epoch 38/100\n",
      "55000/55000 [==============================] - 8s - loss: 0.0055 - acc: 0.9983 - val_loss: 0.0193 - val_acc: 0.9962\n",
      "Epoch 39/100\n",
      "55000/55000 [==============================] - 9s - loss: 0.0054 - acc: 0.9983 - val_loss: 0.0218 - val_acc: 0.9951\n",
      "Epoch 40/100\n",
      "55000/55000 [==============================] - 9s - loss: 0.0068 - acc: 0.9978 - val_loss: 0.0189 - val_acc: 0.9959\n",
      "Epoch 41/100\n",
      "55000/55000 [==============================] - 9s - loss: 0.0054 - acc: 0.9982 - val_loss: 0.0255 - val_acc: 0.9938\n",
      "Epoch 42/100\n",
      "55000/55000 [==============================] - 9s - loss: 0.0053 - acc: 0.9983 - val_loss: 0.0208 - val_acc: 0.9953\n",
      "Epoch 43/100\n",
      "55000/55000 [==============================] - 9s - loss: 0.0044 - acc: 0.9986 - val_loss: 0.0253 - val_acc: 0.9947\n",
      "Epoch 44/100\n",
      "55000/55000 [==============================] - 9s - loss: 0.0054 - acc: 0.9982 - val_loss: 0.0304 - val_acc: 0.9933\n",
      "Epoch 45/100\n",
      "55000/55000 [==============================] - 9s - loss: 0.0051 - acc: 0.9983 - val_loss: 0.0255 - val_acc: 0.9943\n",
      "Epoch 46/100\n",
      "55000/55000 [==============================] - 9s - loss: 0.0050 - acc: 0.9985 - val_loss: 0.0202 - val_acc: 0.9959\n",
      "Epoch 47/100\n",
      "55000/55000 [==============================] - 9s - loss: 0.0051 - acc: 0.9984 - val_loss: 0.0249 - val_acc: 0.9951\n",
      "Epoch 48/100\n",
      "55000/55000 [==============================] - 9s - loss: 0.0047 - acc: 0.9983 - val_loss: 0.0213 - val_acc: 0.9956\n",
      "Epoch 49/100\n",
      "55000/55000 [==============================] - 9s - loss: 0.0040 - acc: 0.9987 - val_loss: 0.0224 - val_acc: 0.9946\n",
      "Epoch 50/100\n",
      "55000/55000 [==============================] - 9s - loss: 0.0040 - acc: 0.9988 - val_loss: 0.0246 - val_acc: 0.9949\n",
      "Epoch 51/100\n",
      "55000/55000 [==============================] - 9s - loss: 0.0047 - acc: 0.9985 - val_loss: 0.0211 - val_acc: 0.9956\n",
      "Epoch 52/100\n",
      "55000/55000 [==============================] - 9s - loss: 0.0049 - acc: 0.9983 - val_loss: 0.0207 - val_acc: 0.9951\n",
      "Epoch 53/100\n",
      "55000/55000 [==============================] - 8s - loss: 0.0042 - acc: 0.9988 - val_loss: 0.0228 - val_acc: 0.9954\n",
      "Epoch 54/100\n",
      "55000/55000 [==============================] - 9s - loss: 0.0038 - acc: 0.9987 - val_loss: 0.0211 - val_acc: 0.9953\n",
      "Epoch 55/100\n",
      "55000/55000 [==============================] - 8s - loss: 0.0042 - acc: 0.9986 - val_loss: 0.0215 - val_acc: 0.9959\n",
      "Epoch 56/100\n",
      "55000/55000 [==============================] - 9s - loss: 0.0041 - acc: 0.9985 - val_loss: 0.0237 - val_acc: 0.9951\n",
      "Epoch 57/100\n",
      "55000/55000 [==============================] - 9s - loss: 0.0042 - acc: 0.9987 - val_loss: 0.0217 - val_acc: 0.9956\n",
      "Epoch 58/100\n",
      "55000/55000 [==============================] - 9s - loss: 0.0027 - acc: 0.9990 - val_loss: 0.0225 - val_acc: 0.9955\n",
      "Epoch 59/100\n",
      "55000/55000 [==============================] - 9s - loss: 0.0036 - acc: 0.9989 - val_loss: 0.0204 - val_acc: 0.9955\n",
      "Epoch 60/100\n",
      "55000/55000 [==============================] - 9s - loss: 0.0036 - acc: 0.9990 - val_loss: 0.0237 - val_acc: 0.9953\n",
      "Epoch 61/100\n",
      "55000/55000 [==============================] - 9s - loss: 0.0035 - acc: 0.9990 - val_loss: 0.0265 - val_acc: 0.9940\n",
      "Epoch 62/100\n",
      "55000/55000 [==============================] - 9s - loss: 0.0035 - acc: 0.9990 - val_loss: 0.0230 - val_acc: 0.9958\n",
      "Epoch 63/100\n",
      "55000/55000 [==============================] - 9s - loss: 0.0031 - acc: 0.9989 - val_loss: 0.0192 - val_acc: 0.9959\n",
      "Epoch 64/100\n",
      "55000/55000 [==============================] - 9s - loss: 0.0042 - acc: 0.9986 - val_loss: 0.0204 - val_acc: 0.9963\n",
      "Epoch 65/100\n",
      "55000/55000 [==============================] - 9s - loss: 0.0032 - acc: 0.9989 - val_loss: 0.0259 - val_acc: 0.9950\n",
      "Epoch 66/100\n",
      "55000/55000 [==============================] - 9s - loss: 0.0042 - acc: 0.9983 - val_loss: 0.0291 - val_acc: 0.9950\n",
      "Epoch 67/100\n",
      "55000/55000 [==============================] - 9s - loss: 0.0034 - acc: 0.9988 - val_loss: 0.0241 - val_acc: 0.9954\n",
      "Epoch 68/100\n",
      "55000/55000 [==============================] - 8s - loss: 0.0028 - acc: 0.9991 - val_loss: 0.0232 - val_acc: 0.9956\n",
      "Epoch 69/100\n",
      "55000/55000 [==============================] - 9s - loss: 0.0033 - acc: 0.9990 - val_loss: 0.0241 - val_acc: 0.9955\n",
      "Epoch 70/100\n",
      "55000/55000 [==============================] - 9s - loss: 0.0043 - acc: 0.9987 - val_loss: 0.0205 - val_acc: 0.9958\n",
      "Epoch 71/100\n",
      "55000/55000 [==============================] - 9s - loss: 0.0026 - acc: 0.9991 - val_loss: 0.0217 - val_acc: 0.9963\n",
      "Epoch 72/100\n",
      "55000/55000 [==============================] - 9s - loss: 0.0027 - acc: 0.9992 - val_loss: 0.0225 - val_acc: 0.9960\n",
      "Epoch 73/100\n",
      "55000/55000 [==============================] - 9s - loss: 0.0036 - acc: 0.9988 - val_loss: 0.0277 - val_acc: 0.9950\n",
      "Epoch 74/100\n",
      "55000/55000 [==============================] - 9s - loss: 0.0039 - acc: 0.9988 - val_loss: 0.0266 - val_acc: 0.9948\n",
      "Epoch 75/100\n",
      "55000/55000 [==============================] - 9s - loss: 0.0036 - acc: 0.9988 - val_loss: 0.0252 - val_acc: 0.9957\n",
      "Epoch 76/100\n",
      "55000/55000 [==============================] - 9s - loss: 0.0032 - acc: 0.9989 - val_loss: 0.0246 - val_acc: 0.9958\n",
      "Epoch 77/100\n",
      "55000/55000 [==============================] - 9s - loss: 0.0031 - acc: 0.9989 - val_loss: 0.0238 - val_acc: 0.9960\n",
      "Epoch 78/100\n",
      "55000/55000 [==============================] - 9s - loss: 0.0034 - acc: 0.9991 - val_loss: 0.0239 - val_acc: 0.9962\n",
      "Epoch 79/100\n",
      "55000/55000 [==============================] - 9s - loss: 0.0029 - acc: 0.9990 - val_loss: 0.0211 - val_acc: 0.9958\n",
      "Epoch 80/100\n",
      "55000/55000 [==============================] - 9s - loss: 0.0026 - acc: 0.9991 - val_loss: 0.0221 - val_acc: 0.9953\n",
      "Epoch 81/100\n",
      "55000/55000 [==============================] - 9s - loss: 0.0026 - acc: 0.9992 - val_loss: 0.0269 - val_acc: 0.9955\n",
      "Epoch 82/100\n",
      "55000/55000 [==============================] - 9s - loss: 0.0034 - acc: 0.9991 - val_loss: 0.0202 - val_acc: 0.9962\n",
      "Epoch 83/100\n",
      "55000/55000 [==============================] - 9s - loss: 0.0023 - acc: 0.9993 - val_loss: 0.0217 - val_acc: 0.9958\n",
      "Epoch 84/100\n",
      "55000/55000 [==============================] - 9s - loss: 0.0023 - acc: 0.9993 - val_loss: 0.0293 - val_acc: 0.9940\n",
      "Epoch 85/100\n",
      "55000/55000 [==============================] - 9s - loss: 0.0029 - acc: 0.9991 - val_loss: 0.0228 - val_acc: 0.9954\n",
      "Epoch 86/100\n",
      "55000/55000 [==============================] - 9s - loss: 0.0028 - acc: 0.9991 - val_loss: 0.0246 - val_acc: 0.9957\n",
      "Epoch 87/100\n",
      "55000/55000 [==============================] - 9s - loss: 0.0028 - acc: 0.9991 - val_loss: 0.0253 - val_acc: 0.9958\n",
      "Epoch 88/100\n",
      "55000/55000 [==============================] - 9s - loss: 0.0028 - acc: 0.9990 - val_loss: 0.0283 - val_acc: 0.9952\n",
      "Epoch 89/100\n",
      "55000/55000 [==============================] - 9s - loss: 0.0020 - acc: 0.9995 - val_loss: 0.0256 - val_acc: 0.9960\n",
      "Epoch 90/100\n",
      "55000/55000 [==============================] - 9s - loss: 0.0013 - acc: 0.9997 - val_loss: 0.0230 - val_acc: 0.9960\n",
      "Epoch 91/100\n",
      "55000/55000 [==============================] - 9s - loss: 0.0024 - acc: 0.9994 - val_loss: 0.0327 - val_acc: 0.9948\n",
      "Epoch 92/100\n",
      "55000/55000 [==============================] - 9s - loss: 0.0025 - acc: 0.9990 - val_loss: 0.0270 - val_acc: 0.9949\n",
      "Epoch 93/100\n",
      "55000/55000 [==============================] - 9s - loss: 0.0039 - acc: 0.9988 - val_loss: 0.0250 - val_acc: 0.9960\n",
      "Epoch 94/100\n",
      "55000/55000 [==============================] - 9s - loss: 0.0024 - acc: 0.9993 - val_loss: 0.0274 - val_acc: 0.9955\n",
      "Epoch 95/100\n",
      "55000/55000 [==============================] - 9s - loss: 0.0027 - acc: 0.9992 - val_loss: 0.0295 - val_acc: 0.9956\n",
      "Epoch 96/100\n",
      "55000/55000 [==============================] - 9s - loss: 0.0035 - acc: 0.9990 - val_loss: 0.0261 - val_acc: 0.9952\n",
      "Epoch 97/100\n",
      "55000/55000 [==============================] - 9s - loss: 0.0026 - acc: 0.9993 - val_loss: 0.0273 - val_acc: 0.9958\n",
      "Epoch 98/100\n",
      "55000/55000 [==============================] - 9s - loss: 0.0021 - acc: 0.9994 - val_loss: 0.0281 - val_acc: 0.9958\n",
      "Epoch 99/100\n",
      "55000/55000 [==============================] - 9s - loss: 0.0021 - acc: 0.9993 - val_loss: 0.0288 - val_acc: 0.9950\n",
      "Epoch 100/100\n",
      "55000/55000 [==============================] - 8s - loss: 0.0019 - acc: 0.9995 - val_loss: 0.0258 - val_acc: 0.9952\n"
     ]
    }
   ],
   "source": [
    "result = model.fit(X_train, y_train, batch_size=128, epochs=100, verbose=1, validation_data=(X_test, y_test))"
   ]
  },
  {
   "cell_type": "code",
   "execution_count": 18,
   "metadata": {},
   "outputs": [
    {
     "name": "stdout",
     "output_type": "stream",
     "text": [
      "99.54%\n"
     ]
    }
   ],
   "source": [
    "print \"{:.2%}\".format(np.average(result.history['val_acc'][-5:]))"
   ]
  },
  {
   "cell_type": "markdown",
   "metadata": {},
   "source": [
    "## Data augmentation"
   ]
  },
  {
   "cell_type": "code",
   "execution_count": 21,
   "metadata": {
    "collapsed": true
   },
   "outputs": [],
   "source": [
    "from keras.preprocessing.image import ImageDataGenerator"
   ]
  },
  {
   "cell_type": "code",
   "execution_count": 23,
   "metadata": {
    "collapsed": true
   },
   "outputs": [],
   "source": [
    "K.clear_session()\n",
    "\n",
    "model = build_model_functional([28, 28, 1], 10)"
   ]
  },
  {
   "cell_type": "code",
   "execution_count": 24,
   "metadata": {},
   "outputs": [
    {
     "name": "stderr",
     "output_type": "stream",
     "text": [
      "/home/nhnent/tf-latest-env/local/lib/python2.7/site-packages/keras/preprocessing/image.py:653: UserWarning: Expected input to be images (as Numpy array) following the data format convention \"channels_last\" (channels on axis 3), i.e. expected either 1, 3 or 4 channels on axis 3. However, it was passed an array with shape (55000, 28, 28, 1) (1 channels).\n",
      "  ' (' + str(x.shape[self.channel_axis]) + ' channels).')\n"
     ]
    }
   ],
   "source": [
    "datagen = ImageDataGenerator(rotation_range=15, width_shift_range=0.1, height_shift_range=0.1, zoom_range=0.1)\n",
    "datagen.fit(X_train)"
   ]
  },
  {
   "cell_type": "code",
   "execution_count": 25,
   "metadata": {
    "scrolled": true
   },
   "outputs": [
    {
     "name": "stdout",
     "output_type": "stream",
     "text": [
      "Epoch 1/100\n",
      "429/429 [==============================] - 8s - loss: 0.4286 - acc: 0.8643 - val_loss: 0.0583 - val_acc: 0.9848\n",
      "Epoch 2/100\n",
      "429/429 [==============================] - 8s - loss: 0.1164 - acc: 0.9639 - val_loss: 0.0471 - val_acc: 0.9860\n",
      "Epoch 3/100\n",
      "429/429 [==============================] - 8s - loss: 0.0839 - acc: 0.9739 - val_loss: 0.0271 - val_acc: 0.9902\n",
      "Epoch 4/100\n",
      "429/429 [==============================] - 8s - loss: 0.0733 - acc: 0.9774 - val_loss: 0.0227 - val_acc: 0.9922\n",
      "Epoch 5/100\n",
      "429/429 [==============================] - 8s - loss: 0.0611 - acc: 0.9810 - val_loss: 0.0195 - val_acc: 0.9941\n",
      "Epoch 6/100\n",
      "429/429 [==============================] - 8s - loss: 0.0578 - acc: 0.9821 - val_loss: 0.0212 - val_acc: 0.9937\n",
      "Epoch 7/100\n",
      "429/429 [==============================] - 8s - loss: 0.0534 - acc: 0.9835 - val_loss: 0.0205 - val_acc: 0.9932\n",
      "Epoch 8/100\n",
      "429/429 [==============================] - 8s - loss: 0.0493 - acc: 0.9843 - val_loss: 0.0195 - val_acc: 0.9931\n",
      "Epoch 9/100\n",
      "429/429 [==============================] - 8s - loss: 0.0484 - acc: 0.9852 - val_loss: 0.0171 - val_acc: 0.9936\n",
      "Epoch 10/100\n",
      "429/429 [==============================] - 8s - loss: 0.0435 - acc: 0.9863 - val_loss: 0.0199 - val_acc: 0.9934\n",
      "Epoch 11/100\n",
      "429/429 [==============================] - 8s - loss: 0.0412 - acc: 0.9868 - val_loss: 0.0273 - val_acc: 0.9912\n",
      "Epoch 12/100\n",
      "429/429 [==============================] - 8s - loss: 0.0434 - acc: 0.9867 - val_loss: 0.0163 - val_acc: 0.9949\n",
      "Epoch 13/100\n",
      "429/429 [==============================] - 8s - loss: 0.0424 - acc: 0.9871 - val_loss: 0.0116 - val_acc: 0.9955\n",
      "Epoch 14/100\n",
      "429/429 [==============================] - 8s - loss: 0.0370 - acc: 0.9885 - val_loss: 0.0190 - val_acc: 0.9940\n",
      "Epoch 15/100\n",
      "429/429 [==============================] - 8s - loss: 0.0370 - acc: 0.9883 - val_loss: 0.0149 - val_acc: 0.9953\n",
      "Epoch 16/100\n",
      "429/429 [==============================] - 9s - loss: 0.0351 - acc: 0.9890 - val_loss: 0.0183 - val_acc: 0.9936\n",
      "Epoch 17/100\n",
      "429/429 [==============================] - 8s - loss: 0.0351 - acc: 0.9892 - val_loss: 0.0129 - val_acc: 0.9958\n",
      "Epoch 18/100\n",
      "429/429 [==============================] - 8s - loss: 0.0332 - acc: 0.9899 - val_loss: 0.0141 - val_acc: 0.9952\n",
      "Epoch 19/100\n",
      "429/429 [==============================] - 8s - loss: 0.0331 - acc: 0.9897 - val_loss: 0.0108 - val_acc: 0.9961\n",
      "Epoch 20/100\n",
      "429/429 [==============================] - 9s - loss: 0.0311 - acc: 0.9906 - val_loss: 0.0118 - val_acc: 0.9962\n",
      "Epoch 21/100\n",
      "429/429 [==============================] - 9s - loss: 0.0297 - acc: 0.9906 - val_loss: 0.0144 - val_acc: 0.9952\n",
      "Epoch 22/100\n",
      "429/429 [==============================] - 9s - loss: 0.0303 - acc: 0.9902 - val_loss: 0.0161 - val_acc: 0.9948\n",
      "Epoch 23/100\n",
      "429/429 [==============================] - 8s - loss: 0.0286 - acc: 0.9905 - val_loss: 0.0174 - val_acc: 0.9945\n",
      "Epoch 24/100\n",
      "429/429 [==============================] - 9s - loss: 0.0308 - acc: 0.9903 - val_loss: 0.0150 - val_acc: 0.9953\n",
      "Epoch 25/100\n",
      "429/429 [==============================] - 9s - loss: 0.0286 - acc: 0.9908 - val_loss: 0.0176 - val_acc: 0.9946\n",
      "Epoch 26/100\n",
      "429/429 [==============================] - 9s - loss: 0.0270 - acc: 0.9918 - val_loss: 0.0195 - val_acc: 0.9939\n",
      "Epoch 27/100\n",
      "429/429 [==============================] - 9s - loss: 0.0283 - acc: 0.9908 - val_loss: 0.0115 - val_acc: 0.9962\n",
      "Epoch 28/100\n",
      "429/429 [==============================] - 9s - loss: 0.0277 - acc: 0.9913 - val_loss: 0.0130 - val_acc: 0.9958\n",
      "Epoch 29/100\n",
      "429/429 [==============================] - 9s - loss: 0.0251 - acc: 0.9923 - val_loss: 0.0122 - val_acc: 0.9956\n",
      "Epoch 30/100\n",
      "429/429 [==============================] - 9s - loss: 0.0243 - acc: 0.9916 - val_loss: 0.0149 - val_acc: 0.9947\n",
      "Epoch 31/100\n",
      "429/429 [==============================] - 8s - loss: 0.0254 - acc: 0.9918 - val_loss: 0.0156 - val_acc: 0.9951\n",
      "Epoch 32/100\n",
      "429/429 [==============================] - 9s - loss: 0.0230 - acc: 0.9931 - val_loss: 0.0189 - val_acc: 0.9942\n",
      "Epoch 33/100\n",
      "429/429 [==============================] - 9s - loss: 0.0246 - acc: 0.9926 - val_loss: 0.0118 - val_acc: 0.9959\n",
      "Epoch 34/100\n",
      "429/429 [==============================] - 9s - loss: 0.0246 - acc: 0.9922 - val_loss: 0.0163 - val_acc: 0.9949\n",
      "Epoch 35/100\n",
      "429/429 [==============================] - 9s - loss: 0.0233 - acc: 0.9925 - val_loss: 0.0098 - val_acc: 0.9967\n",
      "Epoch 36/100\n",
      "429/429 [==============================] - 9s - loss: 0.0228 - acc: 0.9936 - val_loss: 0.0130 - val_acc: 0.9954\n",
      "Epoch 37/100\n",
      "429/429 [==============================] - 9s - loss: 0.0234 - acc: 0.9927 - val_loss: 0.0116 - val_acc: 0.9962\n",
      "Epoch 38/100\n",
      "429/429 [==============================] - 9s - loss: 0.0235 - acc: 0.9926 - val_loss: 0.0124 - val_acc: 0.9960\n",
      "Epoch 39/100\n",
      "429/429 [==============================] - 9s - loss: 0.0214 - acc: 0.9930 - val_loss: 0.0108 - val_acc: 0.9964\n",
      "Epoch 40/100\n",
      "429/429 [==============================] - 9s - loss: 0.0218 - acc: 0.9933 - val_loss: 0.0128 - val_acc: 0.9963\n",
      "Epoch 41/100\n",
      "429/429 [==============================] - 9s - loss: 0.0221 - acc: 0.9934 - val_loss: 0.0127 - val_acc: 0.9959\n",
      "Epoch 42/100\n",
      "429/429 [==============================] - 9s - loss: 0.0206 - acc: 0.9935 - val_loss: 0.0142 - val_acc: 0.9950\n",
      "Epoch 43/100\n",
      "429/429 [==============================] - 9s - loss: 0.0224 - acc: 0.9929 - val_loss: 0.0175 - val_acc: 0.9944\n",
      "Epoch 44/100\n",
      "429/429 [==============================] - 9s - loss: 0.0210 - acc: 0.9935 - val_loss: 0.0132 - val_acc: 0.9955\n",
      "Epoch 45/100\n",
      "429/429 [==============================] - 9s - loss: 0.0199 - acc: 0.9934 - val_loss: 0.0118 - val_acc: 0.9967\n",
      "Epoch 46/100\n",
      "429/429 [==============================] - 9s - loss: 0.0191 - acc: 0.9938 - val_loss: 0.0111 - val_acc: 0.9955\n",
      "Epoch 47/100\n",
      "429/429 [==============================] - 9s - loss: 0.0199 - acc: 0.9939 - val_loss: 0.0121 - val_acc: 0.9963\n",
      "Epoch 48/100\n",
      "429/429 [==============================] - 9s - loss: 0.0185 - acc: 0.9940 - val_loss: 0.0134 - val_acc: 0.9956\n",
      "Epoch 49/100\n",
      "429/429 [==============================] - 9s - loss: 0.0211 - acc: 0.9931 - val_loss: 0.0091 - val_acc: 0.9967\n",
      "Epoch 50/100\n",
      "429/429 [==============================] - 9s - loss: 0.0193 - acc: 0.9938 - val_loss: 0.0124 - val_acc: 0.9957\n",
      "Epoch 51/100\n",
      "429/429 [==============================] - 9s - loss: 0.0208 - acc: 0.9931 - val_loss: 0.0102 - val_acc: 0.9964\n",
      "Epoch 52/100\n",
      "429/429 [==============================] - 9s - loss: 0.0187 - acc: 0.9937 - val_loss: 0.0090 - val_acc: 0.9965\n",
      "Epoch 53/100\n",
      "429/429 [==============================] - 9s - loss: 0.0178 - acc: 0.9940 - val_loss: 0.0105 - val_acc: 0.9967\n",
      "Epoch 54/100\n",
      "429/429 [==============================] - 9s - loss: 0.0195 - acc: 0.9939 - val_loss: 0.0099 - val_acc: 0.9962\n",
      "Epoch 55/100\n",
      "429/429 [==============================] - 9s - loss: 0.0179 - acc: 0.9943 - val_loss: 0.0116 - val_acc: 0.9959\n",
      "Epoch 56/100\n",
      "429/429 [==============================] - 9s - loss: 0.0188 - acc: 0.9937 - val_loss: 0.0113 - val_acc: 0.9967\n",
      "Epoch 57/100\n",
      "429/429 [==============================] - 9s - loss: 0.0181 - acc: 0.9940 - val_loss: 0.0147 - val_acc: 0.9953\n",
      "Epoch 58/100\n",
      "429/429 [==============================] - 9s - loss: 0.0191 - acc: 0.9940 - val_loss: 0.0118 - val_acc: 0.9959\n",
      "Epoch 59/100\n",
      "429/429 [==============================] - 9s - loss: 0.0179 - acc: 0.9944 - val_loss: 0.0129 - val_acc: 0.9961\n",
      "Epoch 60/100\n",
      "429/429 [==============================] - 9s - loss: 0.0186 - acc: 0.9939 - val_loss: 0.0117 - val_acc: 0.9960\n",
      "Epoch 61/100\n",
      "429/429 [==============================] - 9s - loss: 0.0183 - acc: 0.9942 - val_loss: 0.0107 - val_acc: 0.9968\n",
      "Epoch 62/100\n",
      "429/429 [==============================] - 9s - loss: 0.0172 - acc: 0.9947 - val_loss: 0.0140 - val_acc: 0.9960\n",
      "Epoch 63/100\n",
      "429/429 [==============================] - 9s - loss: 0.0171 - acc: 0.9945 - val_loss: 0.0112 - val_acc: 0.9966\n",
      "Epoch 64/100\n",
      "429/429 [==============================] - 9s - loss: 0.0180 - acc: 0.9943 - val_loss: 0.0114 - val_acc: 0.9960\n",
      "Epoch 65/100\n",
      "429/429 [==============================] - 9s - loss: 0.0168 - acc: 0.9946 - val_loss: 0.0123 - val_acc: 0.9960\n",
      "Epoch 66/100\n",
      "429/429 [==============================] - 9s - loss: 0.0171 - acc: 0.9943 - val_loss: 0.0104 - val_acc: 0.9962\n",
      "Epoch 67/100\n",
      "429/429 [==============================] - 9s - loss: 0.0157 - acc: 0.9952 - val_loss: 0.0106 - val_acc: 0.9966\n",
      "Epoch 68/100\n",
      "429/429 [==============================] - 9s - loss: 0.0150 - acc: 0.9948 - val_loss: 0.0099 - val_acc: 0.9972\n",
      "Epoch 69/100\n",
      "429/429 [==============================] - 9s - loss: 0.0168 - acc: 0.9947 - val_loss: 0.0105 - val_acc: 0.9967\n",
      "Epoch 70/100\n",
      "429/429 [==============================] - 9s - loss: 0.0161 - acc: 0.9945 - val_loss: 0.0106 - val_acc: 0.9962\n",
      "Epoch 71/100\n",
      "429/429 [==============================] - 9s - loss: 0.0155 - acc: 0.9947 - val_loss: 0.0128 - val_acc: 0.9960\n",
      "Epoch 72/100\n",
      "429/429 [==============================] - 9s - loss: 0.0164 - acc: 0.9948 - val_loss: 0.0116 - val_acc: 0.9965\n",
      "Epoch 73/100\n",
      "429/429 [==============================] - 9s - loss: 0.0144 - acc: 0.9954 - val_loss: 0.0131 - val_acc: 0.9958\n",
      "Epoch 74/100\n",
      "429/429 [==============================] - 9s - loss: 0.0158 - acc: 0.9949 - val_loss: 0.0109 - val_acc: 0.9961\n",
      "Epoch 75/100\n",
      "429/429 [==============================] - 9s - loss: 0.0153 - acc: 0.9952 - val_loss: 0.0106 - val_acc: 0.9961\n",
      "Epoch 76/100\n",
      "429/429 [==============================] - 9s - loss: 0.0166 - acc: 0.9946 - val_loss: 0.0102 - val_acc: 0.9966\n",
      "Epoch 77/100\n",
      "429/429 [==============================] - 9s - loss: 0.0156 - acc: 0.9950 - val_loss: 0.0095 - val_acc: 0.9967\n",
      "Epoch 78/100\n",
      "429/429 [==============================] - 9s - loss: 0.0168 - acc: 0.9948 - val_loss: 0.0095 - val_acc: 0.9970\n",
      "Epoch 79/100\n",
      "429/429 [==============================] - 9s - loss: 0.0149 - acc: 0.9955 - val_loss: 0.0137 - val_acc: 0.9954\n",
      "Epoch 80/100\n",
      "429/429 [==============================] - 9s - loss: 0.0152 - acc: 0.9949 - val_loss: 0.0109 - val_acc: 0.9965\n",
      "Epoch 81/100\n",
      "429/429 [==============================] - 9s - loss: 0.0151 - acc: 0.9952 - val_loss: 0.0121 - val_acc: 0.9963\n",
      "Epoch 82/100\n",
      "429/429 [==============================] - 9s - loss: 0.0140 - acc: 0.9956 - val_loss: 0.0121 - val_acc: 0.9966\n",
      "Epoch 83/100\n",
      "429/429 [==============================] - 9s - loss: 0.0160 - acc: 0.9948 - val_loss: 0.0117 - val_acc: 0.9966\n",
      "Epoch 84/100\n",
      "429/429 [==============================] - 9s - loss: 0.0148 - acc: 0.9954 - val_loss: 0.0115 - val_acc: 0.9965\n",
      "Epoch 85/100\n",
      "429/429 [==============================] - 9s - loss: 0.0153 - acc: 0.9951 - val_loss: 0.0102 - val_acc: 0.9967\n",
      "Epoch 86/100\n",
      "429/429 [==============================] - 9s - loss: 0.0140 - acc: 0.9952 - val_loss: 0.0101 - val_acc: 0.9960\n",
      "Epoch 87/100\n",
      "429/429 [==============================] - 9s - loss: 0.0152 - acc: 0.9950 - val_loss: 0.0123 - val_acc: 0.9961\n",
      "Epoch 88/100\n",
      "429/429 [==============================] - 9s - loss: 0.0132 - acc: 0.9954 - val_loss: 0.0119 - val_acc: 0.9964\n",
      "Epoch 89/100\n",
      "429/429 [==============================] - 9s - loss: 0.0143 - acc: 0.9954 - val_loss: 0.0122 - val_acc: 0.9962\n",
      "Epoch 90/100\n",
      "429/429 [==============================] - 9s - loss: 0.0139 - acc: 0.9957 - val_loss: 0.0089 - val_acc: 0.9968\n",
      "Epoch 91/100\n",
      "429/429 [==============================] - 9s - loss: 0.0136 - acc: 0.9958 - val_loss: 0.0097 - val_acc: 0.9963\n",
      "Epoch 92/100\n",
      "429/429 [==============================] - 9s - loss: 0.0144 - acc: 0.9955 - val_loss: 0.0104 - val_acc: 0.9969\n",
      "Epoch 93/100\n",
      "429/429 [==============================] - 9s - loss: 0.0140 - acc: 0.9955 - val_loss: 0.0142 - val_acc: 0.9961\n",
      "Epoch 94/100\n",
      "429/429 [==============================] - 9s - loss: 0.0131 - acc: 0.9956 - val_loss: 0.0114 - val_acc: 0.9963\n",
      "Epoch 95/100\n",
      "429/429 [==============================] - 9s - loss: 0.0143 - acc: 0.9953 - val_loss: 0.0115 - val_acc: 0.9960\n",
      "Epoch 96/100\n",
      "429/429 [==============================] - 9s - loss: 0.0140 - acc: 0.9954 - val_loss: 0.0105 - val_acc: 0.9966\n",
      "Epoch 97/100\n",
      "429/429 [==============================] - 9s - loss: 0.0140 - acc: 0.9956 - val_loss: 0.0099 - val_acc: 0.9961\n",
      "Epoch 98/100\n",
      "429/429 [==============================] - 9s - loss: 0.0145 - acc: 0.9954 - val_loss: 0.0096 - val_acc: 0.9964\n",
      "Epoch 99/100\n",
      "429/429 [==============================] - 9s - loss: 0.0134 - acc: 0.9955 - val_loss: 0.0124 - val_acc: 0.9962\n",
      "Epoch 100/100\n",
      "429/429 [==============================] - 9s - loss: 0.0139 - acc: 0.9955 - val_loss: 0.0131 - val_acc: 0.9957\n"
     ]
    }
   ],
   "source": [
    "result = model.fit_generator(datagen.flow(X_train, y_train, batch_size=128), steps_per_epoch=X_train.shape[0] // 128,\n",
    "                             epochs=100, validation_data=(X_test, y_test))"
   ]
  },
  {
   "cell_type": "code",
   "execution_count": 26,
   "metadata": {},
   "outputs": [
    {
     "name": "stdout",
     "output_type": "stream",
     "text": [
      "99.62%\n"
     ]
    }
   ],
   "source": [
    "print \"{:.2%}\".format(np.average(result.history['val_acc'][-5:]))"
   ]
  }
 ],
 "metadata": {
  "kernelspec": {
   "display_name": "Python 2 - tf.latest",
   "language": "python",
   "name": "python2-tf-latest"
  },
  "language_info": {
   "codemirror_mode": {
    "name": "ipython",
    "version": 2
   },
   "file_extension": ".py",
   "mimetype": "text/x-python",
   "name": "python",
   "nbconvert_exporter": "python",
   "pygments_lexer": "ipython2",
   "version": "2.7.6"
  }
 },
 "nbformat": 4,
 "nbformat_minor": 2
}
