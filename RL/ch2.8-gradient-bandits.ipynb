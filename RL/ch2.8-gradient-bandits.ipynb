{
 "cells": [
  {
   "cell_type": "markdown",
   "metadata": {},
   "source": [
    "# Sutton 책 챕터 2.8\n",
    "\n",
    "Figure 2.1 예제 (10-armed testbed) 에 대해 gradient bandits (ch 2.8) 을 구현\n",
    "\n",
    "Question: gradient bandits 을 하면 optimal policy 가 1.0으로 수렴하는가?"
   ]
  },
  {
   "cell_type": "code",
   "execution_count": 1,
   "metadata": {},
   "outputs": [],
   "source": [
    "%matplotlib inline\n",
    "import numpy as np\n",
    "import matplotlib.pyplot as plt"
   ]
  },
  {
   "cell_type": "code",
   "execution_count": 2,
   "metadata": {},
   "outputs": [],
   "source": [
    "# 예제 그림에 나온대로 어림하여 넣음\n",
    "mean = np.array([0.2, -0.8, 1.5, 0.4, 1.2, -1.6, -0.2, -1.1, 0.8, -0.4])"
   ]
  },
  {
   "cell_type": "code",
   "execution_count": 3,
   "metadata": {},
   "outputs": [
    {
     "data": {
      "text/plain": [
       "array([ 0.2, -0.8,  1.5,  0.4,  1.2, -1.6, -0.2, -1.1,  0.8, -0.4])"
      ]
     },
     "execution_count": 3,
     "metadata": {},
     "output_type": "execute_result"
    }
   ],
   "source": [
    "mean"
   ]
  },
  {
   "cell_type": "code",
   "execution_count": 4,
   "metadata": {},
   "outputs": [
    {
     "data": {
      "text/plain": [
       "array([-1.51066622,  0.27000444,  2.15270565, -1.05204115,  1.0553461 ,\n",
       "       -1.86286236, -0.72597318,  0.73864357,  2.73526509, -1.37458381])"
      ]
     },
     "execution_count": 4,
     "metadata": {},
     "output_type": "execute_result"
    }
   ],
   "source": [
    "np.random.randn(10) + mean"
   ]
  },
  {
   "cell_type": "code",
   "execution_count": 5,
   "metadata": {},
   "outputs": [],
   "source": [
    "def get_reward():\n",
    "    return np.random.randn(10) + mean"
   ]
  },
  {
   "cell_type": "code",
   "execution_count": 6,
   "metadata": {},
   "outputs": [],
   "source": [
    "def softmax(H):\n",
    "    h = H - np.max(H)\n",
    "    exp = np.exp(h)\n",
    "    return exp / np.sum(exp)"
   ]
  },
  {
   "cell_type": "code",
   "execution_count": 7,
   "metadata": {},
   "outputs": [],
   "source": [
    "def gradient_bandit(N):\n",
    "    H = np.zeros(10) # preference\n",
    "    r_hist = []\n",
    "    alpha = 0.1 # 적당히 잡음\n",
    "    for t in range(1, N):\n",
    "        policy = softmax(H) # policy pi\n",
    "        # sampling (choice) action by policy\n",
    "        a = np.random.choice(10, p=policy) \n",
    "        rewards = get_reward()\n",
    "        r = rewards[a] # R_t (reward for chosen action)\n",
    "        r_hist.append(r)\n",
    "        avg_r = np.average(r_hist)\n",
    "        # update a == A_t (chosen action)\n",
    "        H[a] = H[a] + alpha*(r-avg_r)*(1-policy[a])\n",
    "        # update a != A_t (non-chosen action)\n",
    "        H[:a] = H[:a] - alpha*(r-avg_r)*policy[:a]\n",
    "        H[a+1:] = H[a+1:] - alpha*(r-avg_r)*policy[a+1:]\n",
    "    \n",
    "    return softmax(H), r_hist"
   ]
  },
  {
   "cell_type": "code",
   "execution_count": 8,
   "metadata": {},
   "outputs": [],
   "source": [
    "opt_policy, r_hist = gradient_bandit(10000)"
   ]
  },
  {
   "cell_type": "code",
   "execution_count": 9,
   "metadata": {},
   "outputs": [
    {
     "data": {
      "text/plain": [
       "[<matplotlib.lines.Line2D at 0x7f3e4a7bff90>]"
      ]
     },
     "execution_count": 9,
     "metadata": {},
     "output_type": "execute_result"
    },
    {
     "data": {
      "image/png": "[encoded data removed]",
      "text/plain": [
       "<matplotlib.figure.Figure at 0x7f3e4c816690>"
      ]
     },
     "metadata": {},
     "output_type": "display_data"
    }
   ],
   "source": [
    "plt.plot(opt_policy, 'o')"
   ]
  },
  {
   "cell_type": "code",
   "execution_count": 10,
   "metadata": {},
   "outputs": [
    {
     "name": "stdout",
     "output_type": "stream",
     "text": [
      "0.01%\t0.01%\t99.84%\t0.02%\t0.04%\t0.01%\t0.02%\t0.01%\t0.03%\t0.01%\t"
     ]
    }
   ],
   "source": [
    "for p in opt_policy:\n",
    "    print \"{:.2%}\\t\".format(p),"
   ]
  }
 ],
 "metadata": {
  "kernelspec": {
   "display_name": "Python 2",
   "language": "python",
   "name": "python2"
  },
  "language_info": {
   "codemirror_mode": {
    "name": "ipython",
    "version": 2
   },
   "file_extension": ".py",
   "mimetype": "text/x-python",
   "name": "python",
   "nbconvert_exporter": "python",
   "pygments_lexer": "ipython2",
   "version": "2.7.12"
  }
 },
 "nbformat": 4,
 "nbformat_minor": 2
}
