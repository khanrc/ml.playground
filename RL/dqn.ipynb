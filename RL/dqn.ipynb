{
 "cells": [
  {
   "cell_type": "markdown",
   "metadata": {},
   "source": [
    "# DQN"
   ]
  },
  {
   "cell_type": "markdown",
   "metadata": {},
   "source": [
    "## Q-learning\n",
    "\n",
    "$$\n",
    "L_{TD} = \\left( r + \\gamma \\max_{a'} Q[s', a'] \\right) - Q[s,a] \\\\\n",
    "Q[s,a] = Q[s,a] + \\alpha L_{TD}\n",
    "$$"
   ]
  },
  {
   "cell_type": "markdown",
   "metadata": {},
   "source": [
    "## DQN\n",
    "\n",
    "Q-table => Q-function with NN approximation\n",
    "\n",
    "$$\n",
    "L_{TD} = \\left( r+\\gamma \\max_{a'} Q_\\theta(s', a') \\right) - Q_\\theta(s,a) \\\\\n",
    "L_{NN} = (L_{TD})^2\n",
    "$$\n",
    "\n",
    "- Replay memory (NIPS 2013)\n",
    "- Freeze target network (Nature 2015)"
   ]
  },
  {
   "cell_type": "markdown",
   "metadata": {},
   "source": [
    "# Issue\n",
    "\n",
    "- target.detach() + L1 loss (abs) 를 사용하면 학습이 안 됨.\n",
    "\n",
    "이유가 뭘까?"
   ]
  },
  {
   "cell_type": "code",
   "execution_count": 1,
   "metadata": {
    "collapsed": true
   },
   "outputs": [],
   "source": [
    "%matplotlib inline\n",
    "import collections\n",
    "import random\n",
    "import gym\n",
    "import torch\n",
    "import torch.nn as nn\n",
    "import torch.nn.functional as F\n",
    "import numpy as np\n",
    "import matplotlib.pyplot as plt"
   ]
  },
  {
   "cell_type": "code",
   "execution_count": 2,
   "metadata": {},
   "outputs": [
    {
     "data": {
      "text/plain": [
       "'0.4.1.post2'"
      ]
     },
     "execution_count": 2,
     "metadata": {},
     "output_type": "execute_result"
    }
   ],
   "source": [
    "torch.__version__"
   ]
  },
  {
   "cell_type": "code",
   "execution_count": 3,
   "metadata": {
    "collapsed": true
   },
   "outputs": [],
   "source": [
    "env = gym.make('CartPole-v0')"
   ]
  },
  {
   "cell_type": "code",
   "execution_count": 4,
   "metadata": {},
   "outputs": [
    {
     "data": {
      "text/plain": [
       "'0.10.9'"
      ]
     },
     "execution_count": 4,
     "metadata": {},
     "output_type": "execute_result"
    }
   ],
   "source": [
    "gym.__version__"
   ]
  },
  {
   "cell_type": "code",
   "execution_count": 5,
   "metadata": {
    "collapsed": true
   },
   "outputs": [],
   "source": [
    "SEED = 4\n",
    "env.seed(SEED)\n",
    "np.random.seed(SEED)\n",
    "random.seed(SEED)\n",
    "torch.manual_seed(SEED)\n",
    "torch.cuda.manual_seed_all(SEED)"
   ]
  },
  {
   "cell_type": "code",
   "execution_count": 6,
   "metadata": {},
   "outputs": [
    {
     "data": {
      "text/plain": [
       "Box(4,)"
      ]
     },
     "execution_count": 6,
     "metadata": {},
     "output_type": "execute_result"
    }
   ],
   "source": [
    "env.observation_space"
   ]
  },
  {
   "cell_type": "code",
   "execution_count": 7,
   "metadata": {},
   "outputs": [
    {
     "data": {
      "text/plain": [
       "Discrete(2)"
      ]
     },
     "execution_count": 7,
     "metadata": {},
     "output_type": "execute_result"
    }
   ],
   "source": [
    "env.action_space"
   ]
  },
  {
   "cell_type": "code",
   "execution_count": 8,
   "metadata": {
    "collapsed": true
   },
   "outputs": [],
   "source": [
    "class DQN(nn.Module):\n",
    "    def __init__(self, n_obs, n_action, n_hidden=64):\n",
    "        \"\"\" 2-hidden layer NN\n",
    "        n_obs: # of observations\n",
    "        n_action: # of actions\n",
    "        \"\"\"\n",
    "        super().__init__()\n",
    "        self.net = nn.Sequential(\n",
    "            nn.Linear(n_obs, n_hidden),\n",
    "            nn.ReLU(inplace=True),\n",
    "            nn.Linear(n_hidden, n_hidden),\n",
    "            nn.ReLU(inplace=True),\n",
    "            nn.Linear(n_hidden, n_action)\n",
    "        )\n",
    "    \n",
    "    def forward(self, x):\n",
    "        return self.net(x)\n",
    "    \n",
    "    def act(self, x):\n",
    "        return torch.argmax(self.forward(x)).item()"
   ]
  },
  {
   "cell_type": "code",
   "execution_count": 9,
   "metadata": {
    "collapsed": true
   },
   "outputs": [],
   "source": [
    "class ReplayMemory(collections.deque):\n",
    "    def __init__(self, maxlen, device):\n",
    "        super().__init__(maxlen=maxlen)\n",
    "        self.device = device\n",
    "    \n",
    "    def sample(self, size):\n",
    "        # state, action, reward, next_state, done\n",
    "        sarsd_list = zip(*random.sample(self, size))\n",
    "        return list(map(lambda x: torch.FloatTensor(x).to(device), sarsd_list))"
   ]
  },
  {
   "cell_type": "code",
   "execution_count": 10,
   "metadata": {
    "collapsed": true
   },
   "outputs": [],
   "source": [
    "state = env.reset()"
   ]
  },
  {
   "cell_type": "code",
   "execution_count": 11,
   "metadata": {
    "scrolled": true
   },
   "outputs": [
    {
     "data": {
      "text/plain": [
       "array([ 0.02543978,  0.02580473, -0.00815877,  0.01237681])"
      ]
     },
     "execution_count": 11,
     "metadata": {},
     "output_type": "execute_result"
    }
   ],
   "source": [
    "state"
   ]
  },
  {
   "cell_type": "code",
   "execution_count": 12,
   "metadata": {
    "collapsed": true
   },
   "outputs": [],
   "source": [
    "def calc_td_error(memory, batch_size, gamma):\n",
    "    # calc td error\n",
    "    state, action, reward, next_state, done = memory.sample(batch_size)\n",
    "#     print(state.size(), action.size(), reward.size(), next_state.size(), done.size())\n",
    "    cur_Q = net(state).gather(dim=1, index=action.long().unsqueeze(1)).squeeze()\n",
    "    next_Q = net(next_state).max(dim=1)[0] \n",
    "    # stop gradient to next_Q\n",
    "    next_Q = next_Q.detach()\n",
    "    # if done, next_q should be 0.\n",
    "    next_Q = next_Q * (1-done)\n",
    "    \n",
    "    target = reward + gamma * next_Q\n",
    "    pred = cur_Q\n",
    "\n",
    "    td_error = target - pred\n",
    "    \n",
    "    return td_error"
   ]
  },
  {
   "cell_type": "code",
   "execution_count": 13,
   "metadata": {
    "scrolled": true
   },
   "outputs": [
    {
     "name": "stdout",
     "output_type": "stream",
     "text": [
      "[EP    0] Done in Timestep 16. Reward = 15.0, Current epsilon = 0.9559328248389055\n",
      "[EP    1] Done in Timestep 13. Reward = 12.0, Current epsilon = 0.9220814271464737\n",
      "[EP    2] Done in Timestep 15. Reward = 14.0, Current epsilon = 0.884100203995605\n",
      "[EP    3] Done in Timestep 16. Reward = 15.0, Current epsilon = 0.8451404054461714\n",
      "[EP    4] Done in Timestep 10. Reward = 9.0, Current epsilon = 0.8225935318117279\n",
      "[EP    5] Done in Timestep 47. Reward = 46.0, Current epsilon = 0.7164115395363275\n",
      "[EP    6] Done in Timestep 15. Reward = 14.0, Current epsilon = 0.6869020127744744\n",
      "[EP    7] Done in Timestep 18. Reward = 17.0, Current epsilon = 0.6526982980599124\n",
      "[EP    8] Done in Timestep 17. Reward = 16.0, Current epsilon = 0.6220639206484622\n",
      "[EP    9] Done in Timestep 11. Reward = 10.0, Current epsilon = 0.6036519339730777\n",
      "[EP   10] Done in Timestep 12. Reward = 11.0, Current epsilon = 0.5840275546579663\n",
      "[EP   11] Done in Timestep 15. Reward = 14.0, Current epsilon = 0.5599710231774805\n",
      "[EP   12] Done in Timestep 18. Reward = 17.0, Current epsilon = 0.5320877315740353\n",
      "[EP   13] Done in Timestep 12. Reward = 11.0, Current epsilon = 0.5147898635715258\n",
      "[EP   14] Done in Timestep 12. Reward = 11.0, Current epsilon = 0.49805433937000393\n",
      "[EP   15] Done in Timestep 21. Reward = 20.0, Current epsilon = 0.4690076154120791\n",
      "[EP   16] Done in Timestep 15. Reward = 14.0, Current epsilon = 0.449688841195414\n",
      "[EP   17] Done in Timestep 13. Reward = 12.0, Current epsilon = 0.43376450487636337\n",
      "[EP   18] Done in Timestep 11. Reward = 10.0, Current epsilon = 0.4209258463093902\n",
      "[EP   19] Done in Timestep 10. Reward = 9.0, Current epsilon = 0.40969627805652836\n",
      "[EP   20] Done in Timestep 9. Reward = 8.0, Current epsilon = 0.3999661937018806\n",
      "[EP   21] Done in Timestep 13. Reward = 12.0, Current epsilon = 0.38580263080841853\n",
      "[EP   22] Done in Timestep 12. Reward = 11.0, Current epsilon = 0.3732604078125921\n",
      "[EP   23] Done in Timestep 9. Reward = 8.0, Current epsilon = 0.3643956573894368\n",
      "[EP   24] Done in Timestep 13. Reward = 12.0, Current epsilon = 0.35149171477426\n",
      "[EP   25] Done in Timestep 12. Reward = 11.0, Current epsilon = 0.3400649200459644\n",
      "[EP   26] Done in Timestep 9. Reward = 8.0, Current epsilon = 0.33198854607010114\n",
      "[EP   27] Done in Timestep 13. Reward = 12.0, Current epsilon = 0.32023220084339005\n",
      "[EP   28] Done in Timestep 10. Reward = 9.0, Current epsilon = 0.3116889636255648\n",
      "[EP   29] Done in Timestep 10. Reward = 9.0, Current epsilon = 0.30337364509289305\n",
      "[EP   30] Done in Timestep 13. Reward = 12.0, Current epsilon = 0.29263060788086614\n",
      "[EP   31] Done in Timestep 10. Reward = 9.0, Current epsilon = 0.2848237330764636\n",
      "[EP   32] Done in Timestep 16. Reward = 15.0, Current epsilon = 0.27227235574094616\n",
      "[EP   33] Done in Timestep 25. Reward = 24.0, Current epsilon = 0.2533304230803655\n",
      "[EP   34] Done in Timestep 29. Reward = 28.0, Current epsilon = 0.23289050421940272\n",
      "[EP   35] Done in Timestep 42. Reward = 41.0, Current epsilon = 0.20589854228901325\n",
      "[EP   36] Done in Timestep 32. Reward = 31.0, Current epsilon = 0.18758719075356428\n",
      "[EP   37] Done in Timestep 28. Reward = 27.0, Current epsilon = 0.17297066456444432\n",
      "[EP   38] Done in Timestep 90. Reward = 89.0, Current epsilon = 0.1323858425389066\n",
      "[EP   39] Done in Timestep 70. Reward = 69.0, Current epsilon = 0.10759880975612816\n",
      "[EP   40] Done in Timestep 139. Reward = 138.0, Current epsilon = 0.0710786735055336\n",
      "[EP   41] Done in Timestep 53. Reward = 52.0, Current epsilon = 0.06079775549339983\n",
      "[EP   42] Done in Timestep 62. Reward = 61.0, Current epsilon = 0.05061651071705072\n",
      "[EP   43] Done in Timestep 69. Reward = 68.0, Current epsilon = 0.041263206059648984\n",
      "[EP   44] Done in Timestep 30. Reward = 29.0, Current epsilon = 0.03782009014885081\n",
      "[EP   45] Done in Timestep 55. Reward = 54.0, Current epsilon = 0.032155932514102516\n",
      "[EP   46] Done in Timestep 60. Reward = 59.0, Current epsilon = 0.02693242436762834\n",
      "[EP   47] Done in Timestep 85. Reward = 84.0, Current epsilon = 0.020925158057210635\n",
      "[EP   48] Done in Timestep 73. Reward = 72.0, Current epsilon = 0.01685466579748778\n",
      "[EP   49] Done in Timestep 39. Reward = 38.0, Current epsilon = 0.015036133098101541\n",
      "[EP   50] Done in Timestep 55. Reward = 54.0, Current epsilon = 0.01278423396857788\n",
      "[EP   51] Done in Timestep 55. Reward = 54.0, Current epsilon = 0.010869592407636776\n",
      "[EP   52] Done in Timestep 104. Reward = 103.0, Current epsilon = 0.007976540325958677\n",
      "[EP   53] Done in Timestep 53. Reward = 52.0, Current epsilon = 0.0068228024596312265\n",
      "[EP   54] Done in Timestep 53. Reward = 52.0, Current epsilon = 0.005835942839987474\n",
      "[EP   55] Done in Timestep 53. Reward = 52.0, Current epsilon = 0.004991823965755252\n",
      "[EP   56] Done in Timestep 71. Reward = 70.0, Current epsilon = 0.004045016929346659\n",
      "[EP   57] Done in Timestep 65. Reward = 64.0, Current epsilon = 0.003337417013189066\n",
      "[EP   58] Done in Timestep 89. Reward = 88.0, Current epsilon = 0.002562031157169307\n",
      "[EP   59] Done in Timestep 69. Reward = 68.0, Current epsilon = 0.0020885995117380938\n",
      "[EP   60] Done in Timestep 61. Reward = 60.0, Current epsilon = 0.001744073048244003\n",
      "[EP   61] Done in Timestep 72. Reward = 71.0, Current epsilon = 0.0014090321772958507\n",
      "[EP   62] Done in Timestep 59. Reward = 58.0, Current epsilon = 0.0011836957629231077\n",
      "[EP   63] Done in Timestep 50. Reward = 49.0, Current epsilon = 0.0010216516725283955\n",
      "[EP   64] Done in Timestep 37. Reward = 36.0, Current epsilon = 0.001\n",
      "[EP   65] Done in Timestep 56. Reward = 55.0, Current epsilon = 0.001\n",
      "[EP   66] Done in Timestep 37. Reward = 36.0, Current epsilon = 0.001\n",
      "[EP   67] Done in Timestep 62. Reward = 61.0, Current epsilon = 0.001\n",
      "[EP   68] Done in Timestep 51. Reward = 50.0, Current epsilon = 0.001\n",
      "[EP   69] Done in Timestep 66. Reward = 65.0, Current epsilon = 0.001\n",
      "[EP   70] Done in Timestep 63. Reward = 62.0, Current epsilon = 0.001\n",
      "[EP   71] Done in Timestep 144. Reward = 143.0, Current epsilon = 0.001\n",
      "[EP   72] Done in Timestep 90. Reward = 89.0, Current epsilon = 0.001\n",
      "[EP   73] Done in Timestep 67. Reward = 66.0, Current epsilon = 0.001\n",
      "[EP   74] Done in Timestep 87. Reward = 86.0, Current epsilon = 0.001\n",
      "[EP   75] Done in Timestep 161. Reward = 160.0, Current epsilon = 0.001\n",
      "[EP   76] Done in Timestep 201. Reward = 200.0, Current epsilon = 0.001\n",
      "[EP   77] Done in Timestep 194. Reward = 193.0, Current epsilon = 0.001\n",
      "[EP   78] Done in Timestep 201. Reward = 200.0, Current epsilon = 0.001\n",
      "[EP   79] Done in Timestep 127. Reward = 126.0, Current epsilon = 0.001\n",
      "[EP   80] Done in Timestep 25. Reward = 24.0, Current epsilon = 0.001\n",
      "[EP   81] Done in Timestep 28. Reward = 27.0, Current epsilon = 0.001\n",
      "[EP   82] Done in Timestep 25. Reward = 24.0, Current epsilon = 0.001\n",
      "[EP   83] Done in Timestep 20. Reward = 19.0, Current epsilon = 0.001\n",
      "[EP   84] Done in Timestep 23. Reward = 22.0, Current epsilon = 0.001\n",
      "[EP   85] Done in Timestep 21. Reward = 20.0, Current epsilon = 0.001\n",
      "[EP   86] Done in Timestep 35. Reward = 34.0, Current epsilon = 0.001\n",
      "[EP   87] Done in Timestep 56. Reward = 55.0, Current epsilon = 0.001\n",
      "[EP   88] Done in Timestep 160. Reward = 159.0, Current epsilon = 0.001\n",
      "[EP   89] Done in Timestep 104. Reward = 103.0, Current epsilon = 0.001\n",
      "[EP   90] Done in Timestep 201. Reward = 200.0, Current epsilon = 0.001\n",
      "[EP   91] Done in Timestep 70. Reward = 69.0, Current epsilon = 0.001\n",
      "[EP   92] Done in Timestep 55. Reward = 54.0, Current epsilon = 0.001\n",
      "[EP   93] Done in Timestep 47. Reward = 46.0, Current epsilon = 0.001\n",
      "[EP   94] Done in Timestep 39. Reward = 38.0, Current epsilon = 0.001\n",
      "[EP   95] Done in Timestep 116. Reward = 115.0, Current epsilon = 0.001\n",
      "[EP   96] Done in Timestep 201. Reward = 200.0, Current epsilon = 0.001\n",
      "[EP   97] Done in Timestep 201. Reward = 200.0, Current epsilon = 0.001\n",
      "[EP   98] Done in Timestep 201. Reward = 200.0, Current epsilon = 0.001\n",
      "[EP   99] Done in Timestep 201. Reward = 200.0, Current epsilon = 0.001\n"
     ]
    }
   ],
   "source": [
    "n_episode = 100\n",
    "eps = 1.0\n",
    "eps_min = 0.001\n",
    "eps_decay = 0.997\n",
    "batch_size = 32\n",
    "gamma = 0.99 # discount factor\n",
    "memory_size = 1000\n",
    "device = torch.device(\"cuda\")\n",
    "\n",
    "memory = ReplayMemory(maxlen=memory_size, device=device)\n",
    "net = DQN(env.observation_space.shape[0], env.action_space.n).to(device)\n",
    "optimizer = torch.optim.Adam(net.parameters(), lr=0.001)\n",
    "\n",
    "losses = []\n",
    "rewards = []\n",
    "\n",
    "for episode in range(n_episode):\n",
    "    state = env.reset()\n",
    "    done = False\n",
    "    t = 0\n",
    "    total_reward = 0\n",
    "    while not done:\n",
    "        t += 1\n",
    "        if np.random.rand() <= eps:\n",
    "            # random move\n",
    "            action = env.action_space.sample()\n",
    "        else:\n",
    "            action = net.act(torch.FloatTensor(state).to(device))\n",
    "        \n",
    "        next_state, reward, done, info = env.step(action)\n",
    "        total_reward += reward\n",
    "        \n",
    "        memory.append((state, action, reward, next_state, done))\n",
    "        \n",
    "        # training\n",
    "        if len(memory) >= batch_size:\n",
    "            td_error = calc_td_error(memory, batch_size, gamma)\n",
    "            # 왜 abs() 는 워킹하지 않을까?\n",
    "#             loss = td_error.abs().mean()\n",
    "            loss = torch.mean(td_error **2)\n",
    "\n",
    "            optimizer.zero_grad()\n",
    "            loss.backward()\n",
    "            optimizer.step()\n",
    "            \n",
    "            losses.append(loss.item())\n",
    "        \n",
    "        # prepare next iteration\n",
    "        state = next_state\n",
    "        eps = max(eps * eps_decay, eps_min)\n",
    "    \n",
    "    print(\"[EP {:4d}] Done in Timestep {}. Reward = {}, Current epsilon = {}\".format(episode, t+1, total_reward, eps))\n",
    "    rewards.append(total_reward)"
   ]
  },
  {
   "cell_type": "code",
   "execution_count": 14,
   "metadata": {
    "scrolled": true
   },
   "outputs": [
    {
     "data": {
      "text/plain": [
       "[<matplotlib.lines.Line2D at 0x7f41c84f0f60>]"
      ]
     },
     "execution_count": 14,
     "metadata": {},
     "output_type": "execute_result"
    },
    {
     "data": {
      "image/png": "[encoded data removed]",
      "text/plain": [
       "<Figure size 432x288 with 1 Axes>"
      ]
     },
     "metadata": {},
     "output_type": "display_data"
    }
   ],
   "source": [
    "plt.plot(losses)"
   ]
  },
  {
   "cell_type": "code",
   "execution_count": 15,
   "metadata": {},
   "outputs": [
    {
     "data": {
      "text/plain": [
       "[<matplotlib.lines.Line2D at 0x7f41c847b748>]"
      ]
     },
     "execution_count": 15,
     "metadata": {},
     "output_type": "execute_result"
    },
    {
     "data": {
      "image/png": "[encoded data removed]",
      "text/plain": [
       "<Figure size 432x288 with 1 Axes>"
      ]
     },
     "metadata": {},
     "output_type": "display_data"
    }
   ],
   "source": [
    "plt.plot(rewards)"
   ]
  }
 ],
 "metadata": {
  "kernelspec": {
   "display_name": "Python 3",
   "language": "python",
   "name": "python3"
  },
  "language_info": {
   "codemirror_mode": {
    "name": "ipython",
    "version": 3
   },
   "file_extension": ".py",
   "mimetype": "text/x-python",
   "name": "python",
   "nbconvert_exporter": "python",
   "pygments_lexer": "ipython3",
   "version": "3.6.3"
  }
 },
 "nbformat": 4,
 "nbformat_minor": 2
}
