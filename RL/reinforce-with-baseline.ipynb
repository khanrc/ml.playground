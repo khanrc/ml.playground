{
 "cells": [
  {
   "cell_type": "markdown",
   "metadata": {},
   "source": [
    "# REINFORCE"
   ]
  },
  {
   "cell_type": "markdown",
   "metadata": {},
   "source": [
    "a.k.a. Vanilla Policy Gradient\n",
    "\n",
    "Algorithm:\n",
    "\n",
    "```py\n",
    "# initialize theta (net) & b (baseline)\n",
    "init(net, b)\n",
    "for iteration in (1, 2, ...):\n",
    "    trajectory = env.play(net)\n",
    "    R = 0\n",
    "    mse = 0\n",
    "    for t, (s, a, r) in enumerate(trajectory[::-1]):\n",
    "        R += r\n",
    "        # calc policy gradients\n",
    "        A = R - b(s)\n",
    "        log_prob = log(net(s)[a]) # pi(a|s)\n",
    "        log_prob.backward() # calc gradients\n",
    "        # calc baseline loss\n",
    "        b_mse += (b(s) - R) ** 2\n",
    "        R *= gamma\n",
    "    minimize(b_mse)\n",
    "    net.step() # update accumulated gradients\n",
    "```"
   ]
  },
  {
   "cell_type": "code",
   "execution_count": 1,
   "metadata": {
    "collapsed": true
   },
   "outputs": [],
   "source": [
    "%matplotlib inline\n",
    "import collections\n",
    "import random\n",
    "import gym\n",
    "import torch\n",
    "import torch.nn as nn\n",
    "import numpy as np\n",
    "import matplotlib.pyplot as plt"
   ]
  },
  {
   "cell_type": "code",
   "execution_count": 2,
   "metadata": {
    "collapsed": true
   },
   "outputs": [],
   "source": [
    "env = gym.make('CartPole-v0')"
   ]
  },
  {
   "cell_type": "code",
   "execution_count": 3,
   "metadata": {
    "collapsed": true
   },
   "outputs": [],
   "source": [
    "SEED = 4\n",
    "env.seed(SEED)\n",
    "np.random.seed(SEED)\n",
    "random.seed(SEED)\n",
    "torch.manual_seed(SEED)\n",
    "torch.cuda.manual_seed_all(SEED)"
   ]
  },
  {
   "cell_type": "code",
   "execution_count": 4,
   "metadata": {},
   "outputs": [
    {
     "data": {
      "text/plain": [
       "Box(4,)"
      ]
     },
     "execution_count": 4,
     "metadata": {},
     "output_type": "execute_result"
    }
   ],
   "source": [
    "env.observation_space"
   ]
  },
  {
   "cell_type": "code",
   "execution_count": 5,
   "metadata": {},
   "outputs": [
    {
     "data": {
      "text/plain": [
       "Discrete(2)"
      ]
     },
     "execution_count": 5,
     "metadata": {},
     "output_type": "execute_result"
    }
   ],
   "source": [
    "env.action_space"
   ]
  },
  {
   "cell_type": "code",
   "execution_count": 6,
   "metadata": {
    "collapsed": true
   },
   "outputs": [],
   "source": [
    "class DQN(nn.Module):\n",
    "    def __init__(self, n_obs, n_action, n_hidden=64):\n",
    "        \"\"\" 2-hidden layer NN\n",
    "        n_obs: # of observations\n",
    "        n_action: # of actions\n",
    "        \"\"\"\n",
    "        super().__init__()\n",
    "        self.net = nn.Sequential(\n",
    "            nn.Linear(n_obs, n_hidden),\n",
    "            nn.ReLU(inplace=True),\n",
    "            nn.Linear(n_hidden, n_hidden),\n",
    "            nn.ReLU(inplace=True),\n",
    "            nn.Linear(n_hidden, n_action)\n",
    "        )\n",
    "    \n",
    "    def forward(self, x):\n",
    "        return self.net(x)\n",
    "    \n",
    "    def act(self, x):\n",
    "        return torch.argmax(self.forward(x)).item()"
   ]
  },
  {
   "cell_type": "code",
   "execution_count": 7,
   "metadata": {
    "collapsed": true
   },
   "outputs": [],
   "source": [
    "class ReplayMemory(collections.deque):\n",
    "    def __init__(self, maxlen, device):\n",
    "        super().__init__(maxlen=maxlen)\n",
    "        self.device = device\n",
    "    \n",
    "    def sample(self, size):\n",
    "        # state, action, reward, next_state, done\n",
    "        sarsd_list = zip(*random.sample(self, size))\n",
    "        return list(map(lambda x: torch.FloatTensor(x).to(device), sarsd_list))"
   ]
  },
  {
   "cell_type": "code",
   "execution_count": 8,
   "metadata": {
    "collapsed": true
   },
   "outputs": [],
   "source": [
    "observation = env.reset()"
   ]
  },
  {
   "cell_type": "code",
   "execution_count": 9,
   "metadata": {},
   "outputs": [
    {
     "data": {
      "text/plain": [
       "array([ 0.02543978,  0.02580473, -0.00815877,  0.01237681])"
      ]
     },
     "execution_count": 9,
     "metadata": {},
     "output_type": "execute_result"
    }
   ],
   "source": [
    "observation"
   ]
  },
  {
   "cell_type": "code",
   "execution_count": 10,
   "metadata": {
    "collapsed": true
   },
   "outputs": [],
   "source": [
    "def calc_td_error(memory, batch_size, gamma):\n",
    "    # calc td error\n",
    "    state, action, reward, next_state, done = memory.sample(batch_size)\n",
    "    cur_Q = net(state).gather(dim=1, index=action.long().unsqueeze(1)).squeeze()\n",
    "    next_Q = net(next_state).max(dim=1)[0] # if done, next_q should be 0.\n",
    "    # stop gradient to next_Q\n",
    "    next_Q = next_Q.detach() * (1-done)\n",
    "    td_error = (reward + gamma * next_Q) - cur_Q\n",
    "    \n",
    "    return td_error"
   ]
  },
  {
   "cell_type": "code",
   "execution_count": 19,
   "metadata": {
    "scrolled": true
   },
   "outputs": [
    {
     "name": "stdout",
     "output_type": "stream",
     "text": [
      "[EP    0] Done in Timestep 14. Reward = 13.0, Current epsilon = 0.9616943356035061\n",
      "[EP    1] Done in Timestep 15. Reward = 14.0, Current epsilon = 0.9220814271464737\n",
      "[EP    2] Done in Timestep 36. Reward = 35.0, Current epsilon = 0.8300415167526705\n",
      "[EP    3] Done in Timestep 24. Reward = 23.0, Current epsilon = 0.7746195551602378\n",
      "[EP    4] Done in Timestep 17. Reward = 16.0, Current epsilon = 0.7382628067611632\n",
      "[EP    5] Done in Timestep 32. Reward = 31.0, Current epsilon = 0.6726062478080883\n",
      "[EP    6] Done in Timestep 16. Reward = 15.0, Current epsilon = 0.6429663904714829\n",
      "[EP    7] Done in Timestep 18. Reward = 17.0, Current epsilon = 0.6109504135464614\n",
      "[EP    8] Done in Timestep 11. Reward = 10.0, Current epsilon = 0.5928673669331617\n",
      "[EP    9] Done in Timestep 17. Reward = 16.0, Current epsilon = 0.5650411526967395\n",
      "[EP   10] Done in Timestep 21. Reward = 20.0, Current epsilon = 0.5320877315740353\n",
      "[EP   11] Done in Timestep 18. Reward = 17.0, Current epsilon = 0.5055928652970137\n",
      "[EP   12] Done in Timestep 11. Reward = 10.0, Current epsilon = 0.49062821489691655\n",
      "[EP   13] Done in Timestep 16. Reward = 15.0, Current epsilon = 0.4690076154120791\n",
      "[EP   14] Done in Timestep 15. Reward = 14.0, Current epsilon = 0.449688841195414\n",
      "[EP   15] Done in Timestep 14. Reward = 13.0, Current epsilon = 0.43246321136173427\n",
      "[EP   16] Done in Timestep 15. Reward = 14.0, Current epsilon = 0.4146497284613113\n",
      "[EP   17] Done in Timestep 16. Reward = 15.0, Current epsilon = 0.3963772862467064\n",
      "[EP   18] Done in Timestep 29. Reward = 28.0, Current epsilon = 0.3643956573894368\n",
      "[EP   19] Done in Timestep 10. Reward = 9.0, Current epsilon = 0.35467421609145244\n",
      "[EP   20] Done in Timestep 40. Reward = 39.0, Current epsilon = 0.3154574523957371\n",
      "[EP   21] Done in Timestep 39. Reward = 38.0, Current epsilon = 0.28142119802323967\n",
      "[EP   22] Done in Timestep 60. Reward = 59.0, Current epsilon = 0.23570627683971565\n",
      "[EP   23] Done in Timestep 40. Reward = 39.0, Current epsilon = 0.2096439443073827\n",
      "[EP   24] Done in Timestep 40. Reward = 39.0, Current epsilon = 0.18646335589375967\n",
      "[EP   25] Done in Timestep 38. Reward = 37.0, Current epsilon = 0.16684544467121387\n",
      "[EP   26] Done in Timestep 38. Reward = 37.0, Current epsilon = 0.14929154457241375\n",
      "[EP   27] Done in Timestep 25. Reward = 24.0, Current epsilon = 0.1389053620443009\n",
      "[EP   28] Done in Timestep 32. Reward = 31.0, Current epsilon = 0.12655197242689553\n",
      "[EP   29] Done in Timestep 33. Reward = 32.0, Current epsilon = 0.11495132574414137\n",
      "[EP   30] Done in Timestep 25. Reward = 24.0, Current epsilon = 0.1069541852868792\n",
      "[EP   31] Done in Timestep 44. Reward = 43.0, Current epsilon = 0.09399171875208501\n",
      "[EP   32] Done in Timestep 39. Reward = 38.0, Current epsilon = 0.08385049043727275\n",
      "[EP   33] Done in Timestep 65. Reward = 64.0, Current epsilon = 0.06918241832792547\n",
      "[EP   34] Done in Timestep 58. Reward = 57.0, Current epsilon = 0.05829345050418334\n",
      "[EP   35] Done in Timestep 49. Reward = 48.0, Current epsilon = 0.05046466118489957\n",
      "[EP   36] Done in Timestep 118. Reward = 117.0, Current epsilon = 0.03550756446950318\n",
      "[EP   37] Done in Timestep 193. Reward = 192.0, Current epsilon = 0.019943036315474453\n",
      "[EP   38] Done in Timestep 201. Reward = 200.0, Current epsilon = 0.01093510461941167\n",
      "[EP   39] Done in Timestep 201. Reward = 200.0, Current epsilon = 0.005995903088472808\n",
      "[EP   40] Done in Timestep 16. Reward = 15.0, Current epsilon = 0.0057316805768241295\n",
      "[EP   41] Done in Timestep 13. Reward = 12.0, Current epsilon = 0.005528710876850954\n",
      "[EP   42] Done in Timestep 13. Reward = 12.0, Current epsilon = 0.005332928719615903\n",
      "[EP   43] Done in Timestep 17. Reward = 16.0, Current epsilon = 0.005082627850760136\n",
      "[EP   44] Done in Timestep 198. Reward = 197.0, Current epsilon = 0.0028121242097665492\n",
      "[EP   45] Done in Timestep 168. Reward = 167.0, Current epsilon = 0.001702652174321052\n",
      "[EP   46] Done in Timestep 153. Reward = 152.0, Current epsilon = 0.0010784251331025152\n",
      "[EP   47] Done in Timestep 137. Reward = 136.0, Current epsilon = 0.001\n",
      "[EP   48] Done in Timestep 11. Reward = 10.0, Current epsilon = 0.001\n",
      "[EP   49] Done in Timestep 12. Reward = 11.0, Current epsilon = 0.001\n",
      "[EP   50] Done in Timestep 13. Reward = 12.0, Current epsilon = 0.001\n",
      "[EP   51] Done in Timestep 15. Reward = 14.0, Current epsilon = 0.001\n",
      "[EP   52] Done in Timestep 14. Reward = 13.0, Current epsilon = 0.001\n",
      "[EP   53] Done in Timestep 189. Reward = 188.0, Current epsilon = 0.001\n",
      "[EP   54] Done in Timestep 201. Reward = 200.0, Current epsilon = 0.001\n",
      "[EP   55] Done in Timestep 172. Reward = 171.0, Current epsilon = 0.001\n",
      "[EP   56] Done in Timestep 201. Reward = 200.0, Current epsilon = 0.001\n",
      "[EP   57] Done in Timestep 201. Reward = 200.0, Current epsilon = 0.001\n",
      "[EP   58] Done in Timestep 201. Reward = 200.0, Current epsilon = 0.001\n",
      "[EP   59] Done in Timestep 201. Reward = 200.0, Current epsilon = 0.001\n",
      "[EP   60] Done in Timestep 201. Reward = 200.0, Current epsilon = 0.001\n",
      "[EP   61] Done in Timestep 201. Reward = 200.0, Current epsilon = 0.001\n",
      "[EP   62] Done in Timestep 201. Reward = 200.0, Current epsilon = 0.001\n",
      "[EP   63] Done in Timestep 201. Reward = 200.0, Current epsilon = 0.001\n",
      "[EP   64] Done in Timestep 201. Reward = 200.0, Current epsilon = 0.001\n",
      "[EP   65] Done in Timestep 201. Reward = 200.0, Current epsilon = 0.001\n",
      "[EP   66] Done in Timestep 201. Reward = 200.0, Current epsilon = 0.001\n",
      "[EP   67] Done in Timestep 201. Reward = 200.0, Current epsilon = 0.001\n",
      "[EP   68] Done in Timestep 201. Reward = 200.0, Current epsilon = 0.001\n",
      "[EP   69] Done in Timestep 201. Reward = 200.0, Current epsilon = 0.001\n",
      "[EP   70] Done in Timestep 201. Reward = 200.0, Current epsilon = 0.001\n",
      "[EP   71] Done in Timestep 201. Reward = 200.0, Current epsilon = 0.001\n",
      "[EP   72] Done in Timestep 201. Reward = 200.0, Current epsilon = 0.001\n",
      "[EP   73] Done in Timestep 201. Reward = 200.0, Current epsilon = 0.001\n",
      "[EP   74] Done in Timestep 201. Reward = 200.0, Current epsilon = 0.001\n",
      "[EP   75] Done in Timestep 201. Reward = 200.0, Current epsilon = 0.001\n",
      "[EP   76] Done in Timestep 201. Reward = 200.0, Current epsilon = 0.001\n",
      "[EP   77] Done in Timestep 201. Reward = 200.0, Current epsilon = 0.001\n",
      "[EP   78] Done in Timestep 201. Reward = 200.0, Current epsilon = 0.001\n",
      "[EP   79] Done in Timestep 201. Reward = 200.0, Current epsilon = 0.001\n",
      "[EP   80] Done in Timestep 201. Reward = 200.0, Current epsilon = 0.001\n",
      "[EP   81] Done in Timestep 201. Reward = 200.0, Current epsilon = 0.001\n",
      "[EP   82] Done in Timestep 201. Reward = 200.0, Current epsilon = 0.001\n",
      "[EP   83] Done in Timestep 201. Reward = 200.0, Current epsilon = 0.001\n",
      "[EP   84] Done in Timestep 201. Reward = 200.0, Current epsilon = 0.001\n",
      "[EP   85] Done in Timestep 201. Reward = 200.0, Current epsilon = 0.001\n",
      "[EP   86] Done in Timestep 201. Reward = 200.0, Current epsilon = 0.001\n",
      "[EP   87] Done in Timestep 201. Reward = 200.0, Current epsilon = 0.001\n",
      "[EP   88] Done in Timestep 201. Reward = 200.0, Current epsilon = 0.001\n",
      "[EP   89] Done in Timestep 201. Reward = 200.0, Current epsilon = 0.001\n",
      "[EP   90] Done in Timestep 201. Reward = 200.0, Current epsilon = 0.001\n",
      "[EP   91] Done in Timestep 201. Reward = 200.0, Current epsilon = 0.001\n",
      "[EP   92] Done in Timestep 201. Reward = 200.0, Current epsilon = 0.001\n",
      "[EP   93] Done in Timestep 201. Reward = 200.0, Current epsilon = 0.001\n",
      "[EP   94] Done in Timestep 201. Reward = 200.0, Current epsilon = 0.001\n",
      "[EP   95] Done in Timestep 201. Reward = 200.0, Current epsilon = 0.001\n",
      "[EP   96] Done in Timestep 201. Reward = 200.0, Current epsilon = 0.001\n",
      "[EP   97] Done in Timestep 201. Reward = 200.0, Current epsilon = 0.001\n",
      "[EP   98] Done in Timestep 201. Reward = 200.0, Current epsilon = 0.001\n",
      "[EP   99] Done in Timestep 201. Reward = 200.0, Current epsilon = 0.001\n",
      "[EP  100] Done in Timestep 201. Reward = 200.0, Current epsilon = 0.001\n",
      "[EP  101] Done in Timestep 201. Reward = 200.0, Current epsilon = 0.001\n",
      "[EP  102] Done in Timestep 201. Reward = 200.0, Current epsilon = 0.001\n",
      "[EP  103] Done in Timestep 201. Reward = 200.0, Current epsilon = 0.001\n",
      "[EP  104] Done in Timestep 201. Reward = 200.0, Current epsilon = 0.001\n",
      "[EP  105] Done in Timestep 201. Reward = 200.0, Current epsilon = 0.001\n",
      "[EP  106] Done in Timestep 201. Reward = 200.0, Current epsilon = 0.001\n"
     ]
    },
    {
     "name": "stdout",
     "output_type": "stream",
     "text": [
      "[EP  107] Done in Timestep 201. Reward = 200.0, Current epsilon = 0.001\n",
      "[EP  108] Done in Timestep 201. Reward = 200.0, Current epsilon = 0.001\n",
      "[EP  109] Done in Timestep 201. Reward = 200.0, Current epsilon = 0.001\n",
      "[EP  110] Done in Timestep 201. Reward = 200.0, Current epsilon = 0.001\n",
      "[EP  111] Done in Timestep 201. Reward = 200.0, Current epsilon = 0.001\n",
      "[EP  112] Done in Timestep 201. Reward = 200.0, Current epsilon = 0.001\n",
      "[EP  113] Done in Timestep 201. Reward = 200.0, Current epsilon = 0.001\n",
      "[EP  114] Done in Timestep 201. Reward = 200.0, Current epsilon = 0.001\n",
      "[EP  115] Done in Timestep 79. Reward = 78.0, Current epsilon = 0.001\n",
      "[EP  116] Done in Timestep 96. Reward = 95.0, Current epsilon = 0.001\n",
      "[EP  117] Done in Timestep 10. Reward = 9.0, Current epsilon = 0.001\n",
      "[EP  118] Done in Timestep 10. Reward = 9.0, Current epsilon = 0.001\n",
      "[EP  119] Done in Timestep 11. Reward = 10.0, Current epsilon = 0.001\n",
      "[EP  120] Done in Timestep 24. Reward = 23.0, Current epsilon = 0.001\n",
      "[EP  121] Done in Timestep 9. Reward = 8.0, Current epsilon = 0.001\n",
      "[EP  122] Done in Timestep 11. Reward = 10.0, Current epsilon = 0.001\n",
      "[EP  123] Done in Timestep 12. Reward = 11.0, Current epsilon = 0.001\n",
      "[EP  124] Done in Timestep 13. Reward = 12.0, Current epsilon = 0.001\n",
      "[EP  125] Done in Timestep 33. Reward = 32.0, Current epsilon = 0.001\n",
      "[EP  126] Done in Timestep 201. Reward = 200.0, Current epsilon = 0.001\n",
      "[EP  127] Done in Timestep 201. Reward = 200.0, Current epsilon = 0.001\n",
      "[EP  128] Done in Timestep 167. Reward = 166.0, Current epsilon = 0.001\n",
      "[EP  129] Done in Timestep 201. Reward = 200.0, Current epsilon = 0.001\n",
      "[EP  130] Done in Timestep 201. Reward = 200.0, Current epsilon = 0.001\n",
      "[EP  131] Done in Timestep 111. Reward = 110.0, Current epsilon = 0.001\n",
      "[EP  132] Done in Timestep 201. Reward = 200.0, Current epsilon = 0.001\n",
      "[EP  133] Done in Timestep 201. Reward = 200.0, Current epsilon = 0.001\n",
      "[EP  134] Done in Timestep 201. Reward = 200.0, Current epsilon = 0.001\n",
      "[EP  135] Done in Timestep 143. Reward = 142.0, Current epsilon = 0.001\n",
      "[EP  136] Done in Timestep 86. Reward = 85.0, Current epsilon = 0.001\n",
      "[EP  137] Done in Timestep 201. Reward = 200.0, Current epsilon = 0.001\n",
      "[EP  138] Done in Timestep 91. Reward = 90.0, Current epsilon = 0.001\n",
      "[EP  139] Done in Timestep 102. Reward = 101.0, Current epsilon = 0.001\n",
      "[EP  140] Done in Timestep 117. Reward = 116.0, Current epsilon = 0.001\n",
      "[EP  141] Done in Timestep 155. Reward = 154.0, Current epsilon = 0.001\n",
      "[EP  142] Done in Timestep 201. Reward = 200.0, Current epsilon = 0.001\n",
      "[EP  143] Done in Timestep 127. Reward = 126.0, Current epsilon = 0.001\n",
      "[EP  144] Done in Timestep 119. Reward = 118.0, Current epsilon = 0.001\n",
      "[EP  145] Done in Timestep 117. Reward = 116.0, Current epsilon = 0.001\n",
      "[EP  146] Done in Timestep 156. Reward = 155.0, Current epsilon = 0.001\n",
      "[EP  147] Done in Timestep 146. Reward = 145.0, Current epsilon = 0.001\n",
      "[EP  148] Done in Timestep 126. Reward = 125.0, Current epsilon = 0.001\n",
      "[EP  149] Done in Timestep 76. Reward = 75.0, Current epsilon = 0.001\n",
      "[EP  150] Done in Timestep 107. Reward = 106.0, Current epsilon = 0.001\n",
      "[EP  151] Done in Timestep 138. Reward = 137.0, Current epsilon = 0.001\n",
      "[EP  152] Done in Timestep 85. Reward = 84.0, Current epsilon = 0.001\n",
      "[EP  153] Done in Timestep 96. Reward = 95.0, Current epsilon = 0.001\n",
      "[EP  154] Done in Timestep 79. Reward = 78.0, Current epsilon = 0.001\n",
      "[EP  155] Done in Timestep 137. Reward = 136.0, Current epsilon = 0.001\n",
      "[EP  156] Done in Timestep 67. Reward = 66.0, Current epsilon = 0.001\n",
      "[EP  157] Done in Timestep 194. Reward = 193.0, Current epsilon = 0.001\n",
      "[EP  158] Done in Timestep 201. Reward = 200.0, Current epsilon = 0.001\n",
      "[EP  159] Done in Timestep 74. Reward = 73.0, Current epsilon = 0.001\n",
      "[EP  160] Done in Timestep 107. Reward = 106.0, Current epsilon = 0.001\n",
      "[EP  161] Done in Timestep 77. Reward = 76.0, Current epsilon = 0.001\n",
      "[EP  162] Done in Timestep 112. Reward = 111.0, Current epsilon = 0.001\n",
      "[EP  163] Done in Timestep 198. Reward = 197.0, Current epsilon = 0.001\n",
      "[EP  164] Done in Timestep 124. Reward = 123.0, Current epsilon = 0.001\n",
      "[EP  165] Done in Timestep 201. Reward = 200.0, Current epsilon = 0.001\n",
      "[EP  166] Done in Timestep 95. Reward = 94.0, Current epsilon = 0.001\n",
      "[EP  167] Done in Timestep 183. Reward = 182.0, Current epsilon = 0.001\n",
      "[EP  168] Done in Timestep 147. Reward = 146.0, Current epsilon = 0.001\n",
      "[EP  169] Done in Timestep 193. Reward = 192.0, Current epsilon = 0.001\n",
      "[EP  170] Done in Timestep 54. Reward = 53.0, Current epsilon = 0.001\n",
      "[EP  171] Done in Timestep 88. Reward = 87.0, Current epsilon = 0.001\n",
      "[EP  172] Done in Timestep 44. Reward = 43.0, Current epsilon = 0.001\n",
      "[EP  173] Done in Timestep 95. Reward = 94.0, Current epsilon = 0.001\n",
      "[EP  174] Done in Timestep 42. Reward = 41.0, Current epsilon = 0.001\n",
      "[EP  175] Done in Timestep 36. Reward = 35.0, Current epsilon = 0.001\n",
      "[EP  176] Done in Timestep 81. Reward = 80.0, Current epsilon = 0.001\n",
      "[EP  177] Done in Timestep 82. Reward = 81.0, Current epsilon = 0.001\n",
      "[EP  178] Done in Timestep 143. Reward = 142.0, Current epsilon = 0.001\n",
      "[EP  179] Done in Timestep 180. Reward = 179.0, Current epsilon = 0.001\n",
      "[EP  180] Done in Timestep 38. Reward = 37.0, Current epsilon = 0.001\n",
      "[EP  181] Done in Timestep 46. Reward = 45.0, Current epsilon = 0.001\n",
      "[EP  182] Done in Timestep 54. Reward = 53.0, Current epsilon = 0.001\n",
      "[EP  183] Done in Timestep 38. Reward = 37.0, Current epsilon = 0.001\n",
      "[EP  184] Done in Timestep 48. Reward = 47.0, Current epsilon = 0.001\n",
      "[EP  185] Done in Timestep 50. Reward = 49.0, Current epsilon = 0.001\n",
      "[EP  186] Done in Timestep 52. Reward = 51.0, Current epsilon = 0.001\n",
      "[EP  187] Done in Timestep 64. Reward = 63.0, Current epsilon = 0.001\n",
      "[EP  188] Done in Timestep 43. Reward = 42.0, Current epsilon = 0.001\n",
      "[EP  189] Done in Timestep 70. Reward = 69.0, Current epsilon = 0.001\n",
      "[EP  190] Done in Timestep 65. Reward = 64.0, Current epsilon = 0.001\n",
      "[EP  191] Done in Timestep 59. Reward = 58.0, Current epsilon = 0.001\n",
      "[EP  192] Done in Timestep 46. Reward = 45.0, Current epsilon = 0.001\n",
      "[EP  193] Done in Timestep 80. Reward = 79.0, Current epsilon = 0.001\n",
      "[EP  194] Done in Timestep 25. Reward = 24.0, Current epsilon = 0.001\n",
      "[EP  195] Done in Timestep 35. Reward = 34.0, Current epsilon = 0.001\n",
      "[EP  196] Done in Timestep 201. Reward = 200.0, Current epsilon = 0.001\n",
      "[EP  197] Done in Timestep 29. Reward = 28.0, Current epsilon = 0.001\n",
      "[EP  198] Done in Timestep 190. Reward = 189.0, Current epsilon = 0.001\n",
      "[EP  199] Done in Timestep 45. Reward = 44.0, Current epsilon = 0.001\n",
      "[EP  200] Done in Timestep 63. Reward = 62.0, Current epsilon = 0.001\n",
      "[EP  201] Done in Timestep 27. Reward = 26.0, Current epsilon = 0.001\n",
      "[EP  202] Done in Timestep 37. Reward = 36.0, Current epsilon = 0.001\n",
      "[EP  203] Done in Timestep 21. Reward = 20.0, Current epsilon = 0.001\n",
      "[EP  204] Done in Timestep 62. Reward = 61.0, Current epsilon = 0.001\n",
      "[EP  205] Done in Timestep 154. Reward = 153.0, Current epsilon = 0.001\n",
      "[EP  206] Done in Timestep 122. Reward = 121.0, Current epsilon = 0.001\n",
      "[EP  207] Done in Timestep 106. Reward = 105.0, Current epsilon = 0.001\n",
      "[EP  208] Done in Timestep 201. Reward = 200.0, Current epsilon = 0.001\n",
      "[EP  209] Done in Timestep 201. Reward = 200.0, Current epsilon = 0.001\n",
      "[EP  210] Done in Timestep 177. Reward = 176.0, Current epsilon = 0.001\n",
      "[EP  211] Done in Timestep 201. Reward = 200.0, Current epsilon = 0.001\n",
      "[EP  212] Done in Timestep 116. Reward = 115.0, Current epsilon = 0.001\n",
      "[EP  213] Done in Timestep 174. Reward = 173.0, Current epsilon = 0.001\n",
      "[EP  214] Done in Timestep 201. Reward = 200.0, Current epsilon = 0.001\n",
      "[EP  215] Done in Timestep 201. Reward = 200.0, Current epsilon = 0.001\n",
      "[EP  216] Done in Timestep 201. Reward = 200.0, Current epsilon = 0.001\n",
      "[EP  217] Done in Timestep 187. Reward = 186.0, Current epsilon = 0.001\n",
      "[EP  218] Done in Timestep 171. Reward = 170.0, Current epsilon = 0.001\n",
      "[EP  219] Done in Timestep 201. Reward = 200.0, Current epsilon = 0.001\n",
      "[EP  220] Done in Timestep 201. Reward = 200.0, Current epsilon = 0.001\n",
      "[EP  221] Done in Timestep 201. Reward = 200.0, Current epsilon = 0.001\n",
      "[EP  222] Done in Timestep 201. Reward = 200.0, Current epsilon = 0.001\n",
      "[EP  223] Done in Timestep 55. Reward = 54.0, Current epsilon = 0.001\n"
     ]
    },
    {
     "name": "stdout",
     "output_type": "stream",
     "text": [
      "[EP  224] Done in Timestep 57. Reward = 56.0, Current epsilon = 0.001\n",
      "[EP  225] Done in Timestep 201. Reward = 200.0, Current epsilon = 0.001\n",
      "[EP  226] Done in Timestep 201. Reward = 200.0, Current epsilon = 0.001\n",
      "[EP  227] Done in Timestep 201. Reward = 200.0, Current epsilon = 0.001\n",
      "[EP  228] Done in Timestep 201. Reward = 200.0, Current epsilon = 0.001\n",
      "[EP  229] Done in Timestep 201. Reward = 200.0, Current epsilon = 0.001\n",
      "[EP  230] Done in Timestep 201. Reward = 200.0, Current epsilon = 0.001\n",
      "[EP  231] Done in Timestep 201. Reward = 200.0, Current epsilon = 0.001\n",
      "[EP  232] Done in Timestep 201. Reward = 200.0, Current epsilon = 0.001\n",
      "[EP  233] Done in Timestep 201. Reward = 200.0, Current epsilon = 0.001\n",
      "[EP  234] Done in Timestep 201. Reward = 200.0, Current epsilon = 0.001\n",
      "[EP  235] Done in Timestep 201. Reward = 200.0, Current epsilon = 0.001\n",
      "[EP  236] Done in Timestep 201. Reward = 200.0, Current epsilon = 0.001\n",
      "[EP  237] Done in Timestep 201. Reward = 200.0, Current epsilon = 0.001\n",
      "[EP  238] Done in Timestep 201. Reward = 200.0, Current epsilon = 0.001\n",
      "[EP  239] Done in Timestep 201. Reward = 200.0, Current epsilon = 0.001\n",
      "[EP  240] Done in Timestep 201. Reward = 200.0, Current epsilon = 0.001\n",
      "[EP  241] Done in Timestep 201. Reward = 200.0, Current epsilon = 0.001\n",
      "[EP  242] Done in Timestep 201. Reward = 200.0, Current epsilon = 0.001\n",
      "[EP  243] Done in Timestep 201. Reward = 200.0, Current epsilon = 0.001\n",
      "[EP  244] Done in Timestep 201. Reward = 200.0, Current epsilon = 0.001\n",
      "[EP  245] Done in Timestep 197. Reward = 196.0, Current epsilon = 0.001\n",
      "[EP  246] Done in Timestep 119. Reward = 118.0, Current epsilon = 0.001\n",
      "[EP  247] Done in Timestep 201. Reward = 200.0, Current epsilon = 0.001\n",
      "[EP  248] Done in Timestep 201. Reward = 200.0, Current epsilon = 0.001\n",
      "[EP  249] Done in Timestep 201. Reward = 200.0, Current epsilon = 0.001\n",
      "[EP  250] Done in Timestep 201. Reward = 200.0, Current epsilon = 0.001\n",
      "[EP  251] Done in Timestep 201. Reward = 200.0, Current epsilon = 0.001\n",
      "[EP  252] Done in Timestep 201. Reward = 200.0, Current epsilon = 0.001\n",
      "[EP  253] Done in Timestep 201. Reward = 200.0, Current epsilon = 0.001\n",
      "[EP  254] Done in Timestep 201. Reward = 200.0, Current epsilon = 0.001\n",
      "[EP  255] Done in Timestep 201. Reward = 200.0, Current epsilon = 0.001\n",
      "[EP  256] Done in Timestep 201. Reward = 200.0, Current epsilon = 0.001\n",
      "[EP  257] Done in Timestep 201. Reward = 200.0, Current epsilon = 0.001\n",
      "[EP  258] Done in Timestep 201. Reward = 200.0, Current epsilon = 0.001\n",
      "[EP  259] Done in Timestep 201. Reward = 200.0, Current epsilon = 0.001\n",
      "[EP  260] Done in Timestep 201. Reward = 200.0, Current epsilon = 0.001\n",
      "[EP  261] Done in Timestep 201. Reward = 200.0, Current epsilon = 0.001\n",
      "[EP  262] Done in Timestep 201. Reward = 200.0, Current epsilon = 0.001\n",
      "[EP  263] Done in Timestep 201. Reward = 200.0, Current epsilon = 0.001\n",
      "[EP  264] Done in Timestep 201. Reward = 200.0, Current epsilon = 0.001\n",
      "[EP  265] Done in Timestep 201. Reward = 200.0, Current epsilon = 0.001\n",
      "[EP  266] Done in Timestep 92. Reward = 91.0, Current epsilon = 0.001\n",
      "[EP  267] Done in Timestep 10. Reward = 9.0, Current epsilon = 0.001\n",
      "[EP  268] Done in Timestep 11. Reward = 10.0, Current epsilon = 0.001\n",
      "[EP  269] Done in Timestep 12. Reward = 11.0, Current epsilon = 0.001\n",
      "[EP  270] Done in Timestep 27. Reward = 26.0, Current epsilon = 0.001\n",
      "[EP  271] Done in Timestep 9. Reward = 8.0, Current epsilon = 0.001\n",
      "[EP  272] Done in Timestep 10. Reward = 9.0, Current epsilon = 0.001\n",
      "[EP  273] Done in Timestep 9. Reward = 8.0, Current epsilon = 0.001\n",
      "[EP  274] Done in Timestep 11. Reward = 10.0, Current epsilon = 0.001\n",
      "[EP  275] Done in Timestep 16. Reward = 15.0, Current epsilon = 0.001\n",
      "[EP  276] Done in Timestep 201. Reward = 200.0, Current epsilon = 0.001\n",
      "[EP  277] Done in Timestep 201. Reward = 200.0, Current epsilon = 0.001\n",
      "[EP  278] Done in Timestep 201. Reward = 200.0, Current epsilon = 0.001\n",
      "[EP  279] Done in Timestep 201. Reward = 200.0, Current epsilon = 0.001\n",
      "[EP  280] Done in Timestep 201. Reward = 200.0, Current epsilon = 0.001\n",
      "[EP  281] Done in Timestep 201. Reward = 200.0, Current epsilon = 0.001\n",
      "[EP  282] Done in Timestep 201. Reward = 200.0, Current epsilon = 0.001\n",
      "[EP  283] Done in Timestep 201. Reward = 200.0, Current epsilon = 0.001\n",
      "[EP  284] Done in Timestep 201. Reward = 200.0, Current epsilon = 0.001\n",
      "[EP  285] Done in Timestep 201. Reward = 200.0, Current epsilon = 0.001\n",
      "[EP  286] Done in Timestep 201. Reward = 200.0, Current epsilon = 0.001\n",
      "[EP  287] Done in Timestep 201. Reward = 200.0, Current epsilon = 0.001\n",
      "[EP  288] Done in Timestep 201. Reward = 200.0, Current epsilon = 0.001\n",
      "[EP  289] Done in Timestep 201. Reward = 200.0, Current epsilon = 0.001\n",
      "[EP  290] Done in Timestep 201. Reward = 200.0, Current epsilon = 0.001\n",
      "[EP  291] Done in Timestep 201. Reward = 200.0, Current epsilon = 0.001\n",
      "[EP  292] Done in Timestep 201. Reward = 200.0, Current epsilon = 0.001\n",
      "[EP  293] Done in Timestep 201. Reward = 200.0, Current epsilon = 0.001\n",
      "[EP  294] Done in Timestep 201. Reward = 200.0, Current epsilon = 0.001\n",
      "[EP  295] Done in Timestep 201. Reward = 200.0, Current epsilon = 0.001\n",
      "[EP  296] Done in Timestep 201. Reward = 200.0, Current epsilon = 0.001\n",
      "[EP  297] Done in Timestep 201. Reward = 200.0, Current epsilon = 0.001\n",
      "[EP  298] Done in Timestep 201. Reward = 200.0, Current epsilon = 0.001\n",
      "[EP  299] Done in Timestep 201. Reward = 200.0, Current epsilon = 0.001\n",
      "[EP  300] Done in Timestep 201. Reward = 200.0, Current epsilon = 0.001\n",
      "[EP  301] Done in Timestep 201. Reward = 200.0, Current epsilon = 0.001\n",
      "[EP  302] Done in Timestep 201. Reward = 200.0, Current epsilon = 0.001\n",
      "[EP  303] Done in Timestep 201. Reward = 200.0, Current epsilon = 0.001\n",
      "[EP  304] Done in Timestep 201. Reward = 200.0, Current epsilon = 0.001\n",
      "[EP  305] Done in Timestep 201. Reward = 200.0, Current epsilon = 0.001\n",
      "[EP  306] Done in Timestep 201. Reward = 200.0, Current epsilon = 0.001\n",
      "[EP  307] Done in Timestep 201. Reward = 200.0, Current epsilon = 0.001\n",
      "[EP  308] Done in Timestep 201. Reward = 200.0, Current epsilon = 0.001\n",
      "[EP  309] Done in Timestep 201. Reward = 200.0, Current epsilon = 0.001\n",
      "[EP  310] Done in Timestep 201. Reward = 200.0, Current epsilon = 0.001\n",
      "[EP  311] Done in Timestep 201. Reward = 200.0, Current epsilon = 0.001\n",
      "[EP  312] Done in Timestep 201. Reward = 200.0, Current epsilon = 0.001\n",
      "[EP  313] Done in Timestep 201. Reward = 200.0, Current epsilon = 0.001\n",
      "[EP  314] Done in Timestep 201. Reward = 200.0, Current epsilon = 0.001\n",
      "[EP  315] Done in Timestep 201. Reward = 200.0, Current epsilon = 0.001\n",
      "[EP  316] Done in Timestep 201. Reward = 200.0, Current epsilon = 0.001\n",
      "[EP  317] Done in Timestep 201. Reward = 200.0, Current epsilon = 0.001\n",
      "[EP  318] Done in Timestep 201. Reward = 200.0, Current epsilon = 0.001\n",
      "[EP  319] Done in Timestep 201. Reward = 200.0, Current epsilon = 0.001\n",
      "[EP  320] Done in Timestep 201. Reward = 200.0, Current epsilon = 0.001\n",
      "[EP  321] Done in Timestep 201. Reward = 200.0, Current epsilon = 0.001\n",
      "[EP  322] Done in Timestep 201. Reward = 200.0, Current epsilon = 0.001\n",
      "[EP  323] Done in Timestep 201. Reward = 200.0, Current epsilon = 0.001\n",
      "[EP  324] Done in Timestep 201. Reward = 200.0, Current epsilon = 0.001\n",
      "[EP  325] Done in Timestep 201. Reward = 200.0, Current epsilon = 0.001\n",
      "[EP  326] Done in Timestep 201. Reward = 200.0, Current epsilon = 0.001\n",
      "[EP  327] Done in Timestep 201. Reward = 200.0, Current epsilon = 0.001\n",
      "[EP  328] Done in Timestep 201. Reward = 200.0, Current epsilon = 0.001\n",
      "[EP  329] Done in Timestep 154. Reward = 153.0, Current epsilon = 0.001\n",
      "[EP  330] Done in Timestep 166. Reward = 165.0, Current epsilon = 0.001\n",
      "[EP  331] Done in Timestep 147. Reward = 146.0, Current epsilon = 0.001\n",
      "[EP  332] Done in Timestep 149. Reward = 148.0, Current epsilon = 0.001\n",
      "[EP  333] Done in Timestep 197. Reward = 196.0, Current epsilon = 0.001\n",
      "[EP  334] Done in Timestep 201. Reward = 200.0, Current epsilon = 0.001\n",
      "[EP  335] Done in Timestep 76. Reward = 75.0, Current epsilon = 0.001\n",
      "[EP  336] Done in Timestep 10. Reward = 9.0, Current epsilon = 0.001\n",
      "[EP  337] Done in Timestep 11. Reward = 10.0, Current epsilon = 0.001\n",
      "[EP  338] Done in Timestep 10. Reward = 9.0, Current epsilon = 0.001\n",
      "[EP  339] Done in Timestep 10. Reward = 9.0, Current epsilon = 0.001\n",
      "[EP  340] Done in Timestep 10. Reward = 9.0, Current epsilon = 0.001\n",
      "[EP  341] Done in Timestep 10. Reward = 9.0, Current epsilon = 0.001\n",
      "[EP  342] Done in Timestep 10. Reward = 9.0, Current epsilon = 0.001\n",
      "[EP  343] Done in Timestep 12. Reward = 11.0, Current epsilon = 0.001\n",
      "[EP  344] Done in Timestep 39. Reward = 38.0, Current epsilon = 0.001\n"
     ]
    },
    {
     "name": "stdout",
     "output_type": "stream",
     "text": [
      "[EP  345] Done in Timestep 11. Reward = 10.0, Current epsilon = 0.001\n",
      "[EP  346] Done in Timestep 11. Reward = 10.0, Current epsilon = 0.001\n",
      "[EP  347] Done in Timestep 12. Reward = 11.0, Current epsilon = 0.001\n",
      "[EP  348] Done in Timestep 201. Reward = 200.0, Current epsilon = 0.001\n",
      "[EP  349] Done in Timestep 201. Reward = 200.0, Current epsilon = 0.001\n",
      "[EP  350] Done in Timestep 201. Reward = 200.0, Current epsilon = 0.001\n",
      "[EP  351] Done in Timestep 201. Reward = 200.0, Current epsilon = 0.001\n",
      "[EP  352] Done in Timestep 201. Reward = 200.0, Current epsilon = 0.001\n",
      "[EP  353] Done in Timestep 201. Reward = 200.0, Current epsilon = 0.001\n",
      "[EP  354] Done in Timestep 201. Reward = 200.0, Current epsilon = 0.001\n",
      "[EP  355] Done in Timestep 201. Reward = 200.0, Current epsilon = 0.001\n",
      "[EP  356] Done in Timestep 201. Reward = 200.0, Current epsilon = 0.001\n",
      "[EP  357] Done in Timestep 201. Reward = 200.0, Current epsilon = 0.001\n",
      "[EP  358] Done in Timestep 201. Reward = 200.0, Current epsilon = 0.001\n",
      "[EP  359] Done in Timestep 201. Reward = 200.0, Current epsilon = 0.001\n",
      "[EP  360] Done in Timestep 201. Reward = 200.0, Current epsilon = 0.001\n",
      "[EP  361] Done in Timestep 201. Reward = 200.0, Current epsilon = 0.001\n",
      "[EP  362] Done in Timestep 201. Reward = 200.0, Current epsilon = 0.001\n",
      "[EP  363] Done in Timestep 201. Reward = 200.0, Current epsilon = 0.001\n",
      "[EP  364] Done in Timestep 201. Reward = 200.0, Current epsilon = 0.001\n",
      "[EP  365] Done in Timestep 201. Reward = 200.0, Current epsilon = 0.001\n",
      "[EP  366] Done in Timestep 201. Reward = 200.0, Current epsilon = 0.001\n",
      "[EP  367] Done in Timestep 201. Reward = 200.0, Current epsilon = 0.001\n",
      "[EP  368] Done in Timestep 201. Reward = 200.0, Current epsilon = 0.001\n",
      "[EP  369] Done in Timestep 201. Reward = 200.0, Current epsilon = 0.001\n",
      "[EP  370] Done in Timestep 201. Reward = 200.0, Current epsilon = 0.001\n",
      "[EP  371] Done in Timestep 95. Reward = 94.0, Current epsilon = 0.001\n",
      "[EP  372] Done in Timestep 201. Reward = 200.0, Current epsilon = 0.001\n",
      "[EP  373] Done in Timestep 105. Reward = 104.0, Current epsilon = 0.001\n",
      "[EP  374] Done in Timestep 67. Reward = 66.0, Current epsilon = 0.001\n",
      "[EP  375] Done in Timestep 54. Reward = 53.0, Current epsilon = 0.001\n",
      "[EP  376] Done in Timestep 25. Reward = 24.0, Current epsilon = 0.001\n",
      "[EP  377] Done in Timestep 10. Reward = 9.0, Current epsilon = 0.001\n",
      "[EP  378] Done in Timestep 11. Reward = 10.0, Current epsilon = 0.001\n",
      "[EP  379] Done in Timestep 10. Reward = 9.0, Current epsilon = 0.001\n",
      "[EP  380] Done in Timestep 9. Reward = 8.0, Current epsilon = 0.001\n",
      "[EP  381] Done in Timestep 11. Reward = 10.0, Current epsilon = 0.001\n",
      "[EP  382] Done in Timestep 133. Reward = 132.0, Current epsilon = 0.001\n",
      "[EP  383] Done in Timestep 142. Reward = 141.0, Current epsilon = 0.001\n",
      "[EP  384] Done in Timestep 110. Reward = 109.0, Current epsilon = 0.001\n",
      "[EP  385] Done in Timestep 96. Reward = 95.0, Current epsilon = 0.001\n",
      "[EP  386] Done in Timestep 102. Reward = 101.0, Current epsilon = 0.001\n",
      "[EP  387] Done in Timestep 87. Reward = 86.0, Current epsilon = 0.001\n",
      "[EP  388] Done in Timestep 81. Reward = 80.0, Current epsilon = 0.001\n",
      "[EP  389] Done in Timestep 87. Reward = 86.0, Current epsilon = 0.001\n",
      "[EP  390] Done in Timestep 71. Reward = 70.0, Current epsilon = 0.001\n",
      "[EP  391] Done in Timestep 71. Reward = 70.0, Current epsilon = 0.001\n",
      "[EP  392] Done in Timestep 71. Reward = 70.0, Current epsilon = 0.001\n",
      "[EP  393] Done in Timestep 69. Reward = 68.0, Current epsilon = 0.001\n",
      "[EP  394] Done in Timestep 62. Reward = 61.0, Current epsilon = 0.001\n",
      "[EP  395] Done in Timestep 70. Reward = 69.0, Current epsilon = 0.001\n",
      "[EP  396] Done in Timestep 65. Reward = 64.0, Current epsilon = 0.001\n",
      "[EP  397] Done in Timestep 59. Reward = 58.0, Current epsilon = 0.001\n",
      "[EP  398] Done in Timestep 67. Reward = 66.0, Current epsilon = 0.001\n",
      "[EP  399] Done in Timestep 56. Reward = 55.0, Current epsilon = 0.001\n",
      "[EP  400] Done in Timestep 56. Reward = 55.0, Current epsilon = 0.001\n",
      "[EP  401] Done in Timestep 63. Reward = 62.0, Current epsilon = 0.001\n",
      "[EP  402] Done in Timestep 62. Reward = 61.0, Current epsilon = 0.001\n",
      "[EP  403] Done in Timestep 92. Reward = 91.0, Current epsilon = 0.001\n",
      "[EP  404] Done in Timestep 53. Reward = 52.0, Current epsilon = 0.001\n",
      "[EP  405] Done in Timestep 54. Reward = 53.0, Current epsilon = 0.001\n",
      "[EP  406] Done in Timestep 57. Reward = 56.0, Current epsilon = 0.001\n",
      "[EP  407] Done in Timestep 53. Reward = 52.0, Current epsilon = 0.001\n",
      "[EP  408] Done in Timestep 103. Reward = 102.0, Current epsilon = 0.001\n",
      "[EP  409] Done in Timestep 97. Reward = 96.0, Current epsilon = 0.001\n",
      "[EP  410] Done in Timestep 97. Reward = 96.0, Current epsilon = 0.001\n",
      "[EP  411] Done in Timestep 103. Reward = 102.0, Current epsilon = 0.001\n",
      "[EP  412] Done in Timestep 102. Reward = 101.0, Current epsilon = 0.001\n",
      "[EP  413] Done in Timestep 108. Reward = 107.0, Current epsilon = 0.001\n",
      "[EP  414] Done in Timestep 112. Reward = 111.0, Current epsilon = 0.001\n",
      "[EP  415] Done in Timestep 115. Reward = 114.0, Current epsilon = 0.001\n",
      "[EP  416] Done in Timestep 110. Reward = 109.0, Current epsilon = 0.001\n",
      "[EP  417] Done in Timestep 106. Reward = 105.0, Current epsilon = 0.001\n",
      "[EP  418] Done in Timestep 117. Reward = 116.0, Current epsilon = 0.001\n",
      "[EP  419] Done in Timestep 112. Reward = 111.0, Current epsilon = 0.001\n",
      "[EP  420] Done in Timestep 114. Reward = 113.0, Current epsilon = 0.001\n",
      "[EP  421] Done in Timestep 114. Reward = 113.0, Current epsilon = 0.001\n",
      "[EP  422] Done in Timestep 117. Reward = 116.0, Current epsilon = 0.001\n",
      "[EP  423] Done in Timestep 113. Reward = 112.0, Current epsilon = 0.001\n",
      "[EP  424] Done in Timestep 122. Reward = 121.0, Current epsilon = 0.001\n",
      "[EP  425] Done in Timestep 128. Reward = 127.0, Current epsilon = 0.001\n",
      "[EP  426] Done in Timestep 123. Reward = 122.0, Current epsilon = 0.001\n",
      "[EP  427] Done in Timestep 134. Reward = 133.0, Current epsilon = 0.001\n",
      "[EP  428] Done in Timestep 131. Reward = 130.0, Current epsilon = 0.001\n",
      "[EP  429] Done in Timestep 139. Reward = 138.0, Current epsilon = 0.001\n",
      "[EP  430] Done in Timestep 154. Reward = 153.0, Current epsilon = 0.001\n",
      "[EP  431] Done in Timestep 157. Reward = 156.0, Current epsilon = 0.001\n",
      "[EP  432] Done in Timestep 201. Reward = 200.0, Current epsilon = 0.001\n",
      "[EP  433] Done in Timestep 201. Reward = 200.0, Current epsilon = 0.001\n",
      "[EP  434] Done in Timestep 13. Reward = 12.0, Current epsilon = 0.001\n",
      "[EP  435] Done in Timestep 9. Reward = 8.0, Current epsilon = 0.001\n",
      "[EP  436] Done in Timestep 10. Reward = 9.0, Current epsilon = 0.001\n",
      "[EP  437] Done in Timestep 11. Reward = 10.0, Current epsilon = 0.001\n",
      "[EP  438] Done in Timestep 10. Reward = 9.0, Current epsilon = 0.001\n",
      "[EP  439] Done in Timestep 10. Reward = 9.0, Current epsilon = 0.001\n",
      "[EP  440] Done in Timestep 10. Reward = 9.0, Current epsilon = 0.001\n",
      "[EP  441] Done in Timestep 11. Reward = 10.0, Current epsilon = 0.001\n",
      "[EP  442] Done in Timestep 10. Reward = 9.0, Current epsilon = 0.001\n",
      "[EP  443] Done in Timestep 11. Reward = 10.0, Current epsilon = 0.001\n",
      "[EP  444] Done in Timestep 10. Reward = 9.0, Current epsilon = 0.001\n",
      "[EP  445] Done in Timestep 9. Reward = 8.0, Current epsilon = 0.001\n",
      "[EP  446] Done in Timestep 10. Reward = 9.0, Current epsilon = 0.001\n",
      "[EP  447] Done in Timestep 12. Reward = 11.0, Current epsilon = 0.001\n",
      "[EP  448] Done in Timestep 10. Reward = 9.0, Current epsilon = 0.001\n",
      "[EP  449] Done in Timestep 12. Reward = 11.0, Current epsilon = 0.001\n",
      "[EP  450] Done in Timestep 14. Reward = 13.0, Current epsilon = 0.001\n",
      "[EP  451] Done in Timestep 59. Reward = 58.0, Current epsilon = 0.001\n",
      "[EP  452] Done in Timestep 12. Reward = 11.0, Current epsilon = 0.001\n",
      "[EP  453] Done in Timestep 10. Reward = 9.0, Current epsilon = 0.001\n",
      "[EP  454] Done in Timestep 11. Reward = 10.0, Current epsilon = 0.001\n",
      "[EP  455] Done in Timestep 10. Reward = 9.0, Current epsilon = 0.001\n",
      "[EP  456] Done in Timestep 10. Reward = 9.0, Current epsilon = 0.001\n",
      "[EP  457] Done in Timestep 11. Reward = 10.0, Current epsilon = 0.001\n",
      "[EP  458] Done in Timestep 11. Reward = 10.0, Current epsilon = 0.001\n",
      "[EP  459] Done in Timestep 11. Reward = 10.0, Current epsilon = 0.001\n",
      "[EP  460] Done in Timestep 11. Reward = 10.0, Current epsilon = 0.001\n",
      "[EP  461] Done in Timestep 11. Reward = 10.0, Current epsilon = 0.001\n",
      "[EP  462] Done in Timestep 11. Reward = 10.0, Current epsilon = 0.001\n",
      "[EP  463] Done in Timestep 10. Reward = 9.0, Current epsilon = 0.001\n",
      "[EP  464] Done in Timestep 10. Reward = 9.0, Current epsilon = 0.001\n",
      "[EP  465] Done in Timestep 10. Reward = 9.0, Current epsilon = 0.001\n",
      "[EP  466] Done in Timestep 10. Reward = 9.0, Current epsilon = 0.001\n",
      "[EP  467] Done in Timestep 10. Reward = 9.0, Current epsilon = 0.001\n",
      "[EP  468] Done in Timestep 11. Reward = 10.0, Current epsilon = 0.001\n",
      "[EP  469] Done in Timestep 12. Reward = 11.0, Current epsilon = 0.001\n"
     ]
    },
    {
     "name": "stdout",
     "output_type": "stream",
     "text": [
      "[EP  470] Done in Timestep 10. Reward = 9.0, Current epsilon = 0.001\n",
      "[EP  471] Done in Timestep 13. Reward = 12.0, Current epsilon = 0.001\n",
      "[EP  472] Done in Timestep 13. Reward = 12.0, Current epsilon = 0.001\n",
      "[EP  473] Done in Timestep 11. Reward = 10.0, Current epsilon = 0.001\n",
      "[EP  474] Done in Timestep 16. Reward = 15.0, Current epsilon = 0.001\n",
      "[EP  475] Done in Timestep 22. Reward = 21.0, Current epsilon = 0.001\n",
      "[EP  476] Done in Timestep 177. Reward = 176.0, Current epsilon = 0.001\n",
      "[EP  477] Done in Timestep 201. Reward = 200.0, Current epsilon = 0.001\n",
      "[EP  478] Done in Timestep 201. Reward = 200.0, Current epsilon = 0.001\n",
      "[EP  479] Done in Timestep 165. Reward = 164.0, Current epsilon = 0.001\n",
      "[EP  480] Done in Timestep 130. Reward = 129.0, Current epsilon = 0.001\n",
      "[EP  481] Done in Timestep 121. Reward = 120.0, Current epsilon = 0.001\n",
      "[EP  482] Done in Timestep 78. Reward = 77.0, Current epsilon = 0.001\n",
      "[EP  483] Done in Timestep 64. Reward = 63.0, Current epsilon = 0.001\n",
      "[EP  484] Done in Timestep 51. Reward = 50.0, Current epsilon = 0.001\n",
      "[EP  485] Done in Timestep 49. Reward = 48.0, Current epsilon = 0.001\n",
      "[EP  486] Done in Timestep 45. Reward = 44.0, Current epsilon = 0.001\n",
      "[EP  487] Done in Timestep 45. Reward = 44.0, Current epsilon = 0.001\n",
      "[EP  488] Done in Timestep 35. Reward = 34.0, Current epsilon = 0.001\n",
      "[EP  489] Done in Timestep 37. Reward = 36.0, Current epsilon = 0.001\n",
      "[EP  490] Done in Timestep 44. Reward = 43.0, Current epsilon = 0.001\n",
      "[EP  491] Done in Timestep 38. Reward = 37.0, Current epsilon = 0.001\n",
      "[EP  492] Done in Timestep 55. Reward = 54.0, Current epsilon = 0.001\n",
      "[EP  493] Done in Timestep 45. Reward = 44.0, Current epsilon = 0.001\n",
      "[EP  494] Done in Timestep 43. Reward = 42.0, Current epsilon = 0.001\n",
      "[EP  495] Done in Timestep 50. Reward = 49.0, Current epsilon = 0.001\n",
      "[EP  496] Done in Timestep 44. Reward = 43.0, Current epsilon = 0.001\n",
      "[EP  497] Done in Timestep 57. Reward = 56.0, Current epsilon = 0.001\n",
      "[EP  498] Done in Timestep 54. Reward = 53.0, Current epsilon = 0.001\n",
      "[EP  499] Done in Timestep 42. Reward = 41.0, Current epsilon = 0.001\n"
     ]
    }
   ],
   "source": [
    "n_episode = 500\n",
    "eps = 1.0\n",
    "eps_min = 0.001\n",
    "eps_decay = 0.997\n",
    "batch_size = 64\n",
    "gamma = 0.99 # discount factor\n",
    "memory_size = 1000\n",
    "device = torch.device(\"cuda\")\n",
    "\n",
    "memory = ReplayMemory(maxlen=memory_size, device=device)\n",
    "net = DQN(env.observation_space.shape[0], env.action_space.n).to(device)\n",
    "optimizer = torch.optim.Adam(net.parameters(), lr=0.001)\n",
    "\n",
    "losses = []\n",
    "rewards = []\n",
    "\n",
    "for episode in range(n_episode):\n",
    "    state = env.reset()\n",
    "    done = False\n",
    "    t = 0\n",
    "    total_reward = 0\n",
    "    while not done:\n",
    "        t += 1\n",
    "        if np.random.rand() <= eps:\n",
    "            # random move\n",
    "            action = env.action_space.sample()\n",
    "        else:\n",
    "            action = net.act(torch.FloatTensor(state).to(device))\n",
    "        \n",
    "        next_state, reward, done, info = env.step(action)\n",
    "        total_reward += reward\n",
    "        \n",
    "        memory.append((state, action, reward, next_state, done))\n",
    "        \n",
    "        # training\n",
    "        if len(memory) >= batch_size:\n",
    "            td_error = calc_td_error(memory, batch_size, gamma)\n",
    "#             loss = torch.mean(torch.abs(td_error))\n",
    "            loss = torch.mean(td_error ** 2)\n",
    "\n",
    "            optimizer.zero_grad()\n",
    "            loss.backward()\n",
    "            optimizer.step()\n",
    "            \n",
    "            losses.append(loss.item())\n",
    "        \n",
    "        # prepare next iteration\n",
    "        state = next_state\n",
    "        eps = max(eps * eps_decay, eps_min)\n",
    "    \n",
    "    print(\"[EP {:4d}] Done in Timestep {}. Reward = {}, Current epsilon = {}\".format(episode, t+1, total_reward, eps))\n",
    "    rewards.append(total_reward)"
   ]
  },
  {
   "cell_type": "code",
   "execution_count": 20,
   "metadata": {
    "scrolled": true
   },
   "outputs": [
    {
     "data": {
      "text/plain": [
       "[<matplotlib.lines.Line2D at 0x7f36940c1fd0>]"
      ]
     },
     "execution_count": 20,
     "metadata": {},
     "output_type": "execute_result"
    },
    {
     "data": {
      "image/png": "[encoded data removed]",
      "text/plain": [
       "<matplotlib.figure.Figure at 0x7f36950dfcf8>"
      ]
     },
     "metadata": {},
     "output_type": "display_data"
    }
   ],
   "source": [
    "plt.plot(losses)"
   ]
  },
  {
   "cell_type": "code",
   "execution_count": 21,
   "metadata": {},
   "outputs": [
    {
     "data": {
      "text/plain": [
       "[<matplotlib.lines.Line2D at 0x7f36940af0b8>]"
      ]
     },
     "execution_count": 21,
     "metadata": {},
     "output_type": "execute_result"
    },
    {
     "data": {
      "image/png": "[encoded data removed]",
      "text/plain": [
       "<matplotlib.figure.Figure at 0x7f36950bada0>"
      ]
     },
     "metadata": {},
     "output_type": "display_data"
    }
   ],
   "source": [
    "plt.plot(rewards)"
   ]
  },
  {
   "cell_type": "code",
   "execution_count": 14,
   "metadata": {
    "collapsed": true
   },
   "outputs": [],
   "source": [
    "ls = np.array(losses)"
   ]
  },
  {
   "cell_type": "code",
   "execution_count": 15,
   "metadata": {},
   "outputs": [
    {
     "data": {
      "text/plain": [
       "array([1.11173652e+04, 1.00308457e+04, 1.07197900e+04, ...,\n",
       "       1.23072781e+09, 1.23881242e+09, 1.26926938e+09])"
      ]
     },
     "execution_count": 15,
     "metadata": {},
     "output_type": "execute_result"
    }
   ],
   "source": [
    "ls[ls > 10000]"
   ]
  },
  {
   "cell_type": "code",
   "execution_count": 16,
   "metadata": {},
   "outputs": [
    {
     "data": {
      "text/plain": [
       "tensor([  464020544.,   525897728.,   482445696.,   471271424.,   499907584.,\n",
       "          494251776., -5248251392.,   490851456.,   534599936.,   508667648.,\n",
       "          486620160.,   543759872.,   530984448.,   482119680.,   514008064.,\n",
       "          500360448., -5847033856.,   550514688.,   494404096.,   483649152.,\n",
       "          467017408.,   527798016.,   493265920.,   503575296.,   548934656.,\n",
       "        -5728592896.,   509581568.,   464835776.,   474407424.,   521363712.,\n",
       "          478313984.,   534998016.,   525963264.,   493194240.,   536891904.,\n",
       "          479909120.,   488288768.,   532385280.,   483284416.,   469952384.,\n",
       "          525641216., -5334137856.,   502676480.,   472593280.,   508629760.,\n",
       "          500539648., -5783218688.,   478150912., -5342231552.,   504084224.,\n",
       "          511115264.,   491522304.,   483213056., -4937254912., -5260265472.,\n",
       "          503189504.,   466272896.,   539664384., -5464582144., -5232053248.,\n",
       "          477940160.,   478162688.,   547303936.,   472629056.],\n",
       "       device='cuda:0', grad_fn=<ThSubBackward>)"
      ]
     },
     "execution_count": 16,
     "metadata": {},
     "output_type": "execute_result"
    }
   ],
   "source": [
    "td_error"
   ]
  },
  {
   "cell_type": "code",
   "execution_count": 17,
   "metadata": {},
   "outputs": [
    {
     "data": {
      "text/plain": [
       "tensor([ 464020544.,  525897728.,  482445696.,  471271424.,  499907584.,\n",
       "         494251776., 5248251392.,  490851456.,  534599936.,  508667648.,\n",
       "         486620160.,  543759872.,  530984448.,  482119680.,  514008064.,\n",
       "         500360448., 5847033856.,  550514688.,  494404096.,  483649152.,\n",
       "         467017408.,  527798016.,  493265920.,  503575296.,  548934656.,\n",
       "        5728592896.,  509581568.,  464835776.,  474407424.,  521363712.,\n",
       "         478313984.,  534998016.,  525963264.,  493194240.,  536891904.,\n",
       "         479909120.,  488288768.,  532385280.,  483284416.,  469952384.,\n",
       "         525641216., 5334137856.,  502676480.,  472593280.,  508629760.,\n",
       "         500539648., 5783218688.,  478150912., 5342231552.,  504084224.,\n",
       "         511115264.,  491522304.,  483213056., 4937254912., 5260265472.,\n",
       "         503189504.,  466272896.,  539664384., 5464582144., 5232053248.,\n",
       "         477940160.,  478162688.,  547303936.,  472629056.],\n",
       "       device='cuda:0', grad_fn=<AbsBackward>)"
      ]
     },
     "execution_count": 17,
     "metadata": {},
     "output_type": "execute_result"
    }
   ],
   "source": [
    "torch.abs(td_error)"
   ]
  },
  {
   "cell_type": "code",
   "execution_count": 18,
   "metadata": {},
   "outputs": [
    {
     "data": {
      "text/plain": [
       "tensor([  215315059964903424.,   276568423251574784.,   232753846957375488.,\n",
       "          222096761785679872.,   249907585560346624.,   244284820534853632.,\n",
       "        27544142864346775552.,   240935158360834048.,   285797088199966720.,\n",
       "          258742779964817408.,   236799173574262784.,   295674791426260992.,\n",
       "          281944485355585536.,   232439386631831552.,   264204294738149376.,\n",
       "          250360584350990336., 34187805535741411328.,   303066430142676992.,\n",
       "          244435402088251392.,   233916494604402688.,   218105259698946048.,\n",
       "          278570754184839168.,   243311271707934720.,   253588080475242496.,\n",
       "          301329270490267648., 32816776108555894784.,   259673379118776320.,\n",
       "          216072297058926592.,   225062402343829504.,   271820113567547392.,\n",
       "          228784266383720448.,   286222874077822976.,   276637348886740992.,\n",
       "          243240559366373376.,   288252916140081152.,   230312759345020928.,\n",
       "          238425918207426560.,   283434083093053440.,   233563826249793536.,\n",
       "          220855241359228928.,   276298682125516800., 28453027763168739328.,\n",
       "          252683646262050816.,   223344415425429504.,   258704228338368512.,\n",
       "          250539942185271296., 33445617594806566912.,   228628290351398912.,\n",
       "        28539438381995655168.,   254100899570384896.,   261238808798822400.,\n",
       "          241594178142732288.,   233494849075019776., 24376485049096208384.,\n",
       "        27670393187494526976.,   253199677992730624.,   217410419889799168.,\n",
       "          291237643532894208., 29861658289000939520., 27374380468041416704.,\n",
       "          228426804845608960.,   228639560345583616.,   299541602022457344.,\n",
       "          223378225407983616.], device='cuda:0', grad_fn=<PowBackward0>)"
      ]
     },
     "execution_count": 18,
     "metadata": {},
     "output_type": "execute_result"
    }
   ],
   "source": [
    "td_error ** 2"
   ]
  },
  {
   "cell_type": "code",
   "execution_count": null,
   "metadata": {
    "collapsed": true
   },
   "outputs": [],
   "source": []
  }
 ],
 "metadata": {
  "kernelspec": {
   "display_name": "py36",
   "language": "python",
   "name": "py36"
  },
  "language_info": {
   "codemirror_mode": {
    "name": "ipython",
    "version": 3
   },
   "file_extension": ".py",
   "mimetype": "text/x-python",
   "name": "python",
   "nbconvert_exporter": "python",
   "pygments_lexer": "ipython3",
   "version": "3.6.3"
  }
 },
 "nbformat": 4,
 "nbformat_minor": 2
}
